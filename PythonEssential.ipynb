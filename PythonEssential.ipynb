{
  "cells": [
    {
      "cell_type": "code",
      "execution_count": 12,
      "id": "9992bee6",
      "metadata": {
        "colab": {
          "base_uri": "https://localhost:8080/"
        },
        "id": "9992bee6",
        "outputId": "56bd966d-a3f4-45b1-9a27-c9d4753741f3"
      },
      "outputs": [
        {
          "output_type": "stream",
          "name": "stdout",
          "text": [
            "Hissssss.....\n"
          ]
        }
      ],
      "source": [
        "print('Hissssss.....')"
      ]
    },
    {
      "cell_type": "code",
      "execution_count": 15,
      "id": "6fefbcdd",
      "metadata": {
        "colab": {
          "base_uri": "https://localhost:8080/"
        },
        "id": "6fefbcdd",
        "outputId": "ae1f32a5-e5c5-45a3-a499-8b1104f325f6"
      },
      "outputs": [
        {
          "output_type": "stream",
          "name": "stdout",
          "text": [
            "roar\n",
            "oink! oink! \n",
            "meow\n",
            "moo moo moo \n"
          ]
        }
      ],
      "source": [
        "print('roar')\n",
        "print(\"oink! \"*2)\n",
        "print(\"meow\")\n",
        "print(\"moo \" * 3)"
      ]
    },
    {
      "cell_type": "code",
      "source": [
        "print('Hissssss.....'"
      ],
      "metadata": {
        "colab": {
          "base_uri": "https://localhost:8080/",
          "height": 105
        },
        "id": "Sh4XaP0KACB0",
        "outputId": "b6d943c4-f74f-4f17-f214-72cc608fbf08"
      },
      "id": "Sh4XaP0KACB0",
      "execution_count": 17,
      "outputs": [
        {
          "output_type": "error",
          "ename": "SyntaxError",
          "evalue": "incomplete input (<ipython-input-17-bf0e8a1b2a1e>, line 1)",
          "traceback": [
            "\u001b[0;36m  File \u001b[0;32m\"<ipython-input-17-bf0e8a1b2a1e>\"\u001b[0;36m, line \u001b[0;32m1\u001b[0m\n\u001b[0;31m    print('Hissssss.....'\u001b[0m\n\u001b[0m                         ^\u001b[0m\n\u001b[0;31mSyntaxError\u001b[0m\u001b[0;31m:\u001b[0m incomplete input\n"
          ]
        }
      ]
    },
    {
      "cell_type": "code",
      "source": [
        "prin(\"moo \"*3)"
      ],
      "metadata": {
        "colab": {
          "base_uri": "https://localhost:8080/",
          "height": 139
        },
        "id": "6WGhKPsz_9vt",
        "outputId": "adf6c43d-c7a0-4e93-d3a4-95fb0f89d0a8"
      },
      "id": "6WGhKPsz_9vt",
      "execution_count": 16,
      "outputs": [
        {
          "output_type": "error",
          "ename": "NameError",
          "evalue": "name 'prin' is not defined",
          "traceback": [
            "\u001b[0;31m---------------------------------------------------------------------------\u001b[0m",
            "\u001b[0;31mNameError\u001b[0m                                 Traceback (most recent call last)",
            "\u001b[0;32m<ipython-input-16-41477295f0ba>\u001b[0m in \u001b[0;36m<cell line: 1>\u001b[0;34m()\u001b[0m\n\u001b[0;32m----> 1\u001b[0;31m \u001b[0mprin\u001b[0m\u001b[0;34m(\u001b[0m\u001b[0;34m\"moo \"\u001b[0m\u001b[0;34m*\u001b[0m\u001b[0;36m3\u001b[0m\u001b[0;34m)\u001b[0m\u001b[0;34m\u001b[0m\u001b[0;34m\u001b[0m\u001b[0m\n\u001b[0m",
            "\u001b[0;31mNameError\u001b[0m: name 'prin' is not defined"
          ]
        }
      ]
    },
    {
      "cell_type": "code",
      "source": [
        "print(Hissssss.....')"
      ],
      "metadata": {
        "colab": {
          "base_uri": "https://localhost:8080/",
          "height": 105
        },
        "id": "jVA7YE2iAF7e",
        "outputId": "621c1c35-7018-4fce-d83a-150b92576683"
      },
      "id": "jVA7YE2iAF7e",
      "execution_count": 18,
      "outputs": [
        {
          "output_type": "error",
          "ename": "SyntaxError",
          "evalue": "unterminated string literal (detected at line 1) (<ipython-input-18-0e0719644ce3>, line 1)",
          "traceback": [
            "\u001b[0;36m  File \u001b[0;32m\"<ipython-input-18-0e0719644ce3>\"\u001b[0;36m, line \u001b[0;32m1\u001b[0m\n\u001b[0;31m    print(Hissssss.....')\u001b[0m\n\u001b[0m                       ^\u001b[0m\n\u001b[0;31mSyntaxError\u001b[0m\u001b[0;31m:\u001b[0m unterminated string literal (detected at line 1)\n"
          ]
        }
      ]
    }
  ],
  "metadata": {
    "kernelspec": {
      "display_name": "Python 3 (ipykernel)",
      "language": "python",
      "name": "python3"
    },
    "language_info": {
      "codemirror_mode": {
        "name": "ipython",
        "version": 3
      },
      "file_extension": ".py",
      "mimetype": "text/x-python",
      "name": "python",
      "nbconvert_exporter": "python",
      "pygments_lexer": "ipython3",
      "version": "3.11.5"
    },
    "colab": {
      "provenance": []
    }
  },
  "nbformat": 4,
  "nbformat_minor": 5
}