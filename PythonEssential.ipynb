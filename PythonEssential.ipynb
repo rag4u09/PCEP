{
  "cells": [
    {
      "cell_type": "markdown",
      "source": [
        "# Module 2"
      ],
      "metadata": {
        "id": "wNMsQu1JAxNr"
      },
      "id": "wNMsQu1JAxNr"
    },
    {
      "cell_type": "code",
      "source": [
        "#The way in which we are passing the arguments into the print() function is the most common in Python,\n",
        "#and is called the positional way (this name comes from the fact that the meaning of the argument is dictated by its position,\n",
        "#e.g., the second argument will be outputted after the first, not the other way round).\n",
        "print(\"The itsy bitsy spider\" , \"climbed up\" , \"the waterspout.\")\n",
        "print(\"My name is\", \"Python.\")\n",
        "print(\"Monty Python.\")"
      ],
      "metadata": {
        "colab": {
          "base_uri": "https://localhost:8080/"
        },
        "id": "BbRIPT45CVHw",
        "outputId": "2eba40e4-a850-4dd6-9f5b-839a734e5892"
      },
      "id": "BbRIPT45CVHw",
      "execution_count": 6,
      "outputs": [
        {
          "output_type": "stream",
          "name": "stdout",
          "text": [
            "The itsy bitsy spider climbed up the waterspout.\n",
            "My name is Python.\n",
            "Monty Python.\n"
          ]
        }
      ]
    },
    {
      "cell_type": "code",
      "source": [
        "#keyword arguments. The name stems from the fact that the meaning of these arguments is taken not from its location (position)\n",
        "#but from the special word (keyword) used to identify them.\n",
        "print(\"My name is \", end=\"\")\n",
        "print(\"Monty Python.\")\n",
        "print(\"My\", \"name\", \"is\", \"Monty\", \"Python.\", sep=\"-\")\n",
        "print(\"My\", \"name\", \"is\", sep=\"_\", end=\"*\")\n",
        "print(\"Monty\", \"Python.\", sep=\"*\", end=\"*\\n\")\n",
        "#The default behavior reflects the situation where the end keyword argument is implicitly used in the following way: end=\"\\n\"."
      ],
      "metadata": {
        "colab": {
          "base_uri": "https://localhost:8080/"
        },
        "id": "RWgRgXW8Btxw",
        "outputId": "a2f77100-cf6f-4181-a2c8-1a519992642a"
      },
      "id": "RWgRgXW8Btxw",
      "execution_count": 2,
      "outputs": [
        {
          "output_type": "stream",
          "name": "stdout",
          "text": [
            "My_name_is*Monty*Python.*\n"
          ]
        }
      ]
    },
    {
      "cell_type": "markdown",
      "source": [
        "1. The print() function is a built-in function. It prints/outputs a specified message to the screen/console window.\n",
        "\n",
        "2. Built-in functions, contrary to user-defined functions, are always available and don't have to be imported. Python 3.8 comes with 69 built-in functions. You can find their full list provided in alphabetical order in the Python Standard Library.\n",
        "\n",
        "3. To call a function (this process is known as function invocation or function call), you need to use the function name followed by parentheses. You can pass arguments into a function by placing them inside the parentheses. You must separate arguments with a comma, e.g., print(\"Hello,\", \"world!\"). An \"empty\" print() function outputs an empty line to the screen.\n",
        "\n",
        "4. Python strings are delimited with quotes, e.g., \"I am a string\" (double quotes), or 'I am a string, too' (single quotes).\n",
        "\n",
        "5. Computer programs are collections of instructions. An instruction is a command to perform a specific task when executed, e.g., to print a certain message to the screen.\n",
        "\n",
        "6. In Python strings the backslash (\\) is a special character which announces that the next character has a different meaning, e.g., \\n (the newline character) starts a new output line.\n",
        "\n",
        "7. Positional arguments are the ones whose meaning is dictated by their position, e.g., the second argument is outputted after the first, the third is outputted after the second, etc.\n",
        "\n",
        "8. Keyword arguments are the ones whose meaning is not dictated by their location, but by a special word (keyword) used to identify them.\n",
        "\n",
        "9. The end and sep parameters can be used for formatting the output of the print() function. The sep parameter specifies the separator between the outputted arguments, e.g., print(\"H\", \"E\", \"L\", \"L\", \"O\", sep=\"-\"), whereas the end parameter specifies what to print at the end of the print statement.\n"
      ],
      "metadata": {
        "id": "3m0HrEx7BRtd"
      },
      "id": "3m0HrEx7BRtd"
    },
    {
      "cell_type": "code",
      "source": [
        "print(\"H\", \"E\", \"L\", \"L\", \"O\", sep=\"-\")"
      ],
      "metadata": {
        "colab": {
          "base_uri": "https://localhost:8080/"
        },
        "id": "A7S-tN1lBJX2",
        "outputId": "fe7d50ed-a009-429e-8a81-bc5c3cb9b7a1"
      },
      "id": "A7S-tN1lBJX2",
      "execution_count": 1,
      "outputs": [
        {
          "output_type": "stream",
          "name": "stdout",
          "text": [
            "H-E-L-L-O\n"
          ]
        }
      ]
    },
    {
      "cell_type": "markdown",
      "source": [
        "Try to:\n",
        "\n",
        "minimize the number of print() function invocations by inserting the \\n sequence into the strings\n",
        "make the arrow twice as large (but keep the proportions)\n",
        "duplicate the arrow, placing both arrows side by side; note: a string may be multiplied by using the following trick: \"string\" * 2 will produce \"stringstring\" (we'll tell you more about it soon)\n",
        "remove any of the quotes, and look carefully at Python's response; pay attention to where Python sees an error - is this the place where the error really exists?\n",
        "do the same with some of the parentheses;\n",
        "change any of the print words into something else, differing only in case (e.g., Print) - what happens now?\n",
        "replace some of the quotes with apostrophes; watch what happens carefully."
      ],
      "metadata": {
        "id": "8xLQMJwlBhyb"
      },
      "id": "8xLQMJwlBhyb"
    },
    {
      "cell_type": "code",
      "source": [
        "print(\"    *\")\n",
        "print(\"   * *\")\n",
        "print(\"  *   *\")\n",
        "print(\" *     *\")\n",
        "print(\"***   ***\")\n",
        "print(\"  *   *\")\n",
        "print(\"  *   *\")\n",
        "print(\"  *****\")"
      ],
      "metadata": {
        "colab": {
          "base_uri": "https://localhost:8080/"
        },
        "id": "mT6-ZoOLBlo9",
        "outputId": "10168dad-a787-445e-c7a4-21b8285e6d03"
      },
      "id": "mT6-ZoOLBlo9",
      "execution_count": 3,
      "outputs": [
        {
          "output_type": "stream",
          "name": "stdout",
          "text": [
            "    *\n",
            "   * *\n",
            "  *   *\n",
            " *     *\n",
            "***   ***\n",
            "  *   *\n",
            "  *   *\n",
            "  *****\n"
          ]
        }
      ]
    },
    {
      "cell_type": "code",
      "source": [
        "print(\"    *     \"*5)\n",
        "print(\"   * *.   \"*5)\n",
        "print(\"  *   *   \"*5)\n",
        "print(\" *     *  \"*5)\n",
        "print(\"***   *** \"*5)\n",
        "print(\"  *   *   \"*5)\n",
        "print(\"  *   *   \"*5)\n",
        "print(\"  *****   \"*5)"
      ],
      "metadata": {
        "colab": {
          "base_uri": "https://localhost:8080/"
        },
        "id": "bpt2q_PeB9Ra",
        "outputId": "68029b2b-fdaf-4fd6-fcb1-6593af87b3a1"
      },
      "id": "bpt2q_PeB9Ra",
      "execution_count": 4,
      "outputs": [
        {
          "output_type": "stream",
          "name": "stdout",
          "text": [
            "    *         *         *         *         *     \n",
            "   * *.      * *.      * *.      * *.      * *.   \n",
            "  *   *     *   *     *   *     *   *     *   *   \n",
            " *     *   *     *   *     *   *     *   *     *  \n",
            "***   *** ***   *** ***   *** ***   *** ***   *** \n",
            "  *   *     *   *     *   *     *   *     *   *   \n",
            "  *   *     *   *     *   *     *   *     *   *   \n",
            "  *****     *****     *****     *****     *****   \n"
          ]
        }
      ]
    },
    {
      "cell_type": "code",
      "source": [
        "#A literal is data whose values are determined by the literal itself.\n",
        "print(123)  #integer\n",
        "print(98.6)  #float\n",
        "print(1_2_3)  #integer _ is used as seprator and is allowed\n",
        "print('Hello world')  #string\n",
        "print(\"Hello world\")  #string\n",
        "print(True)  #boolean\n",
        "print(False)  #boolean"
      ],
      "metadata": {
        "id": "fldCGhiWDGlw",
        "outputId": "3cfcd577-de21-4f8a-fb03-6eabe4a1de39",
        "colab": {
          "base_uri": "https://localhost:8080/"
        }
      },
      "id": "fldCGhiWDGlw",
      "execution_count": 10,
      "outputs": [
        {
          "output_type": "stream",
          "name": "stdout",
          "text": [
            "123\n",
            "98.6\n",
            "123\n",
            "Hello world\n",
            "Hello world\n",
            "True\n",
            "False\n"
          ]
        }
      ]
    },
    {
      "cell_type": "code",
      "source": [
        "#If an integer number is preceded by an 0O or 0o prefix (zero-o), it will be treated as an octal value.\n",
        "print(0o123)   #integer\n",
        "#If an integer number is preceded by the prefix 0x or 0X (zero-x), it will be treated as an hexadecimal value.\n",
        "print(0x123)  #integer"
      ],
      "metadata": {
        "id": "bq-PgDplD4-Z",
        "outputId": "799fe68e-984c-4856-b2fa-f9d12ef1caf6",
        "colab": {
          "base_uri": "https://localhost:8080/"
        }
      },
      "id": "bq-PgDplD4-Z",
      "execution_count": 9,
      "outputs": [
        {
          "output_type": "stream",
          "name": "stdout",
          "text": [
            "83\n",
            "291\n"
          ]
        }
      ]
    },
    {
      "cell_type": "markdown",
      "source": [
        "# Module 1"
      ],
      "metadata": {
        "id": "OtqIYXYVAhRY"
      },
      "id": "OtqIYXYVAhRY"
    },
    {
      "cell_type": "code",
      "execution_count": null,
      "id": "9992bee6",
      "metadata": {
        "colab": {
          "base_uri": "https://localhost:8080/"
        },
        "id": "9992bee6",
        "outputId": "56bd966d-a3f4-45b1-9a27-c9d4753741f3"
      },
      "outputs": [
        {
          "output_type": "stream",
          "name": "stdout",
          "text": [
            "Hissssss.....\n"
          ]
        }
      ],
      "source": [
        "print('Hissssss.....')"
      ]
    },
    {
      "cell_type": "code",
      "execution_count": null,
      "id": "6fefbcdd",
      "metadata": {
        "colab": {
          "base_uri": "https://localhost:8080/"
        },
        "id": "6fefbcdd",
        "outputId": "ae1f32a5-e5c5-45a3-a499-8b1104f325f6"
      },
      "outputs": [
        {
          "output_type": "stream",
          "name": "stdout",
          "text": [
            "roar\n",
            "oink! oink! \n",
            "meow\n",
            "moo moo moo \n"
          ]
        }
      ],
      "source": [
        "print('roar')\n",
        "print(\"oink! \"*2)\n",
        "print(\"meow\")\n",
        "print(\"moo \" * 3)"
      ]
    },
    {
      "cell_type": "code",
      "source": [
        "print('Hissssss.....'"
      ],
      "metadata": {
        "colab": {
          "base_uri": "https://localhost:8080/",
          "height": 105
        },
        "id": "Sh4XaP0KACB0",
        "outputId": "b6d943c4-f74f-4f17-f214-72cc608fbf08"
      },
      "id": "Sh4XaP0KACB0",
      "execution_count": null,
      "outputs": [
        {
          "output_type": "error",
          "ename": "SyntaxError",
          "evalue": "incomplete input (<ipython-input-17-bf0e8a1b2a1e>, line 1)",
          "traceback": [
            "\u001b[0;36m  File \u001b[0;32m\"<ipython-input-17-bf0e8a1b2a1e>\"\u001b[0;36m, line \u001b[0;32m1\u001b[0m\n\u001b[0;31m    print('Hissssss.....'\u001b[0m\n\u001b[0m                         ^\u001b[0m\n\u001b[0;31mSyntaxError\u001b[0m\u001b[0;31m:\u001b[0m incomplete input\n"
          ]
        }
      ]
    },
    {
      "cell_type": "code",
      "source": [
        "prin(\"moo \"*3)"
      ],
      "metadata": {
        "colab": {
          "base_uri": "https://localhost:8080/",
          "height": 139
        },
        "id": "6WGhKPsz_9vt",
        "outputId": "adf6c43d-c7a0-4e93-d3a4-95fb0f89d0a8"
      },
      "id": "6WGhKPsz_9vt",
      "execution_count": null,
      "outputs": [
        {
          "output_type": "error",
          "ename": "NameError",
          "evalue": "name 'prin' is not defined",
          "traceback": [
            "\u001b[0;31m---------------------------------------------------------------------------\u001b[0m",
            "\u001b[0;31mNameError\u001b[0m                                 Traceback (most recent call last)",
            "\u001b[0;32m<ipython-input-16-41477295f0ba>\u001b[0m in \u001b[0;36m<cell line: 1>\u001b[0;34m()\u001b[0m\n\u001b[0;32m----> 1\u001b[0;31m \u001b[0mprin\u001b[0m\u001b[0;34m(\u001b[0m\u001b[0;34m\"moo \"\u001b[0m\u001b[0;34m*\u001b[0m\u001b[0;36m3\u001b[0m\u001b[0;34m)\u001b[0m\u001b[0;34m\u001b[0m\u001b[0;34m\u001b[0m\u001b[0m\n\u001b[0m",
            "\u001b[0;31mNameError\u001b[0m: name 'prin' is not defined"
          ]
        }
      ]
    },
    {
      "cell_type": "code",
      "source": [
        "print(Hissssss.....')"
      ],
      "metadata": {
        "colab": {
          "base_uri": "https://localhost:8080/",
          "height": 105
        },
        "id": "jVA7YE2iAF7e",
        "outputId": "621c1c35-7018-4fce-d83a-150b92576683"
      },
      "id": "jVA7YE2iAF7e",
      "execution_count": null,
      "outputs": [
        {
          "output_type": "error",
          "ename": "SyntaxError",
          "evalue": "unterminated string literal (detected at line 1) (<ipython-input-18-0e0719644ce3>, line 1)",
          "traceback": [
            "\u001b[0;36m  File \u001b[0;32m\"<ipython-input-18-0e0719644ce3>\"\u001b[0;36m, line \u001b[0;32m1\u001b[0m\n\u001b[0;31m    print(Hissssss.....')\u001b[0m\n\u001b[0m                       ^\u001b[0m\n\u001b[0;31mSyntaxError\u001b[0m\u001b[0;31m:\u001b[0m unterminated string literal (detected at line 1)\n"
          ]
        }
      ]
    }
  ],
  "metadata": {
    "kernelspec": {
      "display_name": "Python 3 (ipykernel)",
      "language": "python",
      "name": "python3"
    },
    "language_info": {
      "codemirror_mode": {
        "name": "ipython",
        "version": 3
      },
      "file_extension": ".py",
      "mimetype": "text/x-python",
      "name": "python",
      "nbconvert_exporter": "python",
      "pygments_lexer": "ipython3",
      "version": "3.11.5"
    },
    "colab": {
      "provenance": []
    }
  },
  "nbformat": 4,
  "nbformat_minor": 5
}