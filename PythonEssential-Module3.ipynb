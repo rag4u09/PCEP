{
  "cells": [
    {
      "cell_type": "markdown",
      "source": [
        "# Module 3\n",
        "\n",
        "Boolean Values, Conditional Execution, Loops, Lists and List Processing, Logical and Bitwise Operations"
      ],
      "metadata": {
        "id": "OtqIYXYVAhRY"
      },
      "id": "OtqIYXYVAhRY"
    },
    {
      "cell_type": "markdown",
      "source": [
        "Priority\tOperator\n",
        "1.\t        +, -\tunary\n",
        "2.\t        **\n",
        "3.\t        *, /, //, %\n",
        "4.\t        +, -\tbinary\n",
        "5.\t        <, <=, >, >=\n",
        "6.\t        ==, !="
      ],
      "metadata": {
        "id": "NuRs_aYY-zWg"
      },
      "id": "NuRs_aYY-zWg"
    },
    {
      "cell_type": "code",
      "source": [
        "2 == 2"
      ],
      "metadata": {
        "id": "Hvvk4WhU-6VB",
        "outputId": "a9037f0d-a0df-49b2-bc50-84f1e842abfc",
        "colab": {
          "base_uri": "https://localhost:8080/"
        }
      },
      "id": "Hvvk4WhU-6VB",
      "execution_count": 4,
      "outputs": [
        {
          "output_type": "execute_result",
          "data": {
            "text/plain": [
              "True"
            ]
          },
          "metadata": {},
          "execution_count": 4
        }
      ]
    },
    {
      "cell_type": "code",
      "source": [
        "2 == 2."
      ],
      "metadata": {
        "id": "3-p148_H_FVG",
        "outputId": "44f1f135-b459-4f7b-8ef1-52ae10af85d0",
        "colab": {
          "base_uri": "https://localhost:8080/"
        }
      },
      "id": "3-p148_H_FVG",
      "execution_count": 3,
      "outputs": [
        {
          "output_type": "execute_result",
          "data": {
            "text/plain": [
              "True"
            ]
          },
          "metadata": {},
          "execution_count": 3
        }
      ]
    },
    {
      "cell_type": "code",
      "source": [
        "1 == 2"
      ],
      "metadata": {
        "id": "sS_i_sXE_E4L",
        "outputId": "18e0675c-e72d-49f4-99bd-0d874405234d",
        "colab": {
          "base_uri": "https://localhost:8080/"
        }
      },
      "id": "sS_i_sXE_E4L",
      "execution_count": 2,
      "outputs": [
        {
          "output_type": "execute_result",
          "data": {
            "text/plain": [
              "False"
            ]
          },
          "metadata": {},
          "execution_count": 2
        }
      ]
    },
    {
      "cell_type": "code",
      "source": [
        "var == 0"
      ],
      "metadata": {
        "id": "j3ipQm6E_YCY",
        "outputId": "0ea8b2f2-e0c2-42fc-8f8f-93163023d1ed",
        "colab": {
          "base_uri": "https://localhost:8080/",
          "height": 141
        }
      },
      "id": "j3ipQm6E_YCY",
      "execution_count": 5,
      "outputs": [
        {
          "output_type": "error",
          "ename": "NameError",
          "evalue": "name 'var' is not defined",
          "traceback": [
            "\u001b[0;31m---------------------------------------------------------------------------\u001b[0m",
            "\u001b[0;31mNameError\u001b[0m                                 Traceback (most recent call last)",
            "\u001b[0;32m<ipython-input-5-3cf03e0afa33>\u001b[0m in \u001b[0;36m<cell line: 1>\u001b[0;34m()\u001b[0m\n\u001b[0;32m----> 1\u001b[0;31m \u001b[0mvar\u001b[0m \u001b[0;34m==\u001b[0m \u001b[0;36m0\u001b[0m\u001b[0;34m\u001b[0m\u001b[0;34m\u001b[0m\u001b[0m\n\u001b[0m",
            "\u001b[0;31mNameError\u001b[0m: name 'var' is not defined"
          ]
        }
      ]
    },
    {
      "cell_type": "code",
      "source": [
        "var = 0  # Assigning 0 to var\n",
        "print(var == 0)\n",
        "\n",
        "var = 1  # Assigning 1 to var\n",
        "print(var == 0)\n",
        "\n",
        "var = 0  # Assigning 0 to var\n",
        "print(var != 0)\n",
        "\n",
        "var = 1  # Assigning 1 to var\n",
        "print(var != 0)"
      ],
      "metadata": {
        "id": "bqr4djQy_nku",
        "outputId": "b943d417-098a-4b8e-9858-5d0fb8a6e4d8",
        "colab": {
          "base_uri": "https://localhost:8080/"
        }
      },
      "id": "bqr4djQy_nku",
      "execution_count": 7,
      "outputs": [
        {
          "output_type": "stream",
          "name": "stdout",
          "text": [
            "True\n",
            "False\n",
            "False\n",
            "True\n"
          ]
        }
      ]
    },
    {
      "cell_type": "markdown",
      "source": [
        "Using one of the comparison operators in Python, write a simple two-line program that takes the parameter n as input, which is an integer, and prints False if n is less than 100, and True if n is greater than or equal to 100."
      ],
      "metadata": {
        "id": "fspztEZlAz0n"
      },
      "id": "fspztEZlAz0n"
    },
    {
      "cell_type": "code",
      "source": [
        "n = int(input(\"Enter a number: \"))\n",
        "print(n >= 100)"
      ],
      "metadata": {
        "id": "iIToIQ7UAy4s",
        "outputId": "f508a7d5-76d6-4dd2-a204-9ed930ffb56e",
        "colab": {
          "base_uri": "https://localhost:8080/"
        }
      },
      "id": "iIToIQ7UAy4s",
      "execution_count": 10,
      "outputs": [
        {
          "output_type": "stream",
          "name": "stdout",
          "text": [
            "Enter a number: 100\n",
            "True\n"
          ]
        }
      ]
    }
  ],
  "metadata": {
    "kernelspec": {
      "display_name": "Python 3 (ipykernel)",
      "language": "python",
      "name": "python3"
    },
    "language_info": {
      "codemirror_mode": {
        "name": "ipython",
        "version": 3
      },
      "file_extension": ".py",
      "mimetype": "text/x-python",
      "name": "python",
      "nbconvert_exporter": "python",
      "pygments_lexer": "ipython3",
      "version": "3.11.5"
    },
    "colab": {
      "provenance": []
    }
  },
  "nbformat": 4,
  "nbformat_minor": 5
}