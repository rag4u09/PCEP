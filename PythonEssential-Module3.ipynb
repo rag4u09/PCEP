{
  "cells": [
    {
      "cell_type": "markdown",
      "source": [
        "# Module 3\n",
        "\n",
        "Boolean Values, Conditional Execution, Loops, Lists and List Processing, Logical and Bitwise Operations"
      ],
      "metadata": {
        "id": "OtqIYXYVAhRY"
      },
      "id": "OtqIYXYVAhRY"
    },
    {
      "cell_type": "markdown",
      "source": [
        "Priority\tOperator\n",
        "1.\t        +, -\tunary\n",
        "2.\t        **\n",
        "3.\t        *, /, //, %\n",
        "4.\t        +, -\tbinary\n",
        "5.\t        <, <=, >, >=\n",
        "6.\t        ==, !="
      ],
      "metadata": {
        "id": "NuRs_aYY-zWg"
      },
      "id": "NuRs_aYY-zWg"
    },
    {
      "cell_type": "code",
      "source": [
        "2 == 2"
      ],
      "metadata": {
        "id": "Hvvk4WhU-6VB",
        "outputId": "a9037f0d-a0df-49b2-bc50-84f1e842abfc",
        "colab": {
          "base_uri": "https://localhost:8080/"
        }
      },
      "id": "Hvvk4WhU-6VB",
      "execution_count": null,
      "outputs": [
        {
          "output_type": "execute_result",
          "data": {
            "text/plain": [
              "True"
            ]
          },
          "metadata": {},
          "execution_count": 4
        }
      ]
    },
    {
      "cell_type": "code",
      "source": [
        "2 == 2."
      ],
      "metadata": {
        "id": "3-p148_H_FVG",
        "outputId": "44f1f135-b459-4f7b-8ef1-52ae10af85d0",
        "colab": {
          "base_uri": "https://localhost:8080/"
        }
      },
      "id": "3-p148_H_FVG",
      "execution_count": null,
      "outputs": [
        {
          "output_type": "execute_result",
          "data": {
            "text/plain": [
              "True"
            ]
          },
          "metadata": {},
          "execution_count": 3
        }
      ]
    },
    {
      "cell_type": "code",
      "source": [
        "1 == 2"
      ],
      "metadata": {
        "id": "sS_i_sXE_E4L",
        "outputId": "18e0675c-e72d-49f4-99bd-0d874405234d",
        "colab": {
          "base_uri": "https://localhost:8080/"
        }
      },
      "id": "sS_i_sXE_E4L",
      "execution_count": null,
      "outputs": [
        {
          "output_type": "execute_result",
          "data": {
            "text/plain": [
              "False"
            ]
          },
          "metadata": {},
          "execution_count": 2
        }
      ]
    },
    {
      "cell_type": "code",
      "source": [
        "var == 0"
      ],
      "metadata": {
        "id": "j3ipQm6E_YCY",
        "outputId": "0ea8b2f2-e0c2-42fc-8f8f-93163023d1ed",
        "colab": {
          "base_uri": "https://localhost:8080/",
          "height": 141
        }
      },
      "id": "j3ipQm6E_YCY",
      "execution_count": null,
      "outputs": [
        {
          "output_type": "error",
          "ename": "NameError",
          "evalue": "name 'var' is not defined",
          "traceback": [
            "\u001b[0;31m---------------------------------------------------------------------------\u001b[0m",
            "\u001b[0;31mNameError\u001b[0m                                 Traceback (most recent call last)",
            "\u001b[0;32m<ipython-input-5-3cf03e0afa33>\u001b[0m in \u001b[0;36m<cell line: 1>\u001b[0;34m()\u001b[0m\n\u001b[0;32m----> 1\u001b[0;31m \u001b[0mvar\u001b[0m \u001b[0;34m==\u001b[0m \u001b[0;36m0\u001b[0m\u001b[0;34m\u001b[0m\u001b[0;34m\u001b[0m\u001b[0m\n\u001b[0m",
            "\u001b[0;31mNameError\u001b[0m: name 'var' is not defined"
          ]
        }
      ]
    },
    {
      "cell_type": "code",
      "source": [
        "var = 0  # Assigning 0 to var\n",
        "print(var == 0)\n",
        "\n",
        "var = 1  # Assigning 1 to var\n",
        "print(var == 0)\n",
        "\n",
        "var = 0  # Assigning 0 to var\n",
        "print(var != 0)\n",
        "\n",
        "var = 1  # Assigning 1 to var\n",
        "print(var != 0)"
      ],
      "metadata": {
        "id": "bqr4djQy_nku",
        "outputId": "b943d417-098a-4b8e-9858-5d0fb8a6e4d8",
        "colab": {
          "base_uri": "https://localhost:8080/"
        }
      },
      "id": "bqr4djQy_nku",
      "execution_count": null,
      "outputs": [
        {
          "output_type": "stream",
          "name": "stdout",
          "text": [
            "True\n",
            "False\n",
            "False\n",
            "True\n"
          ]
        }
      ]
    },
    {
      "cell_type": "markdown",
      "source": [
        "Using one of the comparison operators in Python, write a simple two-line program that takes the parameter n as input, which is an integer, and prints False if n is less than 100, and True if n is greater than or equal to 100."
      ],
      "metadata": {
        "id": "fspztEZlAz0n"
      },
      "id": "fspztEZlAz0n"
    },
    {
      "cell_type": "code",
      "source": [
        "n = int(input(\"Enter a number: \"))\n",
        "print(n >= 100)"
      ],
      "metadata": {
        "id": "iIToIQ7UAy4s",
        "outputId": "f508a7d5-76d6-4dd2-a204-9ed930ffb56e",
        "colab": {
          "base_uri": "https://localhost:8080/"
        }
      },
      "id": "iIToIQ7UAy4s",
      "execution_count": null,
      "outputs": [
        {
          "output_type": "stream",
          "name": "stdout",
          "text": [
            "Enter a number: 100\n",
            "True\n"
          ]
        }
      ]
    },
    {
      "cell_type": "markdown",
      "source": [
        "conditional execution\n",
        "1. if\n",
        "2. if-else\n",
        "3. Nested Startement if-else\n",
        "4. Cascade Stetement if-elif-else"
      ],
      "metadata": {
        "id": "pGO2SE-jZnAX"
      },
      "id": "pGO2SE-jZnAX"
    },
    {
      "cell_type": "code",
      "source": [
        "if int(input(\" Enter 1 or 0 : \")):\n",
        "    print(\"True\")\n",
        "else:\n",
        "    print(\"False\")"
      ],
      "metadata": {
        "id": "XEesHjbbYuZ1",
        "outputId": "b46cb91f-3ece-4c40-f15e-6522ba4bf437",
        "colab": {
          "base_uri": "https://localhost:8080/"
        }
      },
      "id": "XEesHjbbYuZ1",
      "execution_count": null,
      "outputs": [
        {
          "output_type": "stream",
          "name": "stdout",
          "text": [
            " Enter 1 or 0 : 0\n",
            "False\n"
          ]
        }
      ]
    },
    {
      "cell_type": "code",
      "source": [
        "#how to identify the larger of two numbers:\n",
        "# Read two numbers\n",
        "number1 = int(input(\"Enter the first number: \"))\n",
        "number2 = int(input(\"Enter the second number: \"))\n",
        "\n",
        "# Choose the larger number\n",
        "if number1 > number2:\n",
        "    larger_number = number1\n",
        "else:\n",
        "    larger_number = number2\n",
        "\n",
        "# Print the result\n",
        "print(\"The larger number is:\", larger_number)"
      ],
      "metadata": {
        "id": "EUMWF44xaTYb",
        "outputId": "63636031-a559-4cdf-f6d8-e75f4699cf35",
        "colab": {
          "base_uri": "https://localhost:8080/"
        }
      },
      "id": "EUMWF44xaTYb",
      "execution_count": null,
      "outputs": [
        {
          "output_type": "stream",
          "name": "stdout",
          "text": [
            "Enter the first number: 3\n",
            "Enter the second number: 55\n",
            "The larger number is: 55\n"
          ]
        }
      ]
    },
    {
      "cell_type": "code",
      "source": [
        "# Note: if any of the if-elif-else branches contains just one instruction, you may code it in a more comprehensive\n",
        "# form (you don't need to make an indented line after the keyword, but just continue the line after the colon).\n",
        "# Read two numbers\n",
        "number1 = int(input(\"Enter the first number: \"))\n",
        "number2 = int(input(\"Enter the second number: \"))\n",
        "\n",
        "# Choose the larger number\n",
        "if number1 > number2: larger_number = number1\n",
        "else: larger_number = number2\n",
        "\n",
        "# Print the result\n",
        "print(\"The larger number is:\", larger_number)"
      ],
      "metadata": {
        "id": "zAT-qu9xadVv",
        "outputId": "f6baa018-9fca-4182-c85c-e118fcc9f15d",
        "colab": {
          "base_uri": "https://localhost:8080/"
        }
      },
      "id": "zAT-qu9xadVv",
      "execution_count": null,
      "outputs": [
        {
          "output_type": "stream",
          "name": "stdout",
          "text": [
            "Enter the first number: 5\n",
            "Enter the second number: 3\n",
            "The larger number is: 5\n"
          ]
        }
      ]
    },
    {
      "cell_type": "code",
      "source": [
        "#find the largest of three numbers\n",
        "largest_number = int(input(\"Enter the first number: \"))\n",
        "second_number = int(input(\"Enter the first number: \"))\n",
        "third_number = int(input(\"Enter the first number: \"))\n",
        "\n",
        "if largest_number > second_number and largest_number > third_number: print(\"The largest number is:\", largest_number)\n",
        "elif second_number > third_number: print(\"The largest number is:\", second_number)\n",
        "else: print(\"The largest number is:\", third_number)"
      ],
      "metadata": {
        "id": "6guI9P62a0xv",
        "outputId": "b7c313fa-e20e-4d61-fced-6f53447d424d",
        "colab": {
          "base_uri": "https://localhost:8080/"
        }
      },
      "id": "6guI9P62a0xv",
      "execution_count": null,
      "outputs": [
        {
          "output_type": "stream",
          "name": "stdout",
          "text": [
            "Enter the first number: 2\n",
            "Enter the first number: 5\n",
            "Enter the first number: 3\n",
            "The largest number is: 5\n"
          ]
        }
      ]
    },
    {
      "cell_type": "code",
      "source": [
        "# Store the current largest number here.\n",
        "largest_number = -999999999\n",
        "\n",
        "# Input the first value.\n",
        "number = int(input(\"Enter a number or type -1 to stop: \"))\n",
        "\n",
        "# If the number is not equal to -1, continue.\n",
        "while number != -1:\n",
        "    # Is number larger than largest_number?\n",
        "    if number > largest_number:\n",
        "        # Yes, update largest_number.\n",
        "        largest_number = number\n",
        "    # Input the next number.\n",
        "    number = int(input(\"Enter a number or type -1 to stop: \"))\n",
        "\n",
        "# Print the largest number.\n",
        "print(\"The largest number is:\", largest_number)"
      ],
      "metadata": {
        "id": "BLu3a6mVPI-4",
        "outputId": "3f861906-cc06-4b5e-d2b9-8f60c620f003",
        "colab": {
          "base_uri": "https://localhost:8080/"
        }
      },
      "id": "BLu3a6mVPI-4",
      "execution_count": 1,
      "outputs": [
        {
          "output_type": "stream",
          "name": "stdout",
          "text": [
            "Enter a number or type -1 to stop: 98\n",
            "Enter a number or type -1 to stop: 34\n",
            "Enter a number or type -1 to stop: 65\n",
            "Enter a number or type -1 to stop: 34\n",
            "Enter a number or type -1 to stop: 3\n",
            "Enter a number or type -1 to stop: -1\n",
            "The largest number is: 98\n"
          ]
        }
      ]
    },
    {
      "cell_type": "code",
      "source": [
        "# A program that reads a sequence of numbers\n",
        "# and counts how many numbers are even and how many are odd.\n",
        "# The program terminates when zero is entered.\n",
        "\n",
        "odd_numbers = 0\n",
        "even_numbers = 0\n",
        "\n",
        "# Read the first number.\n",
        "number = int(input(\"Enter a number or type 0 to stop: \"))\n",
        "\n",
        "# 0 terminates execution.\n",
        "while number != 0:\n",
        "    # Check if the number is odd.\n",
        "    if number % 2 == 1:\n",
        "        # Increase the odd_numbers counter.\n",
        "        odd_numbers += 1\n",
        "    else:\n",
        "        # Increase the even_numbers counter.\n",
        "        even_numbers += 1\n",
        "    # Read the next number.\n",
        "    number = int(input(\"Enter a number or type 0 to stop: \"))\n",
        "\n",
        "# Print results.\n",
        "print(\"Odd numbers count:\", odd_numbers)\n",
        "print(\"Even numbers count:\", even_numbers)"
      ],
      "metadata": {
        "id": "iHJ1oTfaPxJL",
        "outputId": "6f933f4a-26d8-4ec9-d846-476ddbc96ca8",
        "colab": {
          "base_uri": "https://localhost:8080/"
        }
      },
      "id": "iHJ1oTfaPxJL",
      "execution_count": 2,
      "outputs": [
        {
          "output_type": "stream",
          "name": "stdout",
          "text": [
            "Enter a number or type 0 to stop: 1\n",
            "Enter a number or type 0 to stop: 2\n",
            "Enter a number or type 0 to stop: 3\n",
            "Enter a number or type 0 to stop: 4\n",
            "Enter a number or type 0 to stop: 55\n",
            "Enter a number or type 0 to stop: 6\n",
            "Enter a number or type 0 to stop: 77\n",
            "Enter a number or type 0 to stop: 8\n",
            "Enter a number or type 0 to stop: 9\n",
            "Enter a number or type 0 to stop: 11\n",
            "Enter a number or type 0 to stop: 22\n",
            "Enter a number or type 0 to stop: 33\n",
            "Enter a number or type 0 to stop: 44\n",
            "Enter a number or type 0 to stop: 55\n",
            "Enter a number or type 0 to stop: 666\n",
            "Enter a number or type 0 to stop: 0\n",
            "Odd numbers count: 8\n",
            "Even numbers count: 7\n"
          ]
        }
      ]
    },
    {
      "cell_type": "markdown",
      "source": [
        "A junior magician has picked a secret number. He has hidden it in a variable named secret_number. He wants everyone who run his program to play the Guess the secret number game, and guess what number he has picked for them. Those who don't guess the number will be stuck in an endless loop forever! Unfortunately, he does not know how to complete the code.\n",
        "\n",
        "Your task is to help the magician complete the code in the editor in such a way so that the code:\n",
        "\n",
        "* will ask the user to enter an integer number;\n",
        "* will use a while loop;\n",
        "* will check whether the number entered by the user is the same as the number picked by the magician. If the number chosen by the user is different than the magician's secret number, the user should see the message \"Ha ha! You're stuck in my loop!\" and be prompted to enter a number again. If the number entered by the user matches the number picked by the magician, the number should be printed to the screen, and the magician should say the following words: \"Well done, muggle! You are free now.\"\n",
        "\n",
        "The magician is counting on you! Don't disappoint him.\n",
        "\n",
        "\n",
        "EXTRA INFO\n",
        "\n",
        "By the way, look at the print() function. The way we've used it here is called multi-line printing. You can use triple quotes to print strings on multiple lines in order to make text easier to read, or create a special text-based design. Experiment with it."
      ],
      "metadata": {
        "id": "Fqv2n1IKRlhm"
      },
      "id": "Fqv2n1IKRlhm"
    },
    {
      "cell_type": "code",
      "source": [
        "secret_number = 777\n",
        "\n",
        "print(\n",
        "\"\"\"\n",
        "+================================+\n",
        "| Welcome to my game, muggle!    |\n",
        "| Enter an integer number        |\n",
        "| and guess what number I've     |\n",
        "| picked for you.                |\n",
        "| So, what is the secret number? |\n",
        "+================================+\n",
        "\"\"\")\n",
        "\n",
        "while int(input(\"What do you thnk is the secret number ? \")) != secret_number:\n",
        "  print(\"Ha ha! You're stuck in my loop!\")\n",
        "\n",
        "print(\"Well done, muggle! You are free now.\")"
      ],
      "metadata": {
        "id": "Kws3Q_gfR4_W",
        "outputId": "78075195-cd63-485a-f18a-48ae63ddbd7d",
        "colab": {
          "base_uri": "https://localhost:8080/"
        }
      },
      "id": "Kws3Q_gfR4_W",
      "execution_count": 3,
      "outputs": [
        {
          "output_type": "stream",
          "name": "stdout",
          "text": [
            "\n",
            "+================================+\n",
            "| Welcome to my game, muggle!    |\n",
            "| Enter an integer number        |\n",
            "| and guess what number I've     |\n",
            "| picked for you.                |\n",
            "| So, what is the secret number? |\n",
            "+================================+\n",
            "\n",
            "What do you thnk is the secret number ? 234\n",
            "Ha ha! You're stuck in my loop!\n",
            "What do you thnk is the secret number ? 566\n",
            "Ha ha! You're stuck in my loop!\n",
            "What do you thnk is the secret number ? 777\n",
            "Well done, muggle! You are free now.\n"
          ]
        }
      ]
    }
  ],
  "metadata": {
    "kernelspec": {
      "display_name": "Python 3 (ipykernel)",
      "language": "python",
      "name": "python3"
    },
    "language_info": {
      "codemirror_mode": {
        "name": "ipython",
        "version": 3
      },
      "file_extension": ".py",
      "mimetype": "text/x-python",
      "name": "python",
      "nbconvert_exporter": "python",
      "pygments_lexer": "ipython3",
      "version": "3.11.5"
    },
    "colab": {
      "provenance": []
    }
  },
  "nbformat": 4,
  "nbformat_minor": 5
}