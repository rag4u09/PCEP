{
  "cells": [
    {
      "cell_type": "markdown",
      "source": [
        "# Day 10"
      ],
      "metadata": {
        "id": "rca6rAFlgmdX"
      }
    },
    {
      "cell_type": "code",
      "source": [
        "f = 1\n",
        "for i in range(int(input(\"Enter a number to get factorial \"))):\n",
        "  f *= i+1\n",
        "print(f)"
      ],
      "metadata": {
        "id": "Lhujx7Z1h4tF",
        "outputId": "65181fec-74a7-4e2c-bcc2-5d2e815e26fd",
        "colab": {
          "base_uri": "https://localhost:8080/"
        }
      },
      "execution_count": 6,
      "outputs": [
        {
          "output_type": "stream",
          "name": "stdout",
          "text": [
            "Enter a number to get factorial 5\n",
            "120\n"
          ]
        }
      ]
    },
    {
      "cell_type": "code",
      "source": [
        "def factorial(n):\n",
        "  if n==1:\n",
        "    return 1\n",
        "  else:\n",
        "    return n*factorial(n-1)\n",
        "\n",
        "print(factorial(int(input(\"Enter a number :\"))))"
      ],
      "metadata": {
        "id": "WsHyz0VdinJP",
        "outputId": "852b98d1-fa0c-4bb5-81a0-65e9ab48cb26",
        "colab": {
          "base_uri": "https://localhost:8080/"
        }
      },
      "execution_count": 9,
      "outputs": [
        {
          "output_type": "stream",
          "name": "stdout",
          "text": [
            "Enter a number :5\n",
            "120\n"
          ]
        }
      ]
    },
    {
      "cell_type": "code",
      "source": [
        "#Fibonachi series\n",
        "# 0, 1, 1, 2, 3, 5, 8, 13, 21, 34, 55, 89, 144\n",
        "firstNumber = int(input(\"Enter first number :\"))\n",
        "secondNumber = int(input(\"Enter second number :\"))\n",
        "numberInSeries=int(input(\"Enter number in series :\"))\n",
        "l = []\n",
        "l.append(firstNumber)\n",
        "l.append(secondNumber)\n",
        "for i in range(numberInSeries-2):\n",
        "  thirdNumber = firstNumber + secondNumber\n",
        "  l.append(thirdNumber)\n",
        "  firstNumber = secondNumber\n",
        "  secondNumber = thirdNumber\n",
        "print(l)"
      ],
      "metadata": {
        "id": "R_X9xcNcjWok",
        "outputId": "f8c17ed1-9851-48ad-cf72-b71a63a5948d",
        "colab": {
          "base_uri": "https://localhost:8080/"
        }
      },
      "execution_count": 10,
      "outputs": [
        {
          "output_type": "stream",
          "name": "stdout",
          "text": [
            "Enter first number :1\n",
            "Enter second number :2\n",
            "Enter number in series :4\n",
            "[1, 2, 3, 5]\n"
          ]
        }
      ]
    },
    {
      "cell_type": "code",
      "source": [
        "def printFibonachi(a,b,n):\n",
        "  if n<=1:\n",
        "    return\n",
        "  elif n==2:\n",
        "    print(a,b,end=' ')\n",
        "  else:\n",
        "    return printFibonachi(b,a+b,n-1)\n",
        "\n",
        "firstNumber = int(input(\"Enter first number :\"))\n",
        "secondNumber = int(input(\"Enter second number :\"))\n",
        "numberInSeries=int(input(\"Enter number in series :\"))\n",
        "printFibonachi(firstNumber,secondNumber,numberInSeries)"
      ],
      "metadata": {
        "id": "cMCk0MF6kDO7",
        "outputId": "52a93f3a-e716-429d-a99d-acd7f7d06419",
        "colab": {
          "base_uri": "https://localhost:8080/"
        }
      },
      "execution_count": 4,
      "outputs": [
        {
          "output_type": "stream",
          "name": "stdout",
          "text": [
            "Enter first number :1\n",
            "Enter second number :1\n",
            "Enter number in series :3\n",
            "1 2 "
          ]
        }
      ]
    },
    {
      "cell_type": "code",
      "source": [
        "def printFibonacci(n):\n",
        "  if n > 2:\n",
        "    return printFibonacci(n-1) + printFibonacci(n-2)\n",
        "  else:\n",
        "    return n\n",
        "\n",
        "firstNumber = int(input(\"Enter first number :\"))\n",
        "secondNumber = int(input(\"Enter second number :\"))\n",
        "numberInSeries=int(input(\"Enter number in series :\"))\n",
        "\n",
        "print(firstNumber,firstNumber, printFibonacci(numberInSeries))"
      ],
      "metadata": {
        "id": "P6q-FWveBJD4",
        "outputId": "f22d478d-6e5e-4054-86d8-f995d01ea491",
        "colab": {
          "base_uri": "https://localhost:8080/"
        }
      },
      "execution_count": 1,
      "outputs": [
        {
          "output_type": "stream",
          "name": "stdout",
          "text": [
            "Enter first number :0\n",
            "Enter second number :1\n",
            "Enter number in series :4\n",
            "0 0 5\n"
          ]
        }
      ]
    },
    {
      "cell_type": "markdown",
      "source": [
        "# Day 9"
      ],
      "metadata": {
        "id": "uEKfCP_GP_HN"
      }
    },
    {
      "cell_type": "code",
      "source": [
        "l = [10,20,30]\n",
        "for i in range(len(l)):\n",
        "  l.append(i)\n",
        "  l.append(10)\n",
        "print(l)"
      ],
      "metadata": {
        "colab": {
          "base_uri": "https://localhost:8080/"
        },
        "id": "kzF7DaxTQE6M",
        "outputId": "f68c764d-dffb-497a-a5bf-eb9e4a8b10ef"
      },
      "execution_count": 3,
      "outputs": [
        {
          "output_type": "stream",
          "name": "stdout",
          "text": [
            "[10, 20, 30, 0, 10, 1, 10, 2, 10]\n"
          ]
        }
      ]
    },
    {
      "cell_type": "code",
      "source": [
        "def addNumber(var_list, var_element):\n",
        "  var_list.append(var_element)\n",
        "  return var_list\n",
        "\n",
        "l = [10,20,30]\n",
        "for i in range(len(l)):\n",
        "    l = addNumber(l,40)\n",
        "print(l)"
      ],
      "metadata": {
        "colab": {
          "base_uri": "https://localhost:8080/"
        },
        "id": "fMO45hnUUw3n",
        "outputId": "8acb8b63-f16f-4b3a-c374-56b412d055ae"
      },
      "execution_count": 5,
      "outputs": [
        {
          "output_type": "stream",
          "name": "stdout",
          "text": [
            "[10, 20, 30, 40, 40, 40]\n"
          ]
        }
      ]
    },
    {
      "cell_type": "code",
      "source": [
        "def addNumber(number1, number2):\n",
        "  return number1+number2\n",
        "\n",
        "answer = addNumber(int(input('Number 1 = ')),int(input('Number 2 = ')))\n",
        "print(answer)"
      ],
      "metadata": {
        "colab": {
          "base_uri": "https://localhost:8080/"
        },
        "id": "m7Ypjm0_YpWj",
        "outputId": "e405eef6-7cbc-4499-f7be-4cd3b21eed04"
      },
      "execution_count": 8,
      "outputs": [
        {
          "output_type": "stream",
          "name": "stdout",
          "text": [
            "Number 1 = 20\n",
            "Number 2 = 30\n",
            "50\n"
          ]
        }
      ]
    },
    {
      "cell_type": "code",
      "source": [
        "def addNumber():\n",
        "  result = 0\n",
        "  number = 0\n",
        "  while True:\n",
        "    number = int(input('Add a number  (0 to see the result) = '))\n",
        "    if number == 0:\n",
        "      break\n",
        "    else:\n",
        "      result += number\n",
        "  return result3\n",
        "\n",
        "result = addNumber()\n",
        "print(result)"
      ],
      "metadata": {
        "colab": {
          "base_uri": "https://localhost:8080/"
        },
        "id": "HY8FmOH0ZtES",
        "outputId": "cdedb317-e71a-4fd2-ad6c-bca5de14f22e"
      },
      "execution_count": 11,
      "outputs": [
        {
          "output_type": "stream",
          "name": "stdout",
          "text": [
            "Add a number  (0 to see the result) = 20\n",
            "Add a number  (0 to see the result) = 4\n",
            "Add a number  (0 to see the result) = 54\n",
            "Add a number  (0 to see the result) = 6\n",
            "Add a number  (0 to see the result) = 0\n",
            "84\n"
          ]
        }
      ]
    },
    {
      "cell_type": "code",
      "source": [
        "def addition(number1,number2):\n",
        "  return number1+number2\n",
        "\n",
        "def substraction(number1,number2):\n",
        "  return number1-number2\n",
        "\n",
        "def multiplication(number1,number2):\n",
        "  return number1*number2\n",
        "\n",
        "def division(number1,number2):\n",
        "  if number2 == 0:\n",
        "    return 'Division by Zero Error'\n",
        "  else:\n",
        "    return float(number1/number2)\n",
        "\n",
        "def inputNumber():\n",
        "  return int(input('Number = '))\n",
        "\n",
        "choice = 0\n",
        "while choice != 5:\n",
        "  print(\"\"\"\n",
        "  1. Addition\n",
        "  2. Substraction\n",
        "  3. Multiplication\n",
        "  4. Division\n",
        "  5. Exit\n",
        "  \"\"\")\n",
        "  choice = int(input('Enter your choice = '))\n",
        "  if choice==1:\n",
        "    print(\"Result of addition is \", addition(inputNumber(),inputNumber()))\n",
        "  elif choice == 2:\n",
        "    print(\"Result of substraction is \", substraction(inputNumber(),inputNumber()))\n",
        "  elif choice == 3:\n",
        "    print(\"Result of multiplication is \", multiplication(inputNumber(),inputNumber()))\n",
        "  elif choice == 4:\n",
        "    print(\"Result of division is \", division(inputNumber(),inputNumber()))\n",
        "  elif choice == 5:\n",
        "    break\n",
        "  else:\n",
        "    print('Invalid Choice')"
      ],
      "metadata": {
        "colab": {
          "base_uri": "https://localhost:8080/"
        },
        "id": "c82qz7xHcKyT",
        "outputId": "e1c89558-c6e1-49a7-de43-39eae14c0346"
      },
      "execution_count": null,
      "outputs": [
        {
          "metadata": {
            "tags": null
          },
          "name": "stdout",
          "output_type": "stream",
          "text": [
            "\n",
            "  1. Addition\n",
            "  2. Substraction\n",
            "  3. Multiplication\n",
            "  4. Division\n",
            "  5. Exit\n",
            "  \n",
            "Result of addition is  9\n",
            "\n",
            "  1. Addition\n",
            "  2. Substraction\n",
            "  3. Multiplication\n",
            "  4. Division\n",
            "  5. Exit\n",
            "  \n",
            "Result of substraction is  -1\n",
            "\n",
            "  1. Addition\n",
            "  2. Substraction\n",
            "  3. Multiplication\n",
            "  4. Division\n",
            "  5. Exit\n",
            "  \n",
            "Result of multiplication is  6\n",
            "\n",
            "  1. Addition\n",
            "  2. Substraction\n",
            "  3. Multiplication\n",
            "  4. Division\n",
            "  5. Exit\n",
            "  \n",
            "Result of division is  0.6666666666666666\n",
            "\n",
            "  1. Addition\n",
            "  2. Substraction\n",
            "  3. Multiplication\n",
            "  4. Division\n",
            "  5. Exit\n",
            "  \n",
            "Result of division is  Error\n",
            "\n",
            "  1. Addition\n",
            "  2. Substraction\n",
            "  3. Multiplication\n",
            "  4. Division\n",
            "  5. Exit\n",
            "  \n"
          ]
        }
      ]
    },
    {
      "cell_type": "code",
      "source": [
        "l=[1,2,4,5,1,2]\n",
        "nl=[]\n",
        "for i in l:\n",
        "  if i in nl:\n",
        "    pass\n",
        "  else:\n",
        "    nl.append(i)\n",
        "print(nl)"
      ],
      "metadata": {
        "colab": {
          "base_uri": "https://localhost:8080/"
        },
        "id": "iAAY3k26mTmf",
        "outputId": "be1fa9f3-3652-4412-d5f1-4053f807b65c"
      },
      "execution_count": 35,
      "outputs": [
        {
          "output_type": "stream",
          "name": "stdout",
          "text": [
            "[1, 2, 4, 5]\n"
          ]
        }
      ]
    },
    {
      "cell_type": "code",
      "source": [
        "def uniqList(l=['']):\n",
        "  nl=[]\n",
        "  for i in l:\n",
        "    if i not in nl:\n",
        "      nl.append(i)\n",
        "  return nl\n",
        "\n",
        "l=[1,2,4,5,1,2]\n",
        "print(uniqList(l))\n",
        "l=['Mark', 'Mark', 'John', 'Anne']\n",
        "print(uniqList(l))\n",
        "print(uniqList())"
      ],
      "metadata": {
        "colab": {
          "base_uri": "https://localhost:8080/"
        },
        "id": "I_J9Qfdam38M",
        "outputId": "578b0ecd-f98f-4840-adcf-5f3eb434f795"
      },
      "execution_count": 34,
      "outputs": [
        {
          "output_type": "stream",
          "name": "stdout",
          "text": [
            "[1, 2, 4, 5]\n",
            "['Mark', 'John', 'Anne']\n",
            "['']\n"
          ]
        }
      ]
    },
    {
      "cell_type": "markdown",
      "source": [
        "# Day 8 - Start"
      ],
      "metadata": {
        "id": "kR5-jKMpXJzJ"
      }
    },
    {
      "cell_type": "code",
      "source": [
        "d={'1':1,'2':2,'3':3}\n",
        "print(d)\n",
        "print(type(d))\n",
        "print(d['1'])"
      ],
      "metadata": {
        "id": "_pWUJEZIXoec",
        "outputId": "0bb9c383-ee33-4f33-f260-c57d7a3fb0cf",
        "colab": {
          "base_uri": "https://localhost:8080/"
        }
      },
      "execution_count": null,
      "outputs": [
        {
          "output_type": "stream",
          "name": "stdout",
          "text": [
            "{'1': 1, '2': 2, '3': 3}\n",
            "<class 'dict'>\n",
            "1\n"
          ]
        }
      ]
    },
    {
      "cell_type": "code",
      "source": [
        "d={2:100,'4':200,6:300,'8':400,10:500}\n",
        "print(d)\n",
        "\n",
        "for i in d.keys():\n",
        "  print(i)\n",
        "  print(type(i) )\n",
        "\n",
        "for i in d.values():\n",
        "  print(i)\n",
        "  print(type(i) )\n",
        "\n",
        "\n",
        "for i in d.items():\n",
        "  print(i)\n",
        "  print(type(i) )\n"
      ],
      "metadata": {
        "id": "gq0MmNf9eY7o",
        "outputId": "988d4fe9-7110-421e-cdb7-779203d4692a",
        "colab": {
          "base_uri": "https://localhost:8080/"
        }
      },
      "execution_count": null,
      "outputs": [
        {
          "output_type": "stream",
          "name": "stdout",
          "text": [
            "{2: 100, '4': 200, 6: 300, '8': 400, 10: 500}\n",
            "2\n",
            "<class 'int'>\n",
            "4\n",
            "<class 'str'>\n",
            "6\n",
            "<class 'int'>\n",
            "8\n",
            "<class 'str'>\n",
            "10\n",
            "<class 'int'>\n",
            "100\n",
            "<class 'int'>\n",
            "200\n",
            "<class 'int'>\n",
            "300\n",
            "<class 'int'>\n",
            "400\n",
            "<class 'int'>\n",
            "500\n",
            "<class 'int'>\n",
            "(2, 100)\n",
            "<class 'tuple'>\n",
            "('4', 200)\n",
            "<class 'tuple'>\n",
            "(6, 300)\n",
            "<class 'tuple'>\n",
            "('8', 400)\n",
            "<class 'tuple'>\n",
            "(10, 500)\n",
            "<class 'tuple'>\n"
          ]
        }
      ]
    },
    {
      "cell_type": "code",
      "source": [
        "#Second duplicate key - value is ignored - no error\n",
        "d={2:100,'4':200,4:250,6:300,'8':400,10:500,2:600}\n",
        "print(d)\n",
        "print( d(2))\n",
        "\n",
        "for k,v in d.items():\n",
        "  print('key =',k,' value = ',v)\n",
        "  print('key type=',type(k),' value type= ',type(v))\n"
      ],
      "metadata": {
        "id": "Wgc6-Tiqfjlv",
        "outputId": "909a580c-345d-4d94-ead2-3de9f899ca59",
        "colab": {
          "base_uri": "https://localhost:8080/"
        }
      },
      "execution_count": null,
      "outputs": [
        {
          "output_type": "stream",
          "name": "stdout",
          "text": [
            "{2: 600, '4': 200, 4: 250, 6: 300, '8': 400, 10: 500}\n",
            "key = 2  value =  600\n",
            "key type= <class 'int'>  value type=  <class 'int'>\n",
            "key = 4  value =  200\n",
            "key type= <class 'str'>  value type=  <class 'int'>\n",
            "key = 4  value =  250\n",
            "key type= <class 'int'>  value type=  <class 'int'>\n",
            "key = 6  value =  300\n",
            "key type= <class 'int'>  value type=  <class 'int'>\n",
            "key = 8  value =  400\n",
            "key type= <class 'str'>  value type=  <class 'int'>\n",
            "key = 10  value =  500\n",
            "key type= <class 'int'>  value type=  <class 'int'>\n"
          ]
        }
      ]
    },
    {
      "cell_type": "code",
      "source": [
        "d={2:100,2:600,2:300,'4':200,4:250,6:300,'8':400,10:500, 2:800}\n",
        "print(d)\n",
        "print( d[2])"
      ],
      "metadata": {
        "id": "Q45kh2yeidV1",
        "outputId": "468e385e-537d-4ec3-952f-4fa328b3018f",
        "colab": {
          "base_uri": "https://localhost:8080/"
        }
      },
      "execution_count": null,
      "outputs": [
        {
          "output_type": "stream",
          "name": "stdout",
          "text": [
            "{2: 800, '4': 200, 4: 250, 6: 300, '8': 400, 10: 500}\n",
            "800\n"
          ]
        }
      ]
    },
    {
      "cell_type": "code",
      "source": [
        "temp_list =[1,2,3]\n",
        "print(temp_list)\n",
        "for i in range(len(temp_list)):\n",
        "  temp_list.insert(i,i)\n",
        "  print('index is -> ',i, ' list is -> ', temp_list)\n",
        "print(temp_list)"
      ],
      "metadata": {
        "id": "Q8hW_lvkjERB",
        "outputId": "aa9c55cf-eefa-4828-cd9c-f1098d4b9837",
        "colab": {
          "base_uri": "https://localhost:8080/"
        }
      },
      "execution_count": null,
      "outputs": [
        {
          "output_type": "stream",
          "name": "stdout",
          "text": [
            "[1, 2, 3]\n",
            "index is ->  0  list is ->  [0, 1, 2, 3]\n",
            "index is ->  1  list is ->  [0, 1, 1, 2, 3]\n",
            "index is ->  2  list is ->  [0, 1, 2, 1, 2, 3]\n",
            "[0, 1, 2, 1, 2, 3]\n"
          ]
        }
      ]
    },
    {
      "cell_type": "code",
      "source": [
        "l1 = [1,2,3]\n",
        "l2 = l1\n",
        "del l1[1:2]\n",
        "print(l1)\n",
        "print(l2)\n",
        "#Assignement operator points to same list"
      ],
      "metadata": {
        "id": "rOeIYGs4oJmV",
        "outputId": "18814406-11f9-4c7b-f188-5531c34ff33e",
        "colab": {
          "base_uri": "https://localhost:8080/"
        }
      },
      "execution_count": null,
      "outputs": [
        {
          "output_type": "stream",
          "name": "stdout",
          "text": [
            "[1, 3]\n",
            "[1, 3]\n"
          ]
        }
      ]
    },
    {
      "cell_type": "code",
      "source": [
        "ratings = [3.0,4.5,6.3,4.5,6.7]\n",
        "print(ratings[-2:-4:1])\n",
        "print(ratings[-2:-4:-1])"
      ],
      "metadata": {
        "id": "d_w18QZsoqAn",
        "outputId": "36fd564c-da57-41c9-b42a-c2da33e8d706",
        "colab": {
          "base_uri": "https://localhost:8080/"
        }
      },
      "execution_count": null,
      "outputs": [
        {
          "output_type": "stream",
          "name": "stdout",
          "text": [
            "[]\n",
            "[4.5, 6.3]\n"
          ]
        }
      ]
    },
    {
      "cell_type": "code",
      "source": [],
      "metadata": {
        "id": "wdieTVkiplqU"
      },
      "execution_count": null,
      "outputs": []
    },
    {
      "cell_type": "code",
      "source": [
        "temp_list =[1,2,3]\n",
        "print(temp_list)\n",
        "for i in range(len(temp_list)):\n",
        "  print(i)\n",
        "  print(temp_list)\n",
        "  print(len(temp_list))\n",
        "  temp_list.insert(0,i)\n",
        "print(temp_list)"
      ],
      "metadata": {
        "id": "wD7y90Dekv8v",
        "outputId": "00d58299-6456-4401-bea7-c4997a7f433e",
        "colab": {
          "base_uri": "https://localhost:8080/"
        }
      },
      "execution_count": null,
      "outputs": [
        {
          "output_type": "stream",
          "name": "stdout",
          "text": [
            "[1, 2, 3]\n",
            "0\n",
            "[1, 2, 3]\n",
            "3\n",
            "1\n",
            "[0, 1, 2, 3]\n",
            "4\n",
            "2\n",
            "[1, 0, 1, 2, 3]\n",
            "5\n",
            "[2, 1, 0, 1, 2, 3]\n"
          ]
        }
      ]
    },
    {
      "cell_type": "code",
      "source": [
        "d={2:100,'4':200,4:250,6:300,'8':400,10:500}\n",
        "print(d)\n",
        "print(d[2])\n",
        "d[2]=1000\n",
        "print(d)\n",
        "d.update({2:2000})\n",
        "print(d)"
      ],
      "metadata": {
        "id": "bmc9bBZehY_c",
        "outputId": "016d0a4f-fbb9-401a-8c82-9b4415f5612c",
        "colab": {
          "base_uri": "https://localhost:8080/"
        }
      },
      "execution_count": null,
      "outputs": [
        {
          "output_type": "stream",
          "name": "stdout",
          "text": [
            "{2: 100, '4': 200, 4: 250, 6: 300, '8': 400, 10: 500}\n",
            "100\n",
            "{2: 1000, '4': 200, 4: 250, 6: 300, '8': 400, 10: 500}\n",
            "{2: 2000, '4': 200, 4: 250, 6: 300, '8': 400, 10: 500}\n"
          ]
        }
      ]
    },
    {
      "cell_type": "code",
      "source": [
        "d={2:100,4:200,6:300,8:400,10:500}\n",
        "print(d)\n",
        "\n",
        "print(d.keys())\n",
        "print(d.values())\n",
        "print(d.items())\n",
        "\n",
        "d={2:100,'4':200,6:300,'8':400,10:500}\n",
        "print(d.get('4'))\n",
        "\n",
        "for Key in d:\n",
        "  print(d[Key])\n",
        "  print(d.get(Key))\n",
        "  print(Key)\n",
        "  print(Key.values())"
      ],
      "metadata": {
        "id": "D7DkwaDea6n0",
        "outputId": "9b83fd34-5139-47e9-a4b9-500c9cdb5dbd",
        "colab": {
          "base_uri": "https://localhost:8080/",
          "height": 309
        }
      },
      "execution_count": null,
      "outputs": [
        {
          "output_type": "stream",
          "name": "stdout",
          "text": [
            "{2: 100, 4: 200, 6: 300, 8: 400, 10: 500}\n",
            "dict_keys([2, 4, 6, 8, 10])\n",
            "dict_values([100, 200, 300, 400, 500])\n",
            "dict_items([(2, 100), (4, 200), (6, 300), (8, 400), (10, 500)])\n",
            "200\n",
            "100\n",
            "100\n",
            "2\n"
          ]
        },
        {
          "output_type": "error",
          "ename": "AttributeError",
          "evalue": "'int' object has no attribute 'values'",
          "traceback": [
            "\u001b[0;31m---------------------------------------------------------------------------\u001b[0m",
            "\u001b[0;31mAttributeError\u001b[0m                            Traceback (most recent call last)",
            "\u001b[0;32m<ipython-input-12-d74e3976a0ad>\u001b[0m in \u001b[0;36m<cell line: 11>\u001b[0;34m()\u001b[0m\n\u001b[1;32m     13\u001b[0m   \u001b[0mprint\u001b[0m\u001b[0;34m(\u001b[0m\u001b[0md\u001b[0m\u001b[0;34m.\u001b[0m\u001b[0mget\u001b[0m\u001b[0;34m(\u001b[0m\u001b[0mKey\u001b[0m\u001b[0;34m)\u001b[0m\u001b[0;34m)\u001b[0m\u001b[0;34m\u001b[0m\u001b[0;34m\u001b[0m\u001b[0m\n\u001b[1;32m     14\u001b[0m   \u001b[0mprint\u001b[0m\u001b[0;34m(\u001b[0m\u001b[0mKey\u001b[0m\u001b[0;34m)\u001b[0m\u001b[0;34m\u001b[0m\u001b[0;34m\u001b[0m\u001b[0m\n\u001b[0;32m---> 15\u001b[0;31m   \u001b[0mprint\u001b[0m\u001b[0;34m(\u001b[0m\u001b[0mKey\u001b[0m\u001b[0;34m.\u001b[0m\u001b[0mvalues\u001b[0m\u001b[0;34m(\u001b[0m\u001b[0;34m)\u001b[0m\u001b[0;34m)\u001b[0m\u001b[0;34m\u001b[0m\u001b[0;34m\u001b[0m\u001b[0m\n\u001b[0m",
            "\u001b[0;31mAttributeError\u001b[0m: 'int' object has no attribute 'values'"
          ]
        }
      ]
    },
    {
      "cell_type": "markdown",
      "source": [
        "# Day 8 - End"
      ],
      "metadata": {
        "id": "NeZ8GHXgXaUd"
      }
    },
    {
      "cell_type": "code",
      "source": [],
      "metadata": {
        "id": "UmwotYb2dhn3"
      },
      "execution_count": null,
      "outputs": []
    },
    {
      "cell_type": "markdown",
      "source": [
        "# Day 7 - Start"
      ],
      "metadata": {
        "id": "zR220njdRUYn"
      }
    },
    {
      "cell_type": "markdown",
      "source": [
        "You are given a list with various flight connections in Europe. Each connection is represented as a tuple with the following elements:\n",
        "\n",
        "(city_from, city_to, time)\n",
        "\n",
        "For example, the following tuple represents a flight from Amsterdam to Dublin which takes 100 minutes:\n",
        "\n",
        "('Amsterdam', 'Dublin', 100)\n",
        "\n",
        "Your task is to go through all the routes in a loop and check how many of them lead to Rome (i.e. how many of them have city_to equal to 'Rome'). Among the routes to Rome, you should also calculate the average flight time. Print the following the output:\n",
        "\n",
        "{} connections lead to Rome with an average flight time of {} minutes\n",
        "\n",
        "Replace {} with the number of connections and the average flight time.\n",
        "\n",
        "connections = [\n",
        "    ('Amsterdam', 'Dublin', 100),\n",
        "    ('Amsterdam', 'Rome', 140),\n",
        "    ('Rome', 'Warsaw', 130),\n",
        "    ('Minsk', 'Prague', 95),\n",
        "    ('Stockholm', 'Rome', 190),\n",
        "    ('Copenhagen', 'Paris', 120),\n",
        "    ('Madrid', 'Rome', 135),\n",
        "    ('Lisbon', 'Rome', 170),\n",
        "    ('Dublin', 'Rome', 170),\n",
        "    ]"
      ],
      "metadata": {
        "id": "gzDwJCbMmUN2"
      }
    },
    {
      "cell_type": "code",
      "source": [
        "connections = [\n",
        "    ('Amsterdam', 'Dublin', 100),\n",
        "    ('Amsterdam', 'Rome', 140),\n",
        "    ('Rome', 'Warsaw', 130),\n",
        "    ('Minsk', 'Prague', 95),\n",
        "    ('Stockholm', 'Rome', 190),\n",
        "    ('Copenhagen', 'Paris', 120),\n",
        "    ('Madrid', 'Rome', 135),\n",
        "    ('Lisbon', 'Rome', 170),\n",
        "     ('Dublin', 'Rome', 170)\n",
        "  ]\n",
        "time = []\n",
        "for tup in connections:\n",
        "  if tup[1] == 'Rome':\n",
        "    time.append(tup[2])\n",
        "print( len(time),' connections lead to Rome with an average flight time of ',sum(time)/len(time),' minutes')\n",
        "\n",
        "city_from = []\n",
        "city_to = []\n",
        "for tup in connections:\n",
        "  city_from.append(tup[0])\n",
        "  city_to.append(tup[1])\n",
        "print(city_from)\n",
        "print(city_to)\n"
      ],
      "metadata": {
        "id": "BUgcaysHl5ze",
        "outputId": "b3caf1f8-f160-4085-dca6-3eddd0d3a967",
        "colab": {
          "base_uri": "https://localhost:8080/"
        }
      },
      "execution_count": null,
      "outputs": [
        {
          "output_type": "stream",
          "name": "stdout",
          "text": [
            "5  connections lead to Rome with an average flight time of  161.0  minutes\n"
          ]
        }
      ]
    },
    {
      "cell_type": "code",
      "source": [
        "t1=(1,2,3,4)\n",
        "print(t1)\n",
        "print(type(t1))\n",
        "if type(t1)=='tuple':\n",
        "  print('t1 is tuple')\n",
        "else:\n",
        "  print('t1 is not tuple')"
      ],
      "metadata": {
        "id": "uxVrovRok249",
        "outputId": "9e608cb7-3989-4b70-b4fd-98b128805dba",
        "colab": {
          "base_uri": "https://localhost:8080/"
        }
      },
      "execution_count": null,
      "outputs": [
        {
          "output_type": "stream",
          "name": "stdout",
          "text": [
            "(1, 2, 3, 4)\n",
            "<class 'tuple'>\n",
            "t1 is not tuple\n"
          ]
        }
      ]
    },
    {
      "cell_type": "markdown",
      "source": [
        "Tuple"
      ],
      "metadata": {
        "id": "qolTDjoxk4rl"
      }
    },
    {
      "cell_type": "code",
      "source": [
        "a=7\n",
        "b=8\n",
        "a=a+b\n",
        "b=a-b\n",
        "a=a-b\n",
        "print(a,b)\n",
        "a,b=b,a\n",
        "print(a,b)"
      ],
      "metadata": {
        "id": "ITCsYJPzRfYM",
        "outputId": "1ccdf252-9ccf-4e7f-caf6-f2799a1110e0",
        "colab": {
          "base_uri": "https://localhost:8080/"
        }
      },
      "execution_count": null,
      "outputs": [
        {
          "output_type": "stream",
          "name": "stdout",
          "text": [
            "8 7\n",
            "7 8\n"
          ]
        }
      ]
    },
    {
      "cell_type": "code",
      "source": [
        "city=['blr','mum','Che','cochin']\n",
        "print(city)\n",
        "print(city[0])\n",
        "print(city[1])\n",
        "print(city[2])\n",
        "print(city[3])\n",
        "city[0],city[3],city[1],city[2] = city[3],city[0],city[2],city[1]\n",
        "print(city)\n",
        "city[1],city[2] = city[2],city[1]\n",
        "city.sort()\n",
        "print(city)\n",
        "city.sort(reverse=True)\n",
        "print(city)"
      ],
      "metadata": {
        "id": "4rIOgVmVSRvR",
        "outputId": "99e192b9-9732-4adb-dc0a-b78f7f1cc49f",
        "colab": {
          "base_uri": "https://localhost:8080/"
        }
      },
      "execution_count": null,
      "outputs": [
        {
          "output_type": "stream",
          "name": "stdout",
          "text": [
            "['blr', 'mum', 'Che', 'cochin']\n",
            "blr\n",
            "mum\n",
            "Che\n",
            "cochin\n",
            "['cochin', 'Che', 'mum', 'blr']\n",
            "['Che', 'blr', 'cochin', 'mum']\n",
            "['mum', 'cochin', 'blr', 'Che']\n"
          ]
        }
      ]
    },
    {
      "cell_type": "code",
      "source": [
        "l=[2,31,1,0,5]\n",
        "print(l)\n",
        "l.sort()\n",
        "print(l)\n",
        "display(l.sort())\n",
        "print(l.sort())\n",
        "print(l)\n",
        "l.sort(reverse=True)\n",
        "print(l)\n",
        "print(sorted(l))\n",
        "print(sorted(l,reverse=True))"
      ],
      "metadata": {
        "id": "TPulDEp2UgNT",
        "outputId": "4770c970-e14e-4c4c-9943-efdba4a2b1c3",
        "colab": {
          "base_uri": "https://localhost:8080/",
          "height": 105
        }
      },
      "execution_count": null,
      "outputs": [
        {
          "output_type": "error",
          "ename": "SyntaxError",
          "evalue": "invalid syntax (<ipython-input-41-83ea06ef4733>, line 6)",
          "traceback": [
            "\u001b[0;36m  File \u001b[0;32m\"<ipython-input-41-83ea06ef4733>\"\u001b[0;36m, line \u001b[0;32m6\u001b[0m\n\u001b[0;31m    print(p->l.sort())\u001b[0m\n\u001b[0m           ^\u001b[0m\n\u001b[0;31mSyntaxError\u001b[0m\u001b[0;31m:\u001b[0m invalid syntax\n"
          ]
        }
      ]
    },
    {
      "cell_type": "code",
      "source": [
        "invited_guest = ['Kate','Adam','Kerry','Joe']\n",
        "print(invited_guest)\n",
        "print(sorted(invited_guest))\n",
        "print(sorted(invited_guest,reverse=True))\n",
        "attendee= input('Name: ').upper()\n",
        "print(attendee)\n",
        "if attendee in invited_guest:\n",
        "  print('You are invited')\n",
        "else:\n",
        "  print('You are not invited')"
      ],
      "metadata": {
        "id": "5cF8WDw0YSuy",
        "outputId": "962e6421-e9c5-4623-f627-2dc96a38d3d8",
        "colab": {
          "base_uri": "https://localhost:8080/"
        }
      },
      "execution_count": null,
      "outputs": [
        {
          "output_type": "stream",
          "name": "stdout",
          "text": [
            "['Kate', 'Adam', 'Kerry', 'Joe']\n",
            "['Adam', 'Joe', 'Kate', 'Kerry']\n",
            "['Kerry', 'Kate', 'Joe', 'Adam']\n",
            "Name: anurag\n",
            "ANURAG\n",
            "You are not invited\n"
          ]
        }
      ]
    },
    {
      "cell_type": "markdown",
      "source": [
        "# Day 7 - end"
      ],
      "metadata": {
        "id": "lZnwr6zxRUtn"
      }
    },
    {
      "cell_type": "markdown",
      "source": [
        "# DAY 6 - Start\n"
      ],
      "metadata": {
        "id": "Xn5W9zwBISdv"
      }
    },
    {
      "cell_type": "code",
      "source": [
        "#List\n",
        "p =[]\n",
        "print(p)\n",
        "l = [1,2,3,4]\n",
        "print(l)\n",
        "type(l)\n",
        "print(type(p))\n",
        "print(l[-2])"
      ],
      "metadata": {
        "id": "YHBd5BJDJj5h",
        "outputId": "f09e805a-2fc5-447b-8c88-81669a967f5a",
        "colab": {
          "base_uri": "https://localhost:8080/"
        }
      },
      "execution_count": null,
      "outputs": [
        {
          "output_type": "stream",
          "name": "stdout",
          "text": [
            "[]\n",
            "[1, 2, 3, 4]\n",
            "<class 'list'>\n",
            "3\n"
          ]
        }
      ]
    },
    {
      "cell_type": "code",
      "source": [
        "print(l[100])"
      ],
      "metadata": {
        "id": "mf0VLRE-LQmt",
        "outputId": "e665ee80-4c06-49a7-955a-d646e7126171",
        "colab": {
          "base_uri": "https://localhost:8080/",
          "height": 139
        }
      },
      "execution_count": null,
      "outputs": [
        {
          "output_type": "error",
          "ename": "IndexError",
          "evalue": "list index out of range",
          "traceback": [
            "\u001b[0;31m---------------------------------------------------------------------------\u001b[0m",
            "\u001b[0;31mIndexError\u001b[0m                                Traceback (most recent call last)",
            "\u001b[0;32m<ipython-input-11-683522e35835>\u001b[0m in \u001b[0;36m<cell line: 1>\u001b[0;34m()\u001b[0m\n\u001b[0;32m----> 1\u001b[0;31m \u001b[0mprint\u001b[0m\u001b[0;34m(\u001b[0m\u001b[0ml\u001b[0m\u001b[0;34m[\u001b[0m\u001b[0;36m100\u001b[0m\u001b[0;34m]\u001b[0m\u001b[0;34m)\u001b[0m\u001b[0;34m\u001b[0m\u001b[0;34m\u001b[0m\u001b[0m\n\u001b[0m",
            "\u001b[0;31mIndexError\u001b[0m: list index out of range"
          ]
        }
      ]
    },
    {
      "cell_type": "code",
      "source": [
        "print(l[0:4])"
      ],
      "metadata": {
        "id": "POCRP2h3Lh9W",
        "outputId": "af94f2ad-fe33-420f-fa21-a36fb753ff19",
        "colab": {
          "base_uri": "https://localhost:8080/"
        }
      },
      "execution_count": null,
      "outputs": [
        {
          "output_type": "stream",
          "name": "stdout",
          "text": [
            "[1, 2, 3, 4]\n"
          ]
        }
      ]
    },
    {
      "cell_type": "code",
      "source": [
        "l=[1,2,3.0,'blr',200,400]\n",
        "print(l[-7:-3:1])\n",
        "print(l[-7:-4:-1])\n",
        "print(l[-4:-7:-1])\n",
        "print(l[-1:-4:-1])\n"
      ],
      "metadata": {
        "id": "ANWpA7DTLwb5",
        "outputId": "d29627f3-0e31-4cbf-fab6-08e9a03e00c5",
        "colab": {
          "base_uri": "https://localhost:8080/"
        }
      },
      "execution_count": null,
      "outputs": [
        {
          "output_type": "stream",
          "name": "stdout",
          "text": [
            "[1, 2, 3.0]\n",
            "[]\n",
            "[3.0, 2, 1]\n",
            "[400, 200, 'blr']\n"
          ]
        }
      ]
    },
    {
      "cell_type": "code",
      "source": [
        "l=[1,2,3.0,'blr',200,400]\n",
        "\n",
        "print(list(reversed(l))[-1:-4:-1])\n",
        "print(l[::-1][-1:-4:-1])\n",
        "print (l [-4::-1][::-1])\n",
        "print(l[-4:-7:-1][::-1])\n",
        "print(l[-7:-3:1])\n",
        "print(l[-6:3:1])\n",
        "print(l[-6:3:])"
      ],
      "metadata": {
        "id": "qlc4F_cHNW3R",
        "outputId": "99ac3685-c6f1-47e5-a0ab-e8c93c7cf6c2",
        "colab": {
          "base_uri": "https://localhost:8080/"
        }
      },
      "execution_count": null,
      "outputs": [
        {
          "output_type": "stream",
          "name": "stdout",
          "text": [
            "[1, 2, 3.0]\n",
            "[1, 2, 3.0]\n",
            "[1, 2, 3.0]\n",
            "[1, 2, 3.0]\n",
            "[1, 2, 3.0]\n",
            "[1, 2, 3.0]\n",
            "[1, 2, 3.0]\n"
          ]
        }
      ]
    },
    {
      "cell_type": "code",
      "source": [
        "l=[1,2,3.0,'blr',200,400]\n",
        "print(l[-4::-1])"
      ],
      "metadata": {
        "id": "zmPydZqZWBQH",
        "outputId": "c427f9d9-8cff-4d11-a8ca-5d4655d8c770",
        "colab": {
          "base_uri": "https://localhost:8080/"
        }
      },
      "execution_count": null,
      "outputs": [
        {
          "output_type": "stream",
          "name": "stdout",
          "text": [
            "[3.0, 2, 1]\n"
          ]
        }
      ]
    },
    {
      "cell_type": "code",
      "source": [
        "l=[1,2,3,4,5,6,7,8,9]\n",
        "print(l[0:9:2])\n",
        "del l[0]\n",
        "print(l)\n",
        "l.append(0)\n",
        "print(l)\n",
        "l.insert(0,1)\n",
        "print(l)\n",
        "sum = 0\n",
        "for i in range(len(l)):\n",
        "  sum = sum + l[i]\n",
        "print(sum)"
      ],
      "metadata": {
        "id": "nGRlIhQ2RfbQ",
        "outputId": "6ea6ed9d-1aa1-4f3e-b69d-b5c867b61865",
        "colab": {
          "base_uri": "https://localhost:8080/"
        }
      },
      "execution_count": null,
      "outputs": [
        {
          "output_type": "stream",
          "name": "stdout",
          "text": [
            "[1, 3, 5, 7, 9]\n",
            "[2, 3, 4, 5, 6, 7, 8, 9]\n",
            "[2, 3, 4, 5, 6, 7, 8, 9, 0]\n",
            "[1, 2, 3, 4, 5, 6, 7, 8, 9, 0]\n",
            "45\n"
          ]
        }
      ]
    },
    {
      "cell_type": "code",
      "source": [
        "l=[1,2,3,4,5,6,7,8,9]\n",
        "sum = 0\n",
        "for i in range(len(l)):\n",
        "  sum = sum + l[i]\n",
        "print(sum)\n",
        "\n",
        "sum = 0\n",
        "for i in l:\n",
        "  sum = sum + i\n",
        "print(sum)"
      ],
      "metadata": {
        "id": "wH_zLUeIZrQe",
        "outputId": "c2b52b25-69dc-403a-90c1-f97d8b87429b",
        "colab": {
          "base_uri": "https://localhost:8080/"
        }
      },
      "execution_count": null,
      "outputs": [
        {
          "output_type": "stream",
          "name": "stdout",
          "text": [
            "45\n",
            "45\n"
          ]
        }
      ]
    },
    {
      "cell_type": "code",
      "source": [
        "low_spending = []\n",
        "normal_spending = []\n",
        "high_spending = []\n",
        "spendings = [1346.0, 987.50, 1734.40, 2567.0, 3271.45, 2500.0, 2130.0, 2510.30, 2987.34, 3120.50, 4069.78, 1000.0]\n",
        "for s in spendings:\n",
        "  if s < 1000:\n",
        "    low_spending.append(s)\n",
        "  elif s >= 1000 and s < 2500:\n",
        "    normal_spending.append(s)\n",
        "  else:\n",
        "    high_spending.append(s)\n",
        "\n",
        "print('Number of month with low spendings:',len(low_spending),' normal spendings:',len(normal_spending),' high spendings:',len(high_spending))\n",
        "print('Low spendings:',low_spending,' normal spendings:',normal_spending,' high spendings:',high_spending)"
      ],
      "metadata": {
        "id": "EpWTda0bZ6QF",
        "outputId": "5c6e7699-2b5c-48da-9bdc-7e82d172ce0b",
        "colab": {
          "base_uri": "https://localhost:8080/"
        }
      },
      "execution_count": null,
      "outputs": [
        {
          "output_type": "stream",
          "name": "stdout",
          "text": [
            "Number of month with low spendings: 1  normal spendings: 4  high spendings: 7\n",
            "Low spendings: [987.5]  normal spendings: [1346.0, 1734.4, 2130.0, 1000.0]  high spendings: [2567.0, 3271.45, 2500.0, 2510.3, 2987.34, 3120.5, 4069.78]\n"
          ]
        }
      ]
    },
    {
      "cell_type": "markdown",
      "source": [
        "# DAY 6 - End"
      ],
      "metadata": {
        "id": "yPvmkfFdITxJ"
      }
    },
    {
      "cell_type": "markdown",
      "source": [
        "# Day 5 - Start\n",
        "\n",
        "\n",
        "*   String Manipulation\n",
        "*   List item\n",
        "\n"
      ],
      "metadata": {
        "id": "ejosn59aw6kn"
      }
    },
    {
      "cell_type": "code",
      "source": [
        "s=\"It's a rainy day in Virginia\"\n",
        "print(s.count('a'))\n",
        "print(s.find('a'))\n",
        "print(s.find('a',3,20))\n",
        "print(s.find('a',6,20))\n",
        "print(s.upper())\n",
        "print(s.lower())\n",
        "print(s.capitalize())\n",
        "print(s.title())\n",
        "print(s.replace('a','A'))\n",
        "print(s.swapcase())\n",
        "print(s.isalpha())\n",
        "print(s.isalnum())\n",
        "print(s.rfind('a',6,20))"
      ],
      "metadata": {
        "id": "hTyUBH8RxE3T",
        "outputId": "a49d4876-8f07-456d-ed09-19a469785289",
        "colab": {
          "base_uri": "https://localhost:8080/"
        }
      },
      "execution_count": null,
      "outputs": [
        {
          "output_type": "stream",
          "name": "stdout",
          "text": [
            "4\n",
            "5\n",
            "5\n",
            "8\n",
            "IT'S A RAINY DAY IN VIRGINIA\n",
            "it's a rainy day in virginia\n",
            "It's a rainy day in virginia\n",
            "It'S A Rainy Day In Virginia\n",
            "It's A rAiny dAy in VirginiA\n",
            "iT'S A RAINY DAY IN vIRGINIA\n",
            "False\n",
            "False\n",
            "14\n"
          ]
        }
      ]
    },
    {
      "cell_type": "code",
      "source": [
        "print(sorted(s))"
      ],
      "metadata": {
        "id": "qDjIgBS-ymuc",
        "outputId": "ce24b7c2-3169-4bbf-ee99-cd6abf8a4c17",
        "colab": {
          "base_uri": "https://localhost:8080/"
        }
      },
      "execution_count": null,
      "outputs": [
        {
          "output_type": "stream",
          "name": "stdout",
          "text": [
            "[' ', ' ', ' ', ' ', ' ', \"'\", 'I', 'V', 'a', 'a', 'a', 'a', 'd', 'g', 'i', 'i', 'i', 'i', 'i', 'n', 'n', 'n', 'r', 'r', 's', 't', 'y', 'y']\n"
          ]
        }
      ]
    },
    {
      "cell_type": "code",
      "source": [
        "inputString=input(\"Enter a string: \")\n",
        "reversString=inputString[::-1]\n",
        "if inputString == reversString:\n",
        "  print(\"String is palindrome\")\n",
        "else:\n",
        "  print(\"String is not palindrome\")"
      ],
      "metadata": {
        "id": "iLUfzo4Wy2Hm",
        "outputId": "237396f0-8f70-4e6c-fd61-2e904154708d",
        "colab": {
          "base_uri": "https://localhost:8080/"
        }
      },
      "execution_count": null,
      "outputs": [
        {
          "output_type": "stream",
          "name": "stdout",
          "text": [
            "Enter a string: kayak\n",
            "String is palindrome\n"
          ]
        }
      ]
    },
    {
      "cell_type": "code",
      "source": [
        "s=\"dog go to dog park to play with another dog\"\n",
        "findString=in\n",
        "for i in range(s.count('findString')):\n",
        "  print('findString','s')\n"
      ],
      "metadata": {
        "id": "pZTbJ9Ri0Iir"
      },
      "execution_count": null,
      "outputs": []
    },
    {
      "cell_type": "code",
      "source": [
        "s= 'a quick brown fax jumps over the lazy dog'\n",
        "stringtofind='aeiouAEIOU'\n",
        "for char in s:\n",
        "  if char not in stringtofind:\n",
        "    print(char,end=' ')"
      ],
      "metadata": {
        "id": "RsK_daTG12Qs",
        "outputId": "8c6a31ec-9e6c-4cf8-a119-ead4c4387b8d",
        "colab": {
          "base_uri": "https://localhost:8080/"
        }
      },
      "execution_count": null,
      "outputs": [
        {
          "output_type": "stream",
          "name": "stdout",
          "text": [
            "  q c k   b r w n   f x   j m p s   v r   t h   l z y   d g "
          ]
        }
      ]
    },
    {
      "cell_type": "markdown",
      "source": [
        "**Anagram**"
      ],
      "metadata": {
        "id": "0BfagznJ4kWf"
      }
    },
    {
      "cell_type": "code",
      "source": [
        "str1=input(\"Enter string 1: \")\n",
        "str2=input(\"Enter string 2: \")\n",
        "if sorted(str1) == sorted(str2):\n",
        "  print(\"Anagram\")\n",
        "else:\n",
        "  print(\"Not Anagram\")"
      ],
      "metadata": {
        "id": "p6ytxTLc3eL6",
        "outputId": "8bd2cd44-09e5-4af0-affd-ab08383a42e0",
        "colab": {
          "base_uri": "https://localhost:8080/"
        }
      },
      "execution_count": null,
      "outputs": [
        {
          "output_type": "stream",
          "name": "stdout",
          "text": [
            "Enter string 1: ram\n",
            "Enter string 2: mar\n",
            "Anagram\n"
          ]
        }
      ]
    },
    {
      "cell_type": "markdown",
      "source": [
        "# Day 5 - End"
      ],
      "metadata": {
        "id": "hD1M-TEEwwup"
      }
    },
    {
      "cell_type": "markdown",
      "source": [
        "**Using quotes(single, double) and escape \"\\\" character**"
      ],
      "metadata": {
        "id": "A8lNgBYCSrx7"
      }
    },
    {
      "cell_type": "code",
      "source": [
        "print(\"What's your name?\")\n",
        "print('What\"s your name?')\n",
        "print('What\\'s your name?')"
      ],
      "metadata": {
        "id": "-hrYCCdERtsO",
        "outputId": "fcd252c1-1a63-448d-bdb6-3ab933a186f6",
        "colab": {
          "base_uri": "https://localhost:8080/"
        }
      },
      "execution_count": null,
      "outputs": [
        {
          "output_type": "stream",
          "name": "stdout",
          "text": [
            "What's your name?\n",
            "What\"s your name?\n",
            "What's your name?\n"
          ]
        }
      ]
    },
    {
      "cell_type": "code",
      "source": [
        "a=5\n",
        "b=2\n",
        "res=a+b\n",
        "print(res)\n",
        "print(a+b)"
      ],
      "metadata": {
        "id": "-zeZgn-UQ0AT",
        "outputId": "5b2f10eb-a5a1-4be4-b570-53c20186dd79",
        "colab": {
          "base_uri": "https://localhost:8080/"
        }
      },
      "execution_count": null,
      "outputs": [
        {
          "output_type": "stream",
          "name": "stdout",
          "text": [
            "7\n",
            "7\n"
          ]
        }
      ]
    },
    {
      "cell_type": "markdown",
      "source": [
        "**variable Name**"
      ],
      "metadata": {
        "id": "itL52M9sSBcj"
      }
    },
    {
      "cell_type": "code",
      "source": [
        "_a=10\n",
        "print(_a)\n",
        "a=9\n",
        "print(a)\n",
        "A=8\n",
        "print(A)\n",
        "print(a+A+_a)"
      ],
      "metadata": {
        "id": "iIgWP6t8SASU",
        "outputId": "5e0da86f-a00f-4f52-a286-cd43687467ab",
        "colab": {
          "base_uri": "https://localhost:8080/"
        }
      },
      "execution_count": null,
      "outputs": [
        {
          "output_type": "stream",
          "name": "stdout",
          "text": [
            "10\n",
            "9\n",
            "8\n",
            "27\n"
          ]
        }
      ]
    },
    {
      "cell_type": "markdown",
      "source": [
        "**Change in Data Type**"
      ],
      "metadata": {
        "id": "LctQL7jNSjWY"
      }
    },
    {
      "cell_type": "code",
      "source": [
        "a=\"Anurag\"\n",
        "print(a)\n",
        "a=5\n",
        "print(a)\n",
        "a=-2\n",
        "print(a)\n",
        "a=1.2\n",
        "print(a)\n",
        "a=\"Anurag\"\n",
        "a=5\n",
        "a=-2\n",
        "a=1.2\n",
        "print(a)"
      ],
      "metadata": {
        "id": "GFh6XibuSnmK",
        "outputId": "37218798-4657-49bd-847f-f270c05e848a",
        "colab": {
          "base_uri": "https://localhost:8080/"
        }
      },
      "execution_count": null,
      "outputs": [
        {
          "output_type": "stream",
          "name": "stdout",
          "text": [
            "Anurag\n",
            "5\n",
            "-2\n",
            "1.2\n",
            "1.2\n"
          ]
        }
      ]
    },
    {
      "cell_type": "markdown",
      "source": [
        "**Operators**\n",
        "\n",
        "Arithmatic operators  + - * /\n",
        "Other Operator // %"
      ],
      "metadata": {
        "id": "Go_H1uaIU3JR"
      }
    },
    {
      "cell_type": "code",
      "source": [
        "2+5"
      ],
      "metadata": {
        "id": "TqHXW3xZVDjB",
        "outputId": "b758231b-1dc3-4a4b-c35c-9a0eee3686bc",
        "colab": {
          "base_uri": "https://localhost:8080/"
        }
      },
      "execution_count": null,
      "outputs": [
        {
          "output_type": "execute_result",
          "data": {
            "text/plain": [
              "7"
            ]
          },
          "metadata": {},
          "execution_count": 10
        }
      ]
    },
    {
      "cell_type": "code",
      "source": [
        "2-3"
      ],
      "metadata": {
        "id": "zxujQtm2VGOo",
        "outputId": "d81b58b7-5a80-4ca3-a42c-6b9d45c05703",
        "colab": {
          "base_uri": "https://localhost:8080/"
        }
      },
      "execution_count": null,
      "outputs": [
        {
          "output_type": "execute_result",
          "data": {
            "text/plain": [
              "-1"
            ]
          },
          "metadata": {},
          "execution_count": 11
        }
      ]
    },
    {
      "cell_type": "code",
      "source": [
        "5/2"
      ],
      "metadata": {
        "id": "BLSFhwr7VM3J",
        "outputId": "3a8125db-d4b5-4691-b49e-a8ce0a83ac3d",
        "colab": {
          "base_uri": "https://localhost:8080/"
        }
      },
      "execution_count": null,
      "outputs": [
        {
          "output_type": "execute_result",
          "data": {
            "text/plain": [
              "2.5"
            ]
          },
          "metadata": {},
          "execution_count": 12
        }
      ]
    },
    {
      "cell_type": "code",
      "source": [
        "6/3"
      ],
      "metadata": {
        "id": "c9Ymlt_QVQLG",
        "outputId": "8ec9b0f2-a6de-4dcd-bdaf-a1bff9a03544",
        "colab": {
          "base_uri": "https://localhost:8080/"
        }
      },
      "execution_count": null,
      "outputs": [
        {
          "output_type": "execute_result",
          "data": {
            "text/plain": [
              "2.0"
            ]
          },
          "metadata": {},
          "execution_count": 13
        }
      ]
    },
    {
      "cell_type": "markdown",
      "source": [
        "Python division always returns floating point int/int = float\n",
        "If you need integer then use // like int//int = int"
      ],
      "metadata": {
        "id": "7cX5njDiVS-h"
      }
    },
    {
      "cell_type": "code",
      "source": [
        "6//3"
      ],
      "metadata": {
        "id": "bfDe-NjbVkZF",
        "outputId": "608c0781-adbc-46ac-c2f0-0bf6f9e940ee",
        "colab": {
          "base_uri": "https://localhost:8080/"
        }
      },
      "execution_count": null,
      "outputs": [
        {
          "output_type": "execute_result",
          "data": {
            "text/plain": [
              "2"
            ]
          },
          "metadata": {},
          "execution_count": 14
        }
      ]
    },
    {
      "cell_type": "markdown",
      "source": [
        "Mod operator % - it returns the remainder (Numnerator % denominator)\n",
        "if denominator is greater than Numerator then Numerator is returned as is"
      ],
      "metadata": {
        "id": "davMX2XqV5bM"
      }
    },
    {
      "cell_type": "code",
      "source": [
        "6%4"
      ],
      "metadata": {
        "id": "M7vvFOzdV3yO",
        "outputId": "1dbd3261-1027-45a0-e08e-c99ce8c09b71",
        "colab": {
          "base_uri": "https://localhost:8080/"
        }
      },
      "execution_count": null,
      "outputs": [
        {
          "output_type": "execute_result",
          "data": {
            "text/plain": [
              "2"
            ]
          },
          "metadata": {},
          "execution_count": 16
        }
      ]
    },
    {
      "cell_type": "code",
      "source": [
        "4%6"
      ],
      "metadata": {
        "id": "gOfIN9UBWiaH",
        "outputId": "77879e8d-fa76-4784-bb9a-fef6de45a16d",
        "colab": {
          "base_uri": "https://localhost:8080/"
        }
      },
      "execution_count": null,
      "outputs": [
        {
          "output_type": "execute_result",
          "data": {
            "text/plain": [
              "4"
            ]
          },
          "metadata": {},
          "execution_count": 17
        }
      ]
    },
    {
      "cell_type": "code",
      "source": [
        "3%2"
      ],
      "metadata": {
        "id": "hN4qego3Wkr8",
        "outputId": "93096acd-9ecc-4ae4-e799-3e3b9ceb3209",
        "colab": {
          "base_uri": "https://localhost:8080/"
        }
      },
      "execution_count": null,
      "outputs": [
        {
          "output_type": "execute_result",
          "data": {
            "text/plain": [
              "1"
            ]
          },
          "metadata": {},
          "execution_count": 18
        }
      ]
    },
    {
      "cell_type": "code",
      "source": [
        "12312231913931%3"
      ],
      "metadata": {
        "id": "CKXmAPbdWmmF",
        "outputId": "f5def31d-ad01-4183-95ed-5e02e01b7776",
        "colab": {
          "base_uri": "https://localhost:8080/"
        }
      },
      "execution_count": null,
      "outputs": [
        {
          "output_type": "execute_result",
          "data": {
            "text/plain": [
              "2"
            ]
          },
          "metadata": {},
          "execution_count": 19
        }
      ]
    },
    {
      "cell_type": "markdown",
      "source": [
        "**input method for prompt**"
      ],
      "metadata": {
        "id": "wuJPnRIZWye3"
      }
    },
    {
      "cell_type": "code",
      "execution_count": null,
      "metadata": {
        "colab": {
          "base_uri": "https://localhost:8080/"
        },
        "id": "2ez6tn06P1My",
        "outputId": "7738fac8-4856-4fcd-d61a-51ba34acc084"
      },
      "outputs": [
        {
          "output_type": "stream",
          "name": "stdout",
          "text": [
            "What is your name? Anurag\n",
            "Hello, Anurag\n"
          ]
        }
      ],
      "source": [
        "user_name = input('What is your name? ')\n",
        "print('Hello,', user_name)"
      ]
    },
    {
      "cell_type": "code",
      "source": [
        "num1 = input('First Number = ')\n",
        "num2 = input('Second Number = ')\n",
        "res = num1/num2"
      ],
      "metadata": {
        "id": "hJECzLmJYLnv"
      },
      "execution_count": null,
      "outputs": []
    },
    {
      "cell_type": "code",
      "source": [
        "x=11\n",
        "y=4\n",
        "x=x%y\n",
        "y=y%x\n",
        "print(x, y)"
      ],
      "metadata": {
        "id": "_h8ARaAqY3N4",
        "outputId": "141f3675-1c39-4790-ed92-c8c3159a8089",
        "colab": {
          "base_uri": "https://localhost:8080/"
        }
      },
      "execution_count": null,
      "outputs": [
        {
          "output_type": "stream",
          "name": "stdout",
          "text": [
            "3 1\n"
          ]
        }
      ]
    },
    {
      "cell_type": "code",
      "source": [
        "print('let it' + 'snow')\n",
        "print('and' + 'snow')\n",
        "print('let it ' + 'snow')\n",
        "print('and' + ' snow')\n",
        "print('let it' +     'snow')\n",
        "print(        'and' + 'snow')"
      ],
      "metadata": {
        "id": "28HMd-VqZa10",
        "outputId": "1ca649a3-8a0c-4f12-af71-08a3fffb21a0",
        "colab": {
          "base_uri": "https://localhost:8080/"
        }
      },
      "execution_count": null,
      "outputs": [
        {
          "output_type": "stream",
          "name": "stdout",
          "text": [
            "let itsnow\n",
            "andsnow\n",
            "let it snow\n",
            "and snow\n",
            "let itsnow\n",
            "andsnow\n"
          ]
        }
      ]
    },
    {
      "cell_type": "code",
      "source": [
        "a='2'\n",
        "b='3'\n",
        "print(a+b)"
      ],
      "metadata": {
        "id": "g7Z3wbo1Z5a4",
        "outputId": "b7fdce5c-1527-4996-b0bd-148a7f76dedb",
        "colab": {
          "base_uri": "https://localhost:8080/"
        }
      },
      "execution_count": null,
      "outputs": [
        {
          "output_type": "stream",
          "name": "stdout",
          "text": [
            "23\n"
          ]
        }
      ]
    },
    {
      "cell_type": "code",
      "source": [
        "Int within single quotes is treated as string"
      ],
      "metadata": {
        "id": "PmlViHiXaMDl"
      },
      "execution_count": null,
      "outputs": []
    },
    {
      "cell_type": "code",
      "source": [
        "input('Hi , how old are you?')"
      ],
      "metadata": {
        "id": "qrNIBCXFaeKt",
        "outputId": "07582653-bffe-4698-b152-a9b7610192ab",
        "colab": {
          "base_uri": "https://localhost:8080/",
          "height": 52
        }
      },
      "execution_count": null,
      "outputs": [
        {
          "name": "stdout",
          "output_type": "stream",
          "text": [
            "Hi , how old are you?23\n"
          ]
        },
        {
          "output_type": "execute_result",
          "data": {
            "text/plain": [
              "'23'"
            ],
            "application/vnd.google.colaboratory.intrinsic+json": {
              "type": "string"
            }
          },
          "metadata": {},
          "execution_count": 2
        }
      ]
    },
    {
      "cell_type": "markdown",
      "source": [
        "# DAY 2"
      ],
      "metadata": {
        "id": "oLnRlWPVL5dV"
      }
    },
    {
      "cell_type": "markdown",
      "source": [
        "**Typecasting**"
      ],
      "metadata": {
        "id": "OZabqnqfL9b4"
      }
    },
    {
      "cell_type": "code",
      "source": [
        "num1=input(\" input value for number 1\")\n",
        "num2=input(\" input value for number 2\")\n",
        "print(num1+num2)\n",
        "print(num1,num2)\n",
        "print(num1+2)"
      ],
      "metadata": {
        "colab": {
          "base_uri": "https://localhost:8080/",
          "height": 241
        },
        "id": "l3Ceqy9JMBUL",
        "outputId": "fd7bb9d6-3b22-420e-b66a-cb4457b03353"
      },
      "execution_count": null,
      "outputs": [
        {
          "output_type": "stream",
          "name": "stdout",
          "text": [
            " input value for number 14\n",
            " input value for number 266\n",
            "466\n",
            "4 66\n"
          ]
        },
        {
          "output_type": "error",
          "ename": "TypeError",
          "evalue": "can only concatenate str (not \"int\") to str",
          "traceback": [
            "\u001b[0;31m---------------------------------------------------------------------------\u001b[0m",
            "\u001b[0;31mTypeError\u001b[0m                                 Traceback (most recent call last)",
            "\u001b[0;32m<ipython-input-10-9288f8925851>\u001b[0m in \u001b[0;36m<cell line: 5>\u001b[0;34m()\u001b[0m\n\u001b[1;32m      3\u001b[0m \u001b[0mprint\u001b[0m\u001b[0;34m(\u001b[0m\u001b[0mnum1\u001b[0m\u001b[0;34m+\u001b[0m\u001b[0mnum2\u001b[0m\u001b[0;34m)\u001b[0m\u001b[0;34m\u001b[0m\u001b[0;34m\u001b[0m\u001b[0m\n\u001b[1;32m      4\u001b[0m \u001b[0mprint\u001b[0m\u001b[0;34m(\u001b[0m\u001b[0mnum1\u001b[0m\u001b[0;34m,\u001b[0m\u001b[0mnum2\u001b[0m\u001b[0;34m)\u001b[0m\u001b[0;34m\u001b[0m\u001b[0;34m\u001b[0m\u001b[0m\n\u001b[0;32m----> 5\u001b[0;31m \u001b[0mprint\u001b[0m\u001b[0;34m(\u001b[0m\u001b[0mnum1\u001b[0m\u001b[0;34m+\u001b[0m\u001b[0;36m2\u001b[0m\u001b[0;34m)\u001b[0m\u001b[0;34m\u001b[0m\u001b[0;34m\u001b[0m\u001b[0m\n\u001b[0m",
            "\u001b[0;31mTypeError\u001b[0m: can only concatenate str (not \"int\") to str"
          ]
        }
      ]
    },
    {
      "cell_type": "code",
      "source": [
        "a=int(input(\" input value for number 1 =  \"))\n",
        "b=int(input(\" input value for number 2 =  \"))\n",
        "print('a + b = ',a+b)\n",
        "print(a,b)\n",
        "print(a+2)\n",
        "print('The value of a is ',a, ', The value of b is ' ,b ,' and Sum of a + b = ',a+b)\n",
        "print('\\nThe value of a is ',a, '\\nThe value of b is ' ,b ,' \\nSum of a + b = ',a+b)"
      ],
      "metadata": {
        "colab": {
          "base_uri": "https://localhost:8080/"
        },
        "id": "2W4GfiYxMs-h",
        "outputId": "8ac208bf-60cd-459e-bd37-7671eeae056a"
      },
      "execution_count": null,
      "outputs": [
        {
          "output_type": "stream",
          "name": "stdout",
          "text": [
            " input value for number 1 =  3\n",
            " input value for number 2 =  4\n",
            "a + b =  7\n",
            "3 4\n",
            "5\n",
            "The value of a is  3 , The value of b is  4  and Sum of a + b =  7\n",
            "\n",
            "The value of a is  3 \n",
            "The value of b is  4  \n",
            "Sum of a + b =  7\n"
          ]
        }
      ]
    },
    {
      "cell_type": "markdown",
      "source": [
        "Separator\n",
        "default is single space"
      ],
      "metadata": {
        "id": "xA3mMgjuPorT"
      }
    },
    {
      "cell_type": "code",
      "source": [
        "print(a,b)\n",
        "print(a,b,sep='_')\n",
        "print(a,2)"
      ],
      "metadata": {
        "colab": {
          "base_uri": "https://localhost:8080/"
        },
        "id": "ikcRWV1MPn3w",
        "outputId": "587ad0d3-6ad9-46d8-d664-ba85d4d215e9"
      },
      "execution_count": null,
      "outputs": [
        {
          "output_type": "stream",
          "name": "stdout",
          "text": [
            "3 4\n",
            "3_4\n",
            "3 2\n"
          ]
        }
      ]
    },
    {
      "cell_type": "markdown",
      "source": [
        "end of line\n",
        "default \\n"
      ],
      "metadata": {
        "id": "VwyPsPS0QuHN"
      }
    },
    {
      "cell_type": "code",
      "source": [
        "print(a)\n",
        "print(b)\n",
        "print(a,end=', ')\n",
        "print(b)\n",
        "print(a,b,end=', ')"
      ],
      "metadata": {
        "colab": {
          "base_uri": "https://localhost:8080/"
        },
        "id": "sx8saLngQYJk",
        "outputId": "0d10ef73-63ee-4a40-88c8-e2e6e326e169"
      },
      "execution_count": null,
      "outputs": [
        {
          "output_type": "stream",
          "name": "stdout",
          "text": [
            "3\n",
            "4\n",
            "3, 4\n"
          ]
        }
      ]
    },
    {
      "cell_type": "markdown",
      "source": [
        "Celsius to Farenheit conversion F = C * 1.8 + 32"
      ],
      "metadata": {
        "id": "Gmp21Wg6RL8I"
      }
    },
    {
      "cell_type": "code",
      "source": [
        "C=int(input(\" input value for celsius =  \"))\n",
        "F=(C * 1.8) + 32\n",
        "print('Farenheit is = ',F)\n",
        "print('Farenheit is = ',float(F))"
      ],
      "metadata": {
        "colab": {
          "base_uri": "https://localhost:8080/"
        },
        "id": "kwVTmojnRWIu",
        "outputId": "6ec9f1a3-cb4e-44c0-e6f7-9e7af8e4d2f1"
      },
      "execution_count": null,
      "outputs": [
        {
          "output_type": "stream",
          "name": "stdout",
          "text": [
            " input value for celsius =  6\n",
            "Farenheit is =  42.8\n",
            "Farenheit is =  42.8\n"
          ]
        }
      ]
    },
    {
      "cell_type": "markdown",
      "source": [
        "Operator\n",
        "Unary\n",
        "  Follows BODMAS\n",
        "  Evaluates Left to Right () % * + -\n",
        "  Evaluates Right to Left **\n",
        "Binary"
      ],
      "metadata": {
        "id": "pjOcn6atT5Cw"
      }
    },
    {
      "cell_type": "code",
      "source": [
        "print(2 + 3 * 4 / 2 * ( 4 / 2))\n",
        "print(2 ** 2 ** 3)\n"
      ],
      "metadata": {
        "colab": {
          "base_uri": "https://localhost:8080/"
        },
        "id": "89X8negdTyX8",
        "outputId": "d66775e3-7913-4f67-c87b-df10680b7b95"
      },
      "execution_count": null,
      "outputs": [
        {
          "output_type": "stream",
          "name": "stdout",
          "text": [
            "14.0\n",
            "256\n"
          ]
        }
      ]
    },
    {
      "cell_type": "markdown",
      "source": [
        "Exercise"
      ],
      "metadata": {
        "id": "IXIzyd6HVUfL"
      }
    },
    {
      "cell_type": "code",
      "source": [
        "login=input(\"Enter your login: \")\n",
        "nativeLang=input(\"Enter your native language: \")\n",
        "print(\"Your login is \",login,' and you speak ',nativeLang)"
      ],
      "metadata": {
        "colab": {
          "base_uri": "https://localhost:8080/"
        },
        "id": "Mf09my3yVWUo",
        "outputId": "8f1e8a84-cdf8-4a68-cef7-efca5aed4a7d"
      },
      "execution_count": null,
      "outputs": [
        {
          "output_type": "stream",
          "name": "stdout",
          "text": [
            "Enter your login: Anurag\n",
            "Enter your native language: Hindi\n",
            "Your login is  Anurag  and you speak  Hindi\n"
          ]
        }
      ]
    },
    {
      "cell_type": "markdown",
      "source": [
        "Variable replacement in print"
      ],
      "metadata": {
        "id": "aS_cw2XBXY7j"
      }
    },
    {
      "cell_type": "code",
      "source": [
        "print(\"Your login is {} and you speak {}\".format(login,nativeLang))"
      ],
      "metadata": {
        "colab": {
          "base_uri": "https://localhost:8080/"
        },
        "id": "ZymYwar4Wa9v",
        "outputId": "9bfc4b92-d966-467f-8ca1-d39ba4395254"
      },
      "execution_count": null,
      "outputs": [
        {
          "output_type": "stream",
          "name": "stdout",
          "text": [
            "Your login is Anurag and you speak Hindi\n"
          ]
        }
      ]
    },
    {
      "cell_type": "markdown",
      "source": [
        "Bitwise operator\n",
        "<<   left Shift"
      ],
      "metadata": {
        "id": "TGZ1GfBxXj_9"
      }
    },
    {
      "cell_type": "code",
      "source": [
        "2 << 1"
      ],
      "metadata": {
        "colab": {
          "base_uri": "https://localhost:8080/"
        },
        "id": "kbtkPHW1Xs5x",
        "outputId": "a4930243-92b4-4ce9-9313-beabb168cd21"
      },
      "execution_count": null,
      "outputs": [
        {
          "output_type": "execute_result",
          "data": {
            "text/plain": [
              "4"
            ]
          },
          "metadata": {},
          "execution_count": 43
        }
      ]
    },
    {
      "cell_type": "code",
      "source": [
        "2 << 2"
      ],
      "metadata": {
        "colab": {
          "base_uri": "https://localhost:8080/"
        },
        "id": "4eadVsspYNR5",
        "outputId": "d5908d37-4a65-4459-a02f-887db7e07213"
      },
      "execution_count": null,
      "outputs": [
        {
          "output_type": "execute_result",
          "data": {
            "text/plain": [
              "8"
            ]
          },
          "metadata": {},
          "execution_count": 44
        }
      ]
    },
    {
      "cell_type": "code",
      "source": [
        "2 << 3"
      ],
      "metadata": {
        "colab": {
          "base_uri": "https://localhost:8080/"
        },
        "id": "WhpmK3ofYPU8",
        "outputId": "67a622ca-9e60-464f-f022-153dc11f916a"
      },
      "execution_count": null,
      "outputs": [
        {
          "output_type": "execute_result",
          "data": {
            "text/plain": [
              "16"
            ]
          },
          "metadata": {},
          "execution_count": 47
        }
      ]
    },
    {
      "cell_type": "code",
      "source": [
        "3<<1"
      ],
      "metadata": {
        "colab": {
          "base_uri": "https://localhost:8080/"
        },
        "id": "fLK2oa7MY3Kc",
        "outputId": "ff28aac3-0e44-4c6b-8950-e98946bd8b6c"
      },
      "execution_count": null,
      "outputs": [
        {
          "output_type": "execute_result",
          "data": {
            "text/plain": [
              "6"
            ]
          },
          "metadata": {},
          "execution_count": 48
        }
      ]
    },
    {
      "cell_type": "code",
      "source": [
        "3<<2"
      ],
      "metadata": {
        "colab": {
          "base_uri": "https://localhost:8080/"
        },
        "id": "x6-5XMhmY8D2",
        "outputId": "777332f9-57d8-4136-e5b6-4cfcec48fab2"
      },
      "execution_count": null,
      "outputs": [
        {
          "output_type": "execute_result",
          "data": {
            "text/plain": [
              "12"
            ]
          },
          "metadata": {},
          "execution_count": 49
        }
      ]
    },
    {
      "cell_type": "code",
      "source": [
        "3>>2"
      ],
      "metadata": {
        "colab": {
          "base_uri": "https://localhost:8080/"
        },
        "id": "oXzYfU9rY_27",
        "outputId": "b0d4ebce-6ec1-46e7-dfc7-2a32664c805a"
      },
      "execution_count": null,
      "outputs": [
        {
          "output_type": "execute_result",
          "data": {
            "text/plain": [
              "0"
            ]
          },
          "metadata": {},
          "execution_count": 50
        }
      ]
    },
    {
      "cell_type": "markdown",
      "source": [
        "Right Shift ?"
      ],
      "metadata": {
        "id": "0_U0x6TCZXau"
      }
    },
    {
      "cell_type": "code",
      "source": [
        "8>>1"
      ],
      "metadata": {
        "colab": {
          "base_uri": "https://localhost:8080/"
        },
        "id": "6UIhy4plZDJC",
        "outputId": "e96581da-5464-4a81-aa81-be80c9d9bb98"
      },
      "execution_count": null,
      "outputs": [
        {
          "output_type": "execute_result",
          "data": {
            "text/plain": [
              "4"
            ]
          },
          "metadata": {},
          "execution_count": 51
        }
      ]
    },
    {
      "cell_type": "code",
      "source": [
        "print(2 + 3 << 1 * 4 / 2 * ( 4 / 2))"
      ],
      "metadata": {
        "colab": {
          "base_uri": "https://localhost:8080/",
          "height": 139
        },
        "id": "pcxN4ALQYRA3",
        "outputId": "a96dd7b4-8de5-4ae8-b11d-3974d834dce8"
      },
      "execution_count": null,
      "outputs": [
        {
          "output_type": "error",
          "ename": "TypeError",
          "evalue": "unsupported operand type(s) for <<: 'int' and 'float'",
          "traceback": [
            "\u001b[0;31m---------------------------------------------------------------------------\u001b[0m",
            "\u001b[0;31mTypeError\u001b[0m                                 Traceback (most recent call last)",
            "\u001b[0;32m<ipython-input-45-becc8e555262>\u001b[0m in \u001b[0;36m<cell line: 1>\u001b[0;34m()\u001b[0m\n\u001b[0;32m----> 1\u001b[0;31m \u001b[0mprint\u001b[0m\u001b[0;34m(\u001b[0m\u001b[0;36m2\u001b[0m \u001b[0;34m+\u001b[0m \u001b[0;36m3\u001b[0m \u001b[0;34m<<\u001b[0m \u001b[0;36m1\u001b[0m \u001b[0;34m*\u001b[0m \u001b[0;36m4\u001b[0m \u001b[0;34m/\u001b[0m \u001b[0;36m2\u001b[0m \u001b[0;34m*\u001b[0m \u001b[0;34m(\u001b[0m \u001b[0;36m4\u001b[0m \u001b[0;34m/\u001b[0m \u001b[0;36m2\u001b[0m\u001b[0;34m)\u001b[0m\u001b[0;34m)\u001b[0m\u001b[0;34m\u001b[0m\u001b[0;34m\u001b[0m\u001b[0m\n\u001b[0m",
            "\u001b[0;31mTypeError\u001b[0m: unsupported operand type(s) for <<: 'int' and 'float'"
          ]
        }
      ]
    },
    {
      "cell_type": "code",
      "source": [
        "print(2 + int(3 << 1) * 4 / 2 * ( 4 / 2))"
      ],
      "metadata": {
        "colab": {
          "base_uri": "https://localhost:8080/"
        },
        "id": "tE6rcvJ2YbPp",
        "outputId": "eb29de36-c4ba-4e40-fa80-0349c2753031"
      },
      "execution_count": null,
      "outputs": [
        {
          "output_type": "stream",
          "name": "stdout",
          "text": [
            "26.0\n"
          ]
        }
      ]
    },
    {
      "cell_type": "markdown",
      "source": [
        "Condition & indentation\n",
        "```\n",
        "if condition:\n",
        "  statement1\n",
        "  statement2\n",
        "  statement3\n",
        "else:\n",
        "  statement\n",
        "-----No explicit end either if or both if & else\n",
        "--Elsif ladder\n",
        "if condition:\n",
        "  statement\n",
        "elif:\n",
        "  statement\n",
        "else\n",
        "  statement\n",
        "```\n",
        "\n"
      ],
      "metadata": {
        "id": "EwZXLqpRZuCX"
      }
    },
    {
      "cell_type": "markdown",
      "source": [
        "**Check if you can vote!**"
      ],
      "metadata": {
        "id": "wq_TPC-LbjQy"
      }
    },
    {
      "cell_type": "code",
      "source": [
        "age=int(input(\"What is your age? \"))\n",
        "if age >= 18 :\n",
        "  print(\"Wow! You are eligible to vote!!\")\n",
        "else :\n",
        "  print(\"Please try after \", 18-age, \" years!\")\n",
        "\n",
        "print('Thank you for being a concerned citizen!')"
      ],
      "metadata": {
        "colab": {
          "base_uri": "https://localhost:8080/"
        },
        "id": "4AQyVL3Qaqjd",
        "outputId": "57d2de5a-4218-4468-c353-bb6a3f78a7c0"
      },
      "execution_count": null,
      "outputs": [
        {
          "output_type": "stream",
          "name": "stdout",
          "text": [
            "What is your age? 4\n",
            "Please try after  14  years!\n",
            "Thank you for being a concerned citizen!\n"
          ]
        }
      ]
    },
    {
      "cell_type": "code",
      "source": [
        "age=int(input(\"What is your age? \"))\n",
        "if age >= 18 :\n",
        "  res = \"Wow! You are eligible to vote!!\"\n",
        "else :\n",
        "  res = \"Please try after \", 18-age, \" years!\"\n",
        "\n",
        "print(res)"
      ],
      "metadata": {
        "colab": {
          "base_uri": "https://localhost:8080/"
        },
        "id": "_GPKV8EHdFn3",
        "outputId": "aa4d5b57-1851-4fe2-ece2-3f2601753aa4"
      },
      "execution_count": null,
      "outputs": [
        {
          "output_type": "stream",
          "name": "stdout",
          "text": [
            "What is your age? 34\n",
            "Wow! You are eligible to vote!!\n"
          ]
        }
      ]
    },
    {
      "cell_type": "markdown",
      "source": [
        "Logical operator returns true/false ( boolean) == > < >= =< && !="
      ],
      "metadata": {
        "id": "g7oefujieWPy"
      }
    },
    {
      "cell_type": "code",
      "source": [
        "age=int(input(\"What is your age? \"))\n",
        "if age == 18 :\n",
        "  res = \"Congratulations! You are eligible to vote now!!\"\n",
        "elif age >= 18:\n",
        "    res = \"Wow! You have been eligible to vote since, {} years!!\".format(age-18)\n",
        "else :\n",
        "  res = \"Please try after \", 18-age, \" years!\"\n",
        "\n",
        "print(res)"
      ],
      "metadata": {
        "colab": {
          "base_uri": "https://localhost:8080/"
        },
        "id": "w6XFhjHYef71",
        "outputId": "bce3a89a-0727-4d1e-d4a4-b495a6c45577"
      },
      "execution_count": null,
      "outputs": [
        {
          "output_type": "stream",
          "name": "stdout",
          "text": [
            "What is your age? 6\n",
            "('Please try after ', 12, ' years!')\n"
          ]
        }
      ]
    },
    {
      "cell_type": "code",
      "source": [
        "float(1 // 2*6)"
      ],
      "metadata": {
        "colab": {
          "base_uri": "https://localhost:8080/"
        },
        "id": "BL1ykDSdhZvj",
        "outputId": "7f15ecfb-25a9-4921-9d7d-b7251dd6e761"
      },
      "execution_count": null,
      "outputs": [
        {
          "output_type": "execute_result",
          "data": {
            "text/plain": [
              "0.0"
            ]
          },
          "metadata": {},
          "execution_count": 70
        }
      ]
    },
    {
      "cell_type": "code",
      "source": [
        "print(age=int(input(\"What is your age? \")))"
      ],
      "metadata": {
        "colab": {
          "base_uri": "https://localhost:8080/",
          "height": 156
        },
        "id": "k2Ajpl38hjIT",
        "outputId": "2a73d9a6-f528-4658-dd5f-b5581f7a6876"
      },
      "execution_count": null,
      "outputs": [
        {
          "name": "stdout",
          "output_type": "stream",
          "text": [
            "What is your age? as\n"
          ]
        },
        {
          "output_type": "error",
          "ename": "ValueError",
          "evalue": "invalid literal for int() with base 10: 'as'",
          "traceback": [
            "\u001b[0;31m---------------------------------------------------------------------------\u001b[0m",
            "\u001b[0;31mValueError\u001b[0m                                Traceback (most recent call last)",
            "\u001b[0;32m<ipython-input-71-da715dc5be5b>\u001b[0m in \u001b[0;36m<cell line: 1>\u001b[0;34m()\u001b[0m\n\u001b[0;32m----> 1\u001b[0;31m \u001b[0mprint\u001b[0m\u001b[0;34m(\u001b[0m\u001b[0mage\u001b[0m\u001b[0;34m=\u001b[0m\u001b[0mint\u001b[0m\u001b[0;34m(\u001b[0m\u001b[0minput\u001b[0m\u001b[0;34m(\u001b[0m\u001b[0;34m\"What is your age? \"\u001b[0m\u001b[0;34m)\u001b[0m\u001b[0;34m)\u001b[0m\u001b[0;34m)\u001b[0m\u001b[0;34m\u001b[0m\u001b[0;34m\u001b[0m\u001b[0m\n\u001b[0m",
            "\u001b[0;31mValueError\u001b[0m: invalid literal for int() with base 10: 'as'"
          ]
        }
      ]
    },
    {
      "cell_type": "markdown",
      "source": [
        "short hand notation\n",
        "a = a+b => a += b\n"
      ],
      "metadata": {
        "id": "lwzrm8fSiLcA"
      }
    },
    {
      "cell_type": "markdown",
      "source": [
        "Refund Policy Helper\n",
        "Let's help an online store with their new refund policy. In this store, you can return an item and get a refund in 2 cases:\n",
        "1. Within 10 days from the day of purchase, given that you have not used the item, or\n",
        "2. No matter when you bought it, when the item broke down through no fault of your own.\n",
        "Write a program that first asks the user three questions and then informs them whether they can get a refund. Ask the following questions:\n",
        "How many days ago have you purchased the item? << add a space at the end of this prompt\n",
        "Have you used the item at all [y/n]?  << add a space at the end of this prompt\n",
        "Has the item broken down on its own [y/n]?  << add a space at the end of this prompt\n",
        "Based on the answers and the refund policy explained above, print either:\n",
        "You can get a refund.\n",
        "or:\n",
        "You cannot get a refund."
      ],
      "metadata": {
        "id": "CSsvJp9IibqG"
      }
    },
    {
      "cell_type": "code",
      "source": [
        "daysPurchased=int(input(\"How many days ago have you purchased the item? \"))\n",
        "isUsed=input(\"Have you used the item at all [y/n]?  \")\n",
        "brokenByItsOwn=input(\"Has the item broken down on its own [y/n]?  \")\n",
        "if (daysPurchased <= 10 and isUsed == 'n' ) or brokenByItsOwn == 'y':\n",
        "  print(\"You can get a refund.\")\n",
        "else:\n",
        "  print(\"You cannot get a refund.\")"
      ],
      "metadata": {
        "colab": {
          "base_uri": "https://localhost:8080/"
        },
        "id": "0swjqYy-loL_",
        "outputId": "10ae2ff6-9598-4402-a0aa-d71dc9ec563b"
      },
      "execution_count": null,
      "outputs": [
        {
          "output_type": "stream",
          "name": "stdout",
          "text": [
            "How many days ago have you purchased the item? 15\n",
            "Have you used the item at all [y/n]?  y\n",
            "Has the item broken down on its own [y/n]?  y\n",
            "You can get a refund.\n"
          ]
        }
      ]
    },
    {
      "cell_type": "markdown",
      "source": [
        "# DAY 3"
      ],
      "metadata": {
        "id": "_Sg8UmMAX49n"
      }
    },
    {
      "cell_type": "markdown",
      "source": [
        "if else ladder\n",
        "Nested if else\n",
        "  -----> indentation"
      ],
      "metadata": {
        "id": "UsCn7zzpX-q3"
      }
    },
    {
      "cell_type": "code",
      "source": [],
      "metadata": {
        "id": "X35uNCCWYeaB"
      },
      "execution_count": null,
      "outputs": []
    },
    {
      "cell_type": "markdown",
      "source": [
        "While loop"
      ],
      "metadata": {
        "id": "bpWrGLPBgJx3"
      }
    },
    {
      "cell_type": "code",
      "source": [
        "c=1\n",
        "while(c<5):\n",
        "  print(c)\n",
        "  c+=1\n",
        "print(c)"
      ],
      "metadata": {
        "colab": {
          "base_uri": "https://localhost:8080/"
        },
        "id": "cQv5a8sGgO1e",
        "outputId": "5f2f0e69-8cd8-41b7-cb16-9b3bf51ee767"
      },
      "execution_count": null,
      "outputs": [
        {
          "output_type": "stream",
          "name": "stdout",
          "text": [
            "1\n",
            "2\n",
            "3\n",
            "4\n",
            "5\n"
          ]
        }
      ]
    },
    {
      "cell_type": "code",
      "source": [
        "start=int(input(\"Enter start: \"))\n",
        "end=int(input(\"Enter end: \"))\n",
        "while start<=end:\n",
        "  print(start)\n",
        "  start+=1"
      ],
      "metadata": {
        "colab": {
          "base_uri": "https://localhost:8080/"
        },
        "id": "DizLh0O4kKTv",
        "outputId": "3ff38116-1b5d-494b-dbb1-c3aa80e5b1b1"
      },
      "execution_count": null,
      "outputs": [
        {
          "output_type": "stream",
          "name": "stdout",
          "text": [
            "Enter start: 8\n",
            "Enter end: 9\n",
            "8\n",
            "9\n"
          ]
        }
      ]
    },
    {
      "cell_type": "markdown",
      "source": [
        "print Even Numbers"
      ],
      "metadata": {
        "id": "t7-_g-Gul_8V"
      }
    },
    {
      "cell_type": "code",
      "source": [
        "start=int(input(\"Enter start: \"))\n",
        "end=int(input(\"Enter end: \"))\n",
        "while start<=end:\n",
        "  if start%2 == 0:\n",
        "    print(start)\n",
        "  start+=1"
      ],
      "metadata": {
        "colab": {
          "base_uri": "https://localhost:8080/"
        },
        "id": "fJxqskwyljGR",
        "outputId": "a6f10fad-5b95-41c6-897b-3cb95e612755"
      },
      "execution_count": null,
      "outputs": [
        {
          "output_type": "stream",
          "name": "stdout",
          "text": [
            "Enter start: 1\n",
            "Enter end: 11\n",
            "2\n",
            "4\n",
            "6\n",
            "8\n",
            "10\n"
          ]
        }
      ]
    },
    {
      "cell_type": "code",
      "source": [
        "x=1\n",
        "x = x == x\n",
        "print(x)"
      ],
      "metadata": {
        "id": "v2fdih0Wr_Ns",
        "outputId": "d5ba0572-c496-4bf3-a741-ac3e198fcc3c",
        "colab": {
          "base_uri": "https://localhost:8080/"
        }
      },
      "execution_count": null,
      "outputs": [
        {
          "output_type": "stream",
          "name": "stdout",
          "text": [
            "True\n"
          ]
        }
      ]
    },
    {
      "cell_type": "code",
      "source": [
        "a=5\n",
        "b=1\n",
        "c= (a > b or b < 1 ) and a == 1\n",
        "print(c)\n",
        "c= a > b or b < 1  and a == 1\n",
        "print(c)"
      ],
      "metadata": {
        "id": "bxzEjNJ4tO-J",
        "outputId": "8e766125-34fa-4ad9-f6b6-3dd7ea709bb2",
        "colab": {
          "base_uri": "https://localhost:8080/"
        }
      },
      "execution_count": null,
      "outputs": [
        {
          "output_type": "stream",
          "name": "stdout",
          "text": [
            "False\n",
            "True\n"
          ]
        }
      ]
    },
    {
      "cell_type": "markdown",
      "source": [
        "# For loop"
      ],
      "metadata": {
        "id": "vkojD9jzii3-"
      }
    },
    {
      "cell_type": "markdown",
      "source": [],
      "metadata": {
        "id": "U1AEZTUurA5H"
      }
    },
    {
      "cell_type": "code",
      "source": [
        "s=\"good\"\n",
        "for i in s:\n",
        "  print(i)"
      ],
      "metadata": {
        "colab": {
          "base_uri": "https://localhost:8080/"
        },
        "id": "sG-R5OGVqH6W",
        "outputId": "a31ac757-42e5-4926-e37f-d907b37c3fb1"
      },
      "execution_count": null,
      "outputs": [
        {
          "output_type": "stream",
          "name": "stdout",
          "text": [
            "g\n",
            "o\n",
            "o\n",
            "d\n"
          ]
        }
      ]
    },
    {
      "cell_type": "markdown",
      "source": [
        "Count character in a string"
      ],
      "metadata": {
        "id": "LCtHEx4grJFW"
      }
    },
    {
      "cell_type": "code",
      "source": [
        "s=input(\"What is your string?\")\n",
        "for i in s:\n",
        "    print(i)"
      ],
      "metadata": {
        "colab": {
          "base_uri": "https://localhost:8080/"
        },
        "id": "1klBpP7GpiGp",
        "outputId": "f8295776-1cfe-49ba-e1e4-b328ed5ae0f0"
      },
      "execution_count": null,
      "outputs": [
        {
          "output_type": "stream",
          "name": "stdout",
          "text": [
            "What is your string?HI\n",
            "H\n",
            "I\n"
          ]
        }
      ]
    },
    {
      "cell_type": "code",
      "source": [
        "collection_val = [1,2,3,4,11,22,33,44]\n",
        "for i in collection_val:\n",
        "  print(i)"
      ],
      "metadata": {
        "colab": {
          "base_uri": "https://localhost:8080/"
        },
        "id": "JYTN-scwqUkm",
        "outputId": "1ceeda81-2e56-4ea6-c0a6-49eff3abee4b"
      },
      "execution_count": null,
      "outputs": [
        {
          "output_type": "stream",
          "name": "stdout",
          "text": [
            "1\n",
            "2\n",
            "3\n",
            "4\n",
            "11\n",
            "22\n",
            "33\n",
            "44\n"
          ]
        }
      ]
    },
    {
      "cell_type": "code",
      "source": [
        "n=int(input(\"Enter a number: \"))\n",
        "for i in range(n):\n",
        "    print(i)"
      ],
      "metadata": {
        "colab": {
          "base_uri": "https://localhost:8080/"
        },
        "id": "DxGZyqTsor_B",
        "outputId": "fd9dd614-e46d-4a8f-ce1f-5ecf0ef93e97"
      },
      "execution_count": null,
      "outputs": [
        {
          "output_type": "stream",
          "name": "stdout",
          "text": [
            "Enter a number: 5\n",
            "0\n",
            "1\n",
            "2\n",
            "3\n",
            "4\n"
          ]
        }
      ]
    },
    {
      "cell_type": "code",
      "source": [
        "n=int(input(\"Enter a number to print it\\'s table: \"))\n",
        "for i in range(10):\n",
        "    print(n,'*',i,'=',n*(i+1))"
      ],
      "metadata": {
        "colab": {
          "base_uri": "https://localhost:8080/"
        },
        "id": "hdmeenTQo7o1",
        "outputId": "5bda8be9-f409-46a3-fc66-174d334e597a"
      },
      "execution_count": null,
      "outputs": [
        {
          "output_type": "stream",
          "name": "stdout",
          "text": [
            "Enter a number to print it's table: 5\n",
            "5 * 0 = 5\n",
            "5 * 1 = 10\n",
            "5 * 2 = 15\n",
            "5 * 3 = 20\n",
            "5 * 4 = 25\n",
            "5 * 5 = 30\n",
            "5 * 6 = 35\n",
            "5 * 7 = 40\n",
            "5 * 8 = 45\n",
            "5 * 9 = 50\n"
          ]
        }
      ]
    },
    {
      "cell_type": "code",
      "source": [
        "n=int(input(\"Enter a number: \"))\n",
        "for i in range(n):\n",
        "  if i%2 == 0 and i>0:\n",
        "    print(i)"
      ],
      "metadata": {
        "colab": {
          "base_uri": "https://localhost:8080/"
        },
        "id": "xG71CZq_mKY9",
        "outputId": "0922c06e-7410-40a2-beb8-fd97a3e61ea6"
      },
      "execution_count": null,
      "outputs": [
        {
          "output_type": "stream",
          "name": "stdout",
          "text": [
            "Enter a number: 45\n",
            "2\n",
            "4\n",
            "6\n",
            "8\n",
            "10\n",
            "12\n",
            "14\n",
            "16\n",
            "18\n",
            "20\n",
            "22\n",
            "24\n",
            "26\n",
            "28\n",
            "30\n",
            "32\n",
            "34\n",
            "36\n",
            "38\n",
            "40\n",
            "42\n",
            "44\n"
          ]
        }
      ]
    },
    {
      "cell_type": "markdown",
      "source": [
        "# DAY 4"
      ],
      "metadata": {
        "id": "cEegeWL5nlqB"
      }
    },
    {
      "cell_type": "code",
      "source": [
        "n=int(input(\"Enter a number: \"))\n",
        "for i in range(1,n):\n",
        "  if i%2 == 0:\n",
        "    print(i)"
      ],
      "metadata": {
        "colab": {
          "base_uri": "https://localhost:8080/"
        },
        "id": "zraAtMyHnE4I",
        "outputId": "d6935eb8-b425-431d-e5ba-d9d5c7effab4"
      },
      "execution_count": null,
      "outputs": [
        {
          "output_type": "stream",
          "name": "stdout",
          "text": [
            "Enter a number: 11\n",
            "2\n",
            "4\n",
            "6\n",
            "8\n",
            "10\n"
          ]
        }
      ]
    },
    {
      "cell_type": "code",
      "source": [
        "n=int(input(\"Enter a number: \"))\n",
        "for i in range(n):\n",
        "  print(i+1)"
      ],
      "metadata": {
        "colab": {
          "base_uri": "https://localhost:8080/"
        },
        "id": "zU1-ins7iicu",
        "outputId": "3499e9a9-9349-48d2-cdd2-6270f8c7a94a"
      },
      "execution_count": null,
      "outputs": [
        {
          "output_type": "stream",
          "name": "stdout",
          "text": [
            "Enter a number: 9\n",
            "1\n",
            "2\n",
            "3\n",
            "4\n",
            "5\n",
            "6\n",
            "7\n",
            "8\n",
            "9\n"
          ]
        }
      ]
    },
    {
      "cell_type": "code",
      "source": [
        "n=int(input(\"How many numbers in sequence ? \"))\n",
        "m=int(input(\"Enter the starting number for sequence: \"))\n",
        "for i in range(m,m+n):\n",
        "  print(i)"
      ],
      "metadata": {
        "colab": {
          "base_uri": "https://localhost:8080/"
        },
        "id": "pBcuSXPPlMuT",
        "outputId": "a6816268-f8f4-4c3f-8eba-e2b38d7dd61f"
      },
      "execution_count": null,
      "outputs": [
        {
          "output_type": "stream",
          "name": "stdout",
          "text": [
            "How many numbers in sequence ? 3\n",
            "Enter the starting number for sequence: 5\n",
            "5\n",
            "6\n",
            "7\n"
          ]
        }
      ]
    },
    {
      "cell_type": "markdown",
      "source": [
        "**range(start,end,step)**"
      ],
      "metadata": {
        "id": "uXIgH0wNrVou"
      }
    },
    {
      "cell_type": "code",
      "source": [
        "for i in range(2,100,2):\n",
        "  print(i)"
      ],
      "metadata": {
        "colab": {
          "base_uri": "https://localhost:8080/"
        },
        "id": "4cIZsunAsFef",
        "outputId": "dbe9002f-f3c5-48e0-8d29-a53be50ebfe2"
      },
      "execution_count": null,
      "outputs": [
        {
          "output_type": "stream",
          "name": "stdout",
          "text": [
            "2\n",
            "4\n",
            "6\n",
            "8\n",
            "10\n",
            "12\n",
            "14\n",
            "16\n",
            "18\n",
            "20\n",
            "22\n",
            "24\n",
            "26\n",
            "28\n",
            "30\n",
            "32\n",
            "34\n",
            "36\n",
            "38\n",
            "40\n",
            "42\n",
            "44\n",
            "46\n",
            "48\n",
            "50\n",
            "52\n",
            "54\n",
            "56\n",
            "58\n",
            "60\n",
            "62\n",
            "64\n",
            "66\n",
            "68\n",
            "70\n",
            "72\n",
            "74\n",
            "76\n",
            "78\n",
            "80\n",
            "82\n",
            "84\n",
            "86\n",
            "88\n",
            "90\n",
            "92\n",
            "94\n",
            "96\n",
            "98\n"
          ]
        }
      ]
    },
    {
      "cell_type": "code",
      "source": [
        "n=int(input(\"How many numbers in sequence ? \"))\n",
        "m=int(input(\"Enter the starting number for sequence: \"))\n",
        "step=int(input(\"Enter the step: \"))\n",
        "for i in range(m,m+n,step):\n",
        "  print(i)"
      ],
      "metadata": {
        "colab": {
          "base_uri": "https://localhost:8080/"
        },
        "id": "_97T7lysno0L",
        "outputId": "4c75da1e-abc9-487a-8764-322cc1b06e0d"
      },
      "execution_count": null,
      "outputs": [
        {
          "output_type": "stream",
          "name": "stdout",
          "text": [
            "How many numbers in sequence ? 100\n",
            "Enter the starting number for sequence: 0\n",
            "Enter the step: 2\n",
            "0\n",
            "2\n",
            "4\n",
            "6\n",
            "8\n",
            "10\n",
            "12\n",
            "14\n",
            "16\n",
            "18\n",
            "20\n",
            "22\n",
            "24\n",
            "26\n",
            "28\n",
            "30\n",
            "32\n",
            "34\n",
            "36\n",
            "38\n",
            "40\n",
            "42\n",
            "44\n",
            "46\n",
            "48\n",
            "50\n",
            "52\n",
            "54\n",
            "56\n",
            "58\n",
            "60\n",
            "62\n",
            "64\n",
            "66\n",
            "68\n",
            "70\n",
            "72\n",
            "74\n",
            "76\n",
            "78\n",
            "80\n",
            "82\n",
            "84\n",
            "86\n",
            "88\n",
            "90\n",
            "92\n",
            "94\n",
            "96\n",
            "98\n"
          ]
        }
      ]
    },
    {
      "cell_type": "code",
      "source": [
        "for i in range():\n",
        "  print(i)"
      ],
      "metadata": {
        "colab": {
          "base_uri": "https://localhost:8080/",
          "height": 156
        },
        "id": "OIH4Z1mQsY8N",
        "outputId": "e9d51038-e795-46ed-b9d8-fdad23bdf257"
      },
      "execution_count": null,
      "outputs": [
        {
          "output_type": "error",
          "ename": "TypeError",
          "evalue": "range expected at least 1 argument, got 0",
          "traceback": [
            "\u001b[0;31m---------------------------------------------------------------------------\u001b[0m",
            "\u001b[0;31mTypeError\u001b[0m                                 Traceback (most recent call last)",
            "\u001b[0;32m<ipython-input-15-c9821487a3c9>\u001b[0m in \u001b[0;36m<cell line: 1>\u001b[0;34m()\u001b[0m\n\u001b[0;32m----> 1\u001b[0;31m \u001b[0;32mfor\u001b[0m \u001b[0mi\u001b[0m \u001b[0;32min\u001b[0m \u001b[0mrange\u001b[0m\u001b[0;34m(\u001b[0m\u001b[0;34m)\u001b[0m\u001b[0;34m:\u001b[0m\u001b[0;34m\u001b[0m\u001b[0;34m\u001b[0m\u001b[0m\n\u001b[0m\u001b[1;32m      2\u001b[0m   \u001b[0mprint\u001b[0m\u001b[0;34m(\u001b[0m\u001b[0mi\u001b[0m\u001b[0;34m)\u001b[0m\u001b[0;34m\u001b[0m\u001b[0;34m\u001b[0m\u001b[0m\n",
            "\u001b[0;31mTypeError\u001b[0m: range expected at least 1 argument, got 0"
          ]
        }
      ]
    },
    {
      "cell_type": "markdown",
      "source": [
        "*   break\n",
        "*   continue\n",
        "*   pass"
      ],
      "metadata": {
        "id": "3Q3L-PYRsZko"
      }
    },
    {
      "cell_type": "code",
      "source": [
        "for i in range(1,21):\n",
        "  if i%2==0:\n",
        "    continue\n",
        "  print(i)"
      ],
      "metadata": {
        "colab": {
          "base_uri": "https://localhost:8080/"
        },
        "id": "3LmYjw1fsrTV",
        "outputId": "856845f8-14e7-480f-ebf6-d0ebfe55470c"
      },
      "execution_count": null,
      "outputs": [
        {
          "output_type": "stream",
          "name": "stdout",
          "text": [
            "1\n",
            "3\n",
            "5\n",
            "7\n",
            "9\n",
            "11\n",
            "13\n",
            "15\n",
            "17\n",
            "19\n"
          ]
        }
      ]
    },
    {
      "cell_type": "code",
      "source": [
        "for i in range(1,21):\n",
        "  if i==5:\n",
        "    break\n",
        "  print(i)"
      ],
      "metadata": {
        "colab": {
          "base_uri": "https://localhost:8080/"
        },
        "id": "MnJesWFcvmCb",
        "outputId": "7bf89288-c3f6-49a5-f07d-e6f9f495a284"
      },
      "execution_count": null,
      "outputs": [
        {
          "output_type": "stream",
          "name": "stdout",
          "text": [
            "1\n",
            "2\n",
            "3\n",
            "4\n"
          ]
        }
      ]
    },
    {
      "cell_type": "code",
      "source": [
        "for i in range(1,21):"
      ],
      "metadata": {
        "colab": {
          "base_uri": "https://localhost:8080/",
          "height": 105
        },
        "id": "C8ytIvanwNEx",
        "outputId": "d4c4f528-c589-44b1-f397-d1483d93fece"
      },
      "execution_count": null,
      "outputs": [
        {
          "output_type": "error",
          "ename": "SyntaxError",
          "evalue": "incomplete input (<ipython-input-31-f3bd33121448>, line 1)",
          "traceback": [
            "\u001b[0;36m  File \u001b[0;32m\"<ipython-input-31-f3bd33121448>\"\u001b[0;36m, line \u001b[0;32m1\u001b[0m\n\u001b[0;31m    for i in range(1,21):\u001b[0m\n\u001b[0m                         ^\u001b[0m\n\u001b[0;31mSyntaxError\u001b[0m\u001b[0;31m:\u001b[0m incomplete input\n"
          ]
        }
      ]
    },
    {
      "cell_type": "code",
      "source": [
        "for i in range(1,21):\n",
        "  pass"
      ],
      "metadata": {
        "id": "qnCCFCr3wCgr"
      },
      "execution_count": null,
      "outputs": []
    },
    {
      "cell_type": "code",
      "source": [
        "for i in range(1,21):\n",
        "  if i==5:\n",
        "    pass\n",
        "  print(i)"
      ],
      "metadata": {
        "colab": {
          "base_uri": "https://localhost:8080/"
        },
        "id": "UWYumj3fvuhs",
        "outputId": "f6f313ce-1402-4857-f493-ff597198e2d0"
      },
      "execution_count": null,
      "outputs": [
        {
          "output_type": "stream",
          "name": "stdout",
          "text": [
            "1\n",
            "2\n",
            "3\n",
            "4\n",
            "5\n",
            "6\n",
            "7\n",
            "8\n",
            "9\n",
            "10\n",
            "11\n",
            "12\n",
            "13\n",
            "14\n",
            "15\n",
            "16\n",
            "17\n",
            "18\n",
            "19\n",
            "20\n"
          ]
        }
      ]
    },
    {
      "cell_type": "markdown",
      "source": [
        "String"
      ],
      "metadata": {
        "id": "deza_fIEwkO_"
      }
    },
    {
      "cell_type": "code",
      "source": [
        "testString=\"Hello World!\\nToday is a wonderfull day!\\nWhat are we going to do today?\"\n",
        "print(testString)"
      ],
      "metadata": {
        "colab": {
          "base_uri": "https://localhost:8080/"
        },
        "id": "7GWpfZXjwouA",
        "outputId": "20858e0e-e163-4cac-9bdf-f6d4271c7e95"
      },
      "execution_count": null,
      "outputs": [
        {
          "output_type": "stream",
          "name": "stdout",
          "text": [
            "Hello World!\n",
            "Today is a wonderfull day!\n",
            "What are we going to do today?\n"
          ]
        }
      ]
    },
    {
      "cell_type": "code",
      "source": [
        "testString=\"Hello World!\n",
        "Today is a wonderfull day!\n",
        "What are we going to do today?\"\n",
        "print(testString)"
      ],
      "metadata": {
        "colab": {
          "base_uri": "https://localhost:8080/",
          "height": 105
        },
        "id": "1AKgwj9oxbjc",
        "outputId": "d07923c3-eb0e-4f27-d747-75c1643b924b"
      },
      "execution_count": null,
      "outputs": [
        {
          "output_type": "error",
          "ename": "SyntaxError",
          "evalue": "unterminated string literal (detected at line 1) (<ipython-input-39-f999c303ae62>, line 1)",
          "traceback": [
            "\u001b[0;36m  File \u001b[0;32m\"<ipython-input-39-f999c303ae62>\"\u001b[0;36m, line \u001b[0;32m1\u001b[0m\n\u001b[0;31m    testString=\"Hello World!\u001b[0m\n\u001b[0m               ^\u001b[0m\n\u001b[0;31mSyntaxError\u001b[0m\u001b[0;31m:\u001b[0m unterminated string literal (detected at line 1)\n"
          ]
        }
      ]
    },
    {
      "cell_type": "code",
      "source": [
        "testString=\"\"\"Hello World!\n",
        "Today is a wonderfull day!\n",
        "What are we going to do today?\"\"\"\n",
        "print(testString)"
      ],
      "metadata": {
        "colab": {
          "base_uri": "https://localhost:8080/"
        },
        "id": "6kDYBKwixqwA",
        "outputId": "a49bdaf1-3ad9-4210-df7e-0249d1b5c68d"
      },
      "execution_count": null,
      "outputs": [
        {
          "output_type": "stream",
          "name": "stdout",
          "text": [
            "Hello World!\n",
            "Today is a wonderfull day!\n",
            "What are we going to do today?\n"
          ]
        }
      ]
    },
    {
      "cell_type": "markdown",
      "source": [
        "Negative Indexing"
      ],
      "metadata": {
        "id": "2SOjO1YlyHkH"
      }
    },
    {
      "cell_type": "code",
      "source": [
        "testString=\"\"\"Hello World!\n",
        "Today is a wonderfull day!\n",
        "What are we going to do today?\"\"\"\n",
        "print(testString[1])\n",
        "print(testString[-1])"
      ],
      "metadata": {
        "colab": {
          "base_uri": "https://localhost:8080/"
        },
        "id": "TT00QFQnx7jm",
        "outputId": "82e3f46b-9680-4ff4-a379-937582b25a80"
      },
      "execution_count": null,
      "outputs": [
        {
          "output_type": "stream",
          "name": "stdout",
          "text": [
            "e\n",
            "?\n"
          ]
        }
      ]
    },
    {
      "cell_type": "code",
      "source": [
        "testString=\"\"\"Hello World!\n",
        "Today is a wonderfull day!\n",
        "What are we going to do today?\"\"\"\n",
        "for i in range(len(testString)):\n",
        "  print(testString[i])"
      ],
      "metadata": {
        "colab": {
          "base_uri": "https://localhost:8080/"
        },
        "id": "wpCnoKYAyiJz",
        "outputId": "e7a2777f-7148-4456-e28f-1ab78402124a"
      },
      "execution_count": null,
      "outputs": [
        {
          "output_type": "stream",
          "name": "stdout",
          "text": [
            "H\n",
            "e\n",
            "l\n",
            "l\n",
            "o\n",
            " \n",
            "W\n",
            "o\n",
            "r\n",
            "l\n",
            "d\n",
            "!\n",
            "\n",
            "\n",
            "T\n",
            "o\n",
            "d\n",
            "a\n",
            "y\n",
            " \n",
            "i\n",
            "s\n",
            " \n",
            "a\n",
            " \n",
            "w\n",
            "o\n",
            "n\n",
            "d\n",
            "e\n",
            "r\n",
            "f\n",
            "u\n",
            "l\n",
            "l\n",
            " \n",
            "d\n",
            "a\n",
            "y\n",
            "!\n",
            "\n",
            "\n",
            "W\n",
            "h\n",
            "a\n",
            "t\n",
            " \n",
            "a\n",
            "r\n",
            "e\n",
            " \n",
            "w\n",
            "e\n",
            " \n",
            "g\n",
            "o\n",
            "i\n",
            "n\n",
            "g\n",
            " \n",
            "t\n",
            "o\n",
            " \n",
            "d\n",
            "o\n",
            " \n",
            "t\n",
            "o\n",
            "d\n",
            "a\n",
            "y\n",
            "?\n"
          ]
        }
      ]
    },
    {
      "cell_type": "code",
      "source": [
        "testString=\"\"\"Hello World!\n",
        "Today is a wonderfull day!\n",
        "What are we going to do today?\"\"\"\n",
        "j=0\n",
        "for i in range(len(testString)):\n",
        "  if testString[i] == 'a':\n",
        "    j+=1\n",
        " # print(testString[i])\n",
        "print(j)"
      ],
      "metadata": {
        "colab": {
          "base_uri": "https://localhost:8080/"
        },
        "id": "qu75B1Mzy40m",
        "outputId": "af911556-815e-4cc7-df40-6b63447c4ff2"
      },
      "execution_count": null,
      "outputs": [
        {
          "output_type": "stream",
          "name": "stdout",
          "text": [
            "6\n"
          ]
        }
      ]
    },
    {
      "cell_type": "code",
      "source": [
        "testString=\"Hakuna matata!What's a wonderfull da!What are we going to do today?\"\n",
        "j=0\n",
        "for i in range(len(testString)):\n",
        "  if testString[i] == 't':\n",
        "    print(i)\n",
        "    print(testString[:i])  #string slicing - first parameter is default to beigining of the string\n",
        "    print(testString[j:i]) #string slicing - start to end\n",
        "    print(testString[j:])  #string slicing - Second parameter is default to end of the string\n",
        "    print(testString[j:i:2])  #string slicing - Third parameter is step size\n",
        "    print(testString[:])\n",
        "    print(testString[::])\n",
        "    print(testString)\n",
        "    print(testString[::-1])\n",
        "    break"
      ],
      "metadata": {
        "colab": {
          "base_uri": "https://localhost:8080/"
        },
        "id": "Hp8CIuMzzexy",
        "outputId": "e523128f-efd8-43d8-8bc5-15a2a0fc502b"
      },
      "execution_count": null,
      "outputs": [
        {
          "output_type": "stream",
          "name": "stdout",
          "text": [
            "9\n",
            "Hakuna ma\n",
            "Hakuna ma\n",
            "Hakuna matata!What's a wonderfull da!What are we going to do today?\n",
            "Hkn a\n",
            "Hakuna matata!What's a wonderfull da!What are we going to do today?\n",
            "Hakuna matata!What's a wonderfull da!What are we going to do today?\n",
            "Hakuna matata!What's a wonderfull da!What are we going to do today?\n",
            "?yadot od ot gniog ew era tahW!ad llufrednow a s'tahW!atatam anukaH\n"
          ]
        }
      ]
    },
    {
      "cell_type": "code",
      "source": [
        "testString=\"Hello World!\"\n",
        "print(testString[2:80:5])"
      ],
      "metadata": {
        "colab": {
          "base_uri": "https://localhost:8080/"
        },
        "id": "y4LSPgqK1ksH",
        "outputId": "f3eb7499-2dbf-437b-ff0b-05e59c9a8aac"
      },
      "execution_count": null,
      "outputs": [
        {
          "output_type": "stream",
          "name": "stdout",
          "text": [
            "lo\n"
          ]
        }
      ]
    },
    {
      "cell_type": "code",
      "source": [
        "testString=\"Hello World!\"\n",
        "print(testString[80:2:-5])"
      ],
      "metadata": {
        "colab": {
          "base_uri": "https://localhost:8080/"
        },
        "id": "sXbNKrDV2cd_",
        "outputId": "e52c535b-e2d4-4203-83c9-558905f4ccc4"
      },
      "execution_count": null,
      "outputs": [
        {
          "output_type": "stream",
          "name": "stdout",
          "text": [
            "!W\n"
          ]
        }
      ]
    },
    {
      "cell_type": "code",
      "source": [
        "print(testString[:])\n",
        "print(testString[::])"
      ],
      "metadata": {
        "colab": {
          "base_uri": "https://localhost:8080/"
        },
        "id": "HOcLc8Cb2ido",
        "outputId": "9accae4e-e1c6-4a9d-e476-77b5f5aee406"
      },
      "execution_count": null,
      "outputs": [
        {
          "output_type": "stream",
          "name": "stdout",
          "text": [
            "Hello World!\n",
            "Hello World!\n"
          ]
        }
      ]
    }
  ],
  "metadata": {
    "kernelspec": {
      "display_name": "Python 3",
      "language": "python",
      "name": "python3"
    },
    "language_info": {
      "codemirror_mode": {
        "name": "ipython",
        "version": 3
      },
      "file_extension": ".py",
      "mimetype": "text/x-python",
      "name": "python",
      "nbconvert_exporter": "python",
      "pygments_lexer": "ipython3",
      "version": "3.6.5"
    },
    "colab": {
      "provenance": []
    }
  },
  "nbformat": 4,
  "nbformat_minor": 0
}