{
  "cells": [
    {
      "cell_type": "markdown",
      "source": [
        "**Using quotes(single, double) and escape \"\\\" character**"
      ],
      "metadata": {
        "id": "A8lNgBYCSrx7"
      }
    },
    {
      "cell_type": "code",
      "source": [
        "print(\"What's your name?\")\n",
        "print('What\"s your name?')\n",
        "print('What\\'s your name?')"
      ],
      "metadata": {
        "id": "-hrYCCdERtsO",
        "outputId": "de0fab26-f138-4077-db93-65b040863fa1",
        "colab": {
          "base_uri": "https://localhost:8080/"
        }
      },
      "execution_count": null,
      "outputs": [
        {
          "output_type": "stream",
          "name": "stdout",
          "text": [
            "What's your name?\n",
            "What\"s your name?\n",
            "What's your name?\n"
          ]
        }
      ]
    },
    {
      "cell_type": "code",
      "source": [
        "a=5\n",
        "b=2\n",
        "res=a+b\n",
        "print(res)\n",
        "print(a+b)"
      ],
      "metadata": {
        "id": "-zeZgn-UQ0AT",
        "outputId": "5b2f10eb-a5a1-4be4-b570-53c20186dd79",
        "colab": {
          "base_uri": "https://localhost:8080/"
        }
      },
      "execution_count": null,
      "outputs": [
        {
          "output_type": "stream",
          "name": "stdout",
          "text": [
            "7\n",
            "7\n"
          ]
        }
      ]
    },
    {
      "cell_type": "markdown",
      "source": [
        "**variable Name**"
      ],
      "metadata": {
        "id": "itL52M9sSBcj"
      }
    },
    {
      "cell_type": "code",
      "source": [
        "_a=10\n",
        "print(_a)\n",
        "a=9\n",
        "print(a)\n",
        "A=8\n",
        "print(A)\n",
        "print(a+A+_a)"
      ],
      "metadata": {
        "id": "iIgWP6t8SASU",
        "outputId": "5e0da86f-a00f-4f52-a286-cd43687467ab",
        "colab": {
          "base_uri": "https://localhost:8080/"
        }
      },
      "execution_count": null,
      "outputs": [
        {
          "output_type": "stream",
          "name": "stdout",
          "text": [
            "10\n",
            "9\n",
            "8\n",
            "27\n"
          ]
        }
      ]
    },
    {
      "cell_type": "markdown",
      "source": [
        "**Change in Data Type**"
      ],
      "metadata": {
        "id": "LctQL7jNSjWY"
      }
    },
    {
      "cell_type": "code",
      "source": [
        "a=\"Anurag\"\n",
        "print(a)\n",
        "a=5\n",
        "print(a)\n",
        "a=-2\n",
        "print(a)\n",
        "a=1.2\n",
        "print(a)\n",
        "a=\"Anurag\"\n",
        "a=5\n",
        "a=-2\n",
        "a=1.2\n",
        "print(a)"
      ],
      "metadata": {
        "id": "GFh6XibuSnmK",
        "outputId": "37218798-4657-49bd-847f-f270c05e848a",
        "colab": {
          "base_uri": "https://localhost:8080/"
        }
      },
      "execution_count": null,
      "outputs": [
        {
          "output_type": "stream",
          "name": "stdout",
          "text": [
            "Anurag\n",
            "5\n",
            "-2\n",
            "1.2\n",
            "1.2\n"
          ]
        }
      ]
    },
    {
      "cell_type": "markdown",
      "source": [
        "**Operators**\n",
        "\n",
        "Arithmatic operators  + - * /\n",
        "Other Operator // %"
      ],
      "metadata": {
        "id": "Go_H1uaIU3JR"
      }
    },
    {
      "cell_type": "code",
      "source": [
        "2+5"
      ],
      "metadata": {
        "id": "TqHXW3xZVDjB",
        "outputId": "b758231b-1dc3-4a4b-c35c-9a0eee3686bc",
        "colab": {
          "base_uri": "https://localhost:8080/"
        }
      },
      "execution_count": null,
      "outputs": [
        {
          "output_type": "execute_result",
          "data": {
            "text/plain": [
              "7"
            ]
          },
          "metadata": {},
          "execution_count": 10
        }
      ]
    },
    {
      "cell_type": "code",
      "source": [
        "2-3"
      ],
      "metadata": {
        "id": "zxujQtm2VGOo",
        "outputId": "d81b58b7-5a80-4ca3-a42c-6b9d45c05703",
        "colab": {
          "base_uri": "https://localhost:8080/"
        }
      },
      "execution_count": null,
      "outputs": [
        {
          "output_type": "execute_result",
          "data": {
            "text/plain": [
              "-1"
            ]
          },
          "metadata": {},
          "execution_count": 11
        }
      ]
    },
    {
      "cell_type": "code",
      "source": [
        "5/2"
      ],
      "metadata": {
        "id": "BLSFhwr7VM3J",
        "outputId": "3a8125db-d4b5-4691-b49e-a8ce0a83ac3d",
        "colab": {
          "base_uri": "https://localhost:8080/"
        }
      },
      "execution_count": null,
      "outputs": [
        {
          "output_type": "execute_result",
          "data": {
            "text/plain": [
              "2.5"
            ]
          },
          "metadata": {},
          "execution_count": 12
        }
      ]
    },
    {
      "cell_type": "code",
      "source": [
        "6/3"
      ],
      "metadata": {
        "id": "c9Ymlt_QVQLG",
        "outputId": "8ec9b0f2-a6de-4dcd-bdaf-a1bff9a03544",
        "colab": {
          "base_uri": "https://localhost:8080/"
        }
      },
      "execution_count": null,
      "outputs": [
        {
          "output_type": "execute_result",
          "data": {
            "text/plain": [
              "2.0"
            ]
          },
          "metadata": {},
          "execution_count": 13
        }
      ]
    },
    {
      "cell_type": "markdown",
      "source": [
        "Python division always returns floating point int/int = float\n",
        "If you need integer then use // like int//int = int"
      ],
      "metadata": {
        "id": "7cX5njDiVS-h"
      }
    },
    {
      "cell_type": "code",
      "source": [
        "6//3"
      ],
      "metadata": {
        "id": "bfDe-NjbVkZF",
        "outputId": "608c0781-adbc-46ac-c2f0-0bf6f9e940ee",
        "colab": {
          "base_uri": "https://localhost:8080/"
        }
      },
      "execution_count": null,
      "outputs": [
        {
          "output_type": "execute_result",
          "data": {
            "text/plain": [
              "2"
            ]
          },
          "metadata": {},
          "execution_count": 14
        }
      ]
    },
    {
      "cell_type": "markdown",
      "source": [
        "Mod operator % - it returns the remainder (Numnerator % denominator)\n",
        "if denominator is greater than Numerator then Numerator is returned as is"
      ],
      "metadata": {
        "id": "davMX2XqV5bM"
      }
    },
    {
      "cell_type": "code",
      "source": [
        "6%4"
      ],
      "metadata": {
        "id": "M7vvFOzdV3yO",
        "outputId": "1dbd3261-1027-45a0-e08e-c99ce8c09b71",
        "colab": {
          "base_uri": "https://localhost:8080/"
        }
      },
      "execution_count": null,
      "outputs": [
        {
          "output_type": "execute_result",
          "data": {
            "text/plain": [
              "2"
            ]
          },
          "metadata": {},
          "execution_count": 16
        }
      ]
    },
    {
      "cell_type": "code",
      "source": [
        "4%6"
      ],
      "metadata": {
        "id": "gOfIN9UBWiaH",
        "outputId": "77879e8d-fa76-4784-bb9a-fef6de45a16d",
        "colab": {
          "base_uri": "https://localhost:8080/"
        }
      },
      "execution_count": null,
      "outputs": [
        {
          "output_type": "execute_result",
          "data": {
            "text/plain": [
              "4"
            ]
          },
          "metadata": {},
          "execution_count": 17
        }
      ]
    },
    {
      "cell_type": "code",
      "source": [
        "3%2"
      ],
      "metadata": {
        "id": "hN4qego3Wkr8",
        "outputId": "93096acd-9ecc-4ae4-e799-3e3b9ceb3209",
        "colab": {
          "base_uri": "https://localhost:8080/"
        }
      },
      "execution_count": null,
      "outputs": [
        {
          "output_type": "execute_result",
          "data": {
            "text/plain": [
              "1"
            ]
          },
          "metadata": {},
          "execution_count": 18
        }
      ]
    },
    {
      "cell_type": "code",
      "source": [
        "12312231913931%3"
      ],
      "metadata": {
        "id": "CKXmAPbdWmmF",
        "outputId": "f5def31d-ad01-4183-95ed-5e02e01b7776",
        "colab": {
          "base_uri": "https://localhost:8080/"
        }
      },
      "execution_count": null,
      "outputs": [
        {
          "output_type": "execute_result",
          "data": {
            "text/plain": [
              "2"
            ]
          },
          "metadata": {},
          "execution_count": 19
        }
      ]
    },
    {
      "cell_type": "markdown",
      "source": [
        "**input method for prompt**"
      ],
      "metadata": {
        "id": "wuJPnRIZWye3"
      }
    },
    {
      "cell_type": "code",
      "execution_count": null,
      "metadata": {
        "colab": {
          "base_uri": "https://localhost:8080/"
        },
        "id": "2ez6tn06P1My",
        "outputId": "7738fac8-4856-4fcd-d61a-51ba34acc084"
      },
      "outputs": [
        {
          "output_type": "stream",
          "name": "stdout",
          "text": [
            "What is your name? Anurag\n",
            "Hello, Anurag\n"
          ]
        }
      ],
      "source": [
        "user_name = input('What is your name? ')\n",
        "print('Hello,', user_name)"
      ]
    },
    {
      "cell_type": "code",
      "source": [
        "num1 = input('First Number = ')\n",
        "num2 = input('Second Number = ')\n",
        "res = num1/num2"
      ],
      "metadata": {
        "id": "hJECzLmJYLnv"
      },
      "execution_count": null,
      "outputs": []
    },
    {
      "cell_type": "code",
      "source": [
        "x=11\n",
        "y=4\n",
        "x=x%y\n",
        "y=y%x\n",
        "print(x, y)"
      ],
      "metadata": {
        "id": "_h8ARaAqY3N4",
        "outputId": "141f3675-1c39-4790-ed92-c8c3159a8089",
        "colab": {
          "base_uri": "https://localhost:8080/"
        }
      },
      "execution_count": null,
      "outputs": [
        {
          "output_type": "stream",
          "name": "stdout",
          "text": [
            "3 1\n"
          ]
        }
      ]
    },
    {
      "cell_type": "code",
      "source": [
        "print('let it' + 'snow')\n",
        "print('and' + 'snow')\n",
        "print('let it ' + 'snow')\n",
        "print('and' + ' snow')\n",
        "print('let it' +     'snow')\n",
        "print(        'and' + 'snow')"
      ],
      "metadata": {
        "id": "28HMd-VqZa10",
        "outputId": "1ca649a3-8a0c-4f12-af71-08a3fffb21a0",
        "colab": {
          "base_uri": "https://localhost:8080/"
        }
      },
      "execution_count": null,
      "outputs": [
        {
          "output_type": "stream",
          "name": "stdout",
          "text": [
            "let itsnow\n",
            "andsnow\n",
            "let it snow\n",
            "and snow\n",
            "let itsnow\n",
            "andsnow\n"
          ]
        }
      ]
    },
    {
      "cell_type": "code",
      "source": [
        "a='2'\n",
        "b='3'\n",
        "print(a+b)"
      ],
      "metadata": {
        "id": "g7Z3wbo1Z5a4",
        "outputId": "b7fdce5c-1527-4996-b0bd-148a7f76dedb",
        "colab": {
          "base_uri": "https://localhost:8080/"
        }
      },
      "execution_count": null,
      "outputs": [
        {
          "output_type": "stream",
          "name": "stdout",
          "text": [
            "23\n"
          ]
        }
      ]
    },
    {
      "cell_type": "code",
      "source": [
        "Int within single quotes is treated as string"
      ],
      "metadata": {
        "id": "PmlViHiXaMDl"
      },
      "execution_count": null,
      "outputs": []
    },
    {
      "cell_type": "code",
      "source": [
        "input('Hi , how old are you?')"
      ],
      "metadata": {
        "id": "qrNIBCXFaeKt",
        "outputId": "07582653-bffe-4698-b152-a9b7610192ab",
        "colab": {
          "base_uri": "https://localhost:8080/",
          "height": 52
        }
      },
      "execution_count": 2,
      "outputs": [
        {
          "name": "stdout",
          "output_type": "stream",
          "text": [
            "Hi , how old are you?23\n"
          ]
        },
        {
          "output_type": "execute_result",
          "data": {
            "text/plain": [
              "'23'"
            ],
            "application/vnd.google.colaboratory.intrinsic+json": {
              "type": "string"
            }
          },
          "metadata": {},
          "execution_count": 2
        }
      ]
    },
    {
      "cell_type": "markdown",
      "source": [
        "# DAY 2"
      ],
      "metadata": {
        "id": "oLnRlWPVL5dV"
      }
    },
    {
      "cell_type": "markdown",
      "source": [
        "**Typecasting**"
      ],
      "metadata": {
        "id": "OZabqnqfL9b4"
      }
    },
    {
      "cell_type": "code",
      "source": [
        "num1=input(\" input value for number 1\")\n",
        "num2=input(\" input value for number 2\")\n",
        "print(num1+num2)\n",
        "print(num1,num2)\n",
        "print(num1+2)"
      ],
      "metadata": {
        "colab": {
          "base_uri": "https://localhost:8080/",
          "height": 241
        },
        "id": "l3Ceqy9JMBUL",
        "outputId": "fd7bb9d6-3b22-420e-b66a-cb4457b03353"
      },
      "execution_count": 10,
      "outputs": [
        {
          "output_type": "stream",
          "name": "stdout",
          "text": [
            " input value for number 14\n",
            " input value for number 266\n",
            "466\n",
            "4 66\n"
          ]
        },
        {
          "output_type": "error",
          "ename": "TypeError",
          "evalue": "can only concatenate str (not \"int\") to str",
          "traceback": [
            "\u001b[0;31m---------------------------------------------------------------------------\u001b[0m",
            "\u001b[0;31mTypeError\u001b[0m                                 Traceback (most recent call last)",
            "\u001b[0;32m<ipython-input-10-9288f8925851>\u001b[0m in \u001b[0;36m<cell line: 5>\u001b[0;34m()\u001b[0m\n\u001b[1;32m      3\u001b[0m \u001b[0mprint\u001b[0m\u001b[0;34m(\u001b[0m\u001b[0mnum1\u001b[0m\u001b[0;34m+\u001b[0m\u001b[0mnum2\u001b[0m\u001b[0;34m)\u001b[0m\u001b[0;34m\u001b[0m\u001b[0;34m\u001b[0m\u001b[0m\n\u001b[1;32m      4\u001b[0m \u001b[0mprint\u001b[0m\u001b[0;34m(\u001b[0m\u001b[0mnum1\u001b[0m\u001b[0;34m,\u001b[0m\u001b[0mnum2\u001b[0m\u001b[0;34m)\u001b[0m\u001b[0;34m\u001b[0m\u001b[0;34m\u001b[0m\u001b[0m\n\u001b[0;32m----> 5\u001b[0;31m \u001b[0mprint\u001b[0m\u001b[0;34m(\u001b[0m\u001b[0mnum1\u001b[0m\u001b[0;34m+\u001b[0m\u001b[0;36m2\u001b[0m\u001b[0;34m)\u001b[0m\u001b[0;34m\u001b[0m\u001b[0;34m\u001b[0m\u001b[0m\n\u001b[0m",
            "\u001b[0;31mTypeError\u001b[0m: can only concatenate str (not \"int\") to str"
          ]
        }
      ]
    },
    {
      "cell_type": "code",
      "source": [
        "a=int(input(\" input value for number 1 =  \"))\n",
        "b=int(input(\" input value for number 2 =  \"))\n",
        "print('a + b = ',a+b)\n",
        "print(a,b)\n",
        "print(a+2)\n",
        "print('The value of a is ',a, ', The value of b is ' ,b ,' and Sum of a + b = ',a+b)\n",
        "print('\\nThe value of a is ',a, '\\nThe value of b is ' ,b ,' \\nSum of a + b = ',a+b)"
      ],
      "metadata": {
        "colab": {
          "base_uri": "https://localhost:8080/"
        },
        "id": "2W4GfiYxMs-h",
        "outputId": "8ac208bf-60cd-459e-bd37-7671eeae056a"
      },
      "execution_count": 14,
      "outputs": [
        {
          "output_type": "stream",
          "name": "stdout",
          "text": [
            " input value for number 1 =  3\n",
            " input value for number 2 =  4\n",
            "a + b =  7\n",
            "3 4\n",
            "5\n",
            "The value of a is  3 , The value of b is  4  and Sum of a + b =  7\n",
            "\n",
            "The value of a is  3 \n",
            "The value of b is  4  \n",
            "Sum of a + b =  7\n"
          ]
        }
      ]
    },
    {
      "cell_type": "markdown",
      "source": [
        "Separator\n",
        "default is single space"
      ],
      "metadata": {
        "id": "xA3mMgjuPorT"
      }
    },
    {
      "cell_type": "code",
      "source": [
        "print(a,b)\n",
        "print(a,b,sep='_')\n",
        "print(a,2)"
      ],
      "metadata": {
        "colab": {
          "base_uri": "https://localhost:8080/"
        },
        "id": "ikcRWV1MPn3w",
        "outputId": "587ad0d3-6ad9-46d8-d664-ba85d4d215e9"
      },
      "execution_count": 15,
      "outputs": [
        {
          "output_type": "stream",
          "name": "stdout",
          "text": [
            "3 4\n",
            "3_4\n",
            "3 2\n"
          ]
        }
      ]
    },
    {
      "cell_type": "markdown",
      "source": [
        "end of line\n",
        "default \\n"
      ],
      "metadata": {
        "id": "VwyPsPS0QuHN"
      }
    },
    {
      "cell_type": "code",
      "source": [
        "print(a)\n",
        "print(b)\n",
        "print(a,end=', ')\n",
        "print(b)\n",
        "print(a,b,end=', ')"
      ],
      "metadata": {
        "colab": {
          "base_uri": "https://localhost:8080/"
        },
        "id": "sx8saLngQYJk",
        "outputId": "0d10ef73-63ee-4a40-88c8-e2e6e326e169"
      },
      "execution_count": 16,
      "outputs": [
        {
          "output_type": "stream",
          "name": "stdout",
          "text": [
            "3\n",
            "4\n",
            "3, 4\n"
          ]
        }
      ]
    },
    {
      "cell_type": "markdown",
      "source": [
        "Celsius to Farenheit conversion F = C * 1.8 + 32"
      ],
      "metadata": {
        "id": "Gmp21Wg6RL8I"
      }
    },
    {
      "cell_type": "code",
      "source": [
        "C=int(input(\" input value for celsius =  \"))\n",
        "F=(C * 1.8) + 32\n",
        "print('Farenheit is = ',F)\n",
        "print('Farenheit is = ',float(F))"
      ],
      "metadata": {
        "colab": {
          "base_uri": "https://localhost:8080/"
        },
        "id": "kwVTmojnRWIu",
        "outputId": "6ec9f1a3-cb4e-44c0-e6f7-9e7af8e4d2f1"
      },
      "execution_count": 27,
      "outputs": [
        {
          "output_type": "stream",
          "name": "stdout",
          "text": [
            " input value for celsius =  6\n",
            "Farenheit is =  42.8\n",
            "Farenheit is =  42.8\n"
          ]
        }
      ]
    },
    {
      "cell_type": "markdown",
      "source": [
        "Operator\n",
        "Unary\n",
        "  Follows BODMAS\n",
        "  Evaluates Left to Right () % * + -\n",
        "  Evaluates Right to Left **\n",
        "Binary"
      ],
      "metadata": {
        "id": "pjOcn6atT5Cw"
      }
    },
    {
      "cell_type": "code",
      "source": [
        "print(2 + 3 * 4 / 2 * ( 4 / 2))\n",
        "print(2 ** 2 ** 3)\n"
      ],
      "metadata": {
        "colab": {
          "base_uri": "https://localhost:8080/"
        },
        "id": "89X8negdTyX8",
        "outputId": "d66775e3-7913-4f67-c87b-df10680b7b95"
      },
      "execution_count": 32,
      "outputs": [
        {
          "output_type": "stream",
          "name": "stdout",
          "text": [
            "14.0\n",
            "256\n"
          ]
        }
      ]
    },
    {
      "cell_type": "markdown",
      "source": [
        "Exercise"
      ],
      "metadata": {
        "id": "IXIzyd6HVUfL"
      }
    },
    {
      "cell_type": "code",
      "source": [
        "login=input(\"Enter your login: \")\n",
        "nativeLang=input(\"Enter your native language: \")\n",
        "print(\"Your login is \",login,' and you speak ',nativeLang)"
      ],
      "metadata": {
        "colab": {
          "base_uri": "https://localhost:8080/"
        },
        "id": "Mf09my3yVWUo",
        "outputId": "8f1e8a84-cdf8-4a68-cef7-efca5aed4a7d"
      },
      "execution_count": 41,
      "outputs": [
        {
          "output_type": "stream",
          "name": "stdout",
          "text": [
            "Enter your login: Anurag\n",
            "Enter your native language: Hindi\n",
            "Your login is  Anurag  and you speak  Hindi\n"
          ]
        }
      ]
    },
    {
      "cell_type": "markdown",
      "source": [
        "Variable replacement in print"
      ],
      "metadata": {
        "id": "aS_cw2XBXY7j"
      }
    },
    {
      "cell_type": "code",
      "source": [
        "print(\"Your login is {} and you speak {}\".format(login,nativeLang))"
      ],
      "metadata": {
        "colab": {
          "base_uri": "https://localhost:8080/"
        },
        "id": "ZymYwar4Wa9v",
        "outputId": "9bfc4b92-d966-467f-8ca1-d39ba4395254"
      },
      "execution_count": 42,
      "outputs": [
        {
          "output_type": "stream",
          "name": "stdout",
          "text": [
            "Your login is Anurag and you speak Hindi\n"
          ]
        }
      ]
    },
    {
      "cell_type": "markdown",
      "source": [
        "Bitwise operator\n",
        "<<   left Shift"
      ],
      "metadata": {
        "id": "TGZ1GfBxXj_9"
      }
    },
    {
      "cell_type": "code",
      "source": [
        "2 << 1"
      ],
      "metadata": {
        "colab": {
          "base_uri": "https://localhost:8080/"
        },
        "id": "kbtkPHW1Xs5x",
        "outputId": "a4930243-92b4-4ce9-9313-beabb168cd21"
      },
      "execution_count": 43,
      "outputs": [
        {
          "output_type": "execute_result",
          "data": {
            "text/plain": [
              "4"
            ]
          },
          "metadata": {},
          "execution_count": 43
        }
      ]
    },
    {
      "cell_type": "code",
      "source": [
        "2 << 2"
      ],
      "metadata": {
        "colab": {
          "base_uri": "https://localhost:8080/"
        },
        "id": "4eadVsspYNR5",
        "outputId": "d5908d37-4a65-4459-a02f-887db7e07213"
      },
      "execution_count": 44,
      "outputs": [
        {
          "output_type": "execute_result",
          "data": {
            "text/plain": [
              "8"
            ]
          },
          "metadata": {},
          "execution_count": 44
        }
      ]
    },
    {
      "cell_type": "code",
      "source": [
        "2 << 3"
      ],
      "metadata": {
        "colab": {
          "base_uri": "https://localhost:8080/"
        },
        "id": "WhpmK3ofYPU8",
        "outputId": "67a622ca-9e60-464f-f022-153dc11f916a"
      },
      "execution_count": 47,
      "outputs": [
        {
          "output_type": "execute_result",
          "data": {
            "text/plain": [
              "16"
            ]
          },
          "metadata": {},
          "execution_count": 47
        }
      ]
    },
    {
      "cell_type": "code",
      "source": [
        "3<<1"
      ],
      "metadata": {
        "colab": {
          "base_uri": "https://localhost:8080/"
        },
        "id": "fLK2oa7MY3Kc",
        "outputId": "ff28aac3-0e44-4c6b-8950-e98946bd8b6c"
      },
      "execution_count": 48,
      "outputs": [
        {
          "output_type": "execute_result",
          "data": {
            "text/plain": [
              "6"
            ]
          },
          "metadata": {},
          "execution_count": 48
        }
      ]
    },
    {
      "cell_type": "code",
      "source": [
        "3<<2"
      ],
      "metadata": {
        "colab": {
          "base_uri": "https://localhost:8080/"
        },
        "id": "x6-5XMhmY8D2",
        "outputId": "777332f9-57d8-4136-e5b6-4cfcec48fab2"
      },
      "execution_count": 49,
      "outputs": [
        {
          "output_type": "execute_result",
          "data": {
            "text/plain": [
              "12"
            ]
          },
          "metadata": {},
          "execution_count": 49
        }
      ]
    },
    {
      "cell_type": "code",
      "source": [
        "3>>2"
      ],
      "metadata": {
        "colab": {
          "base_uri": "https://localhost:8080/"
        },
        "id": "oXzYfU9rY_27",
        "outputId": "b0d4ebce-6ec1-46e7-dfc7-2a32664c805a"
      },
      "execution_count": 50,
      "outputs": [
        {
          "output_type": "execute_result",
          "data": {
            "text/plain": [
              "0"
            ]
          },
          "metadata": {},
          "execution_count": 50
        }
      ]
    },
    {
      "cell_type": "markdown",
      "source": [
        "Right Shift ?"
      ],
      "metadata": {
        "id": "0_U0x6TCZXau"
      }
    },
    {
      "cell_type": "code",
      "source": [
        "8>>1"
      ],
      "metadata": {
        "colab": {
          "base_uri": "https://localhost:8080/"
        },
        "id": "6UIhy4plZDJC",
        "outputId": "e96581da-5464-4a81-aa81-be80c9d9bb98"
      },
      "execution_count": 51,
      "outputs": [
        {
          "output_type": "execute_result",
          "data": {
            "text/plain": [
              "4"
            ]
          },
          "metadata": {},
          "execution_count": 51
        }
      ]
    },
    {
      "cell_type": "code",
      "source": [
        "print(2 + 3 << 1 * 4 / 2 * ( 4 / 2))"
      ],
      "metadata": {
        "colab": {
          "base_uri": "https://localhost:8080/",
          "height": 139
        },
        "id": "pcxN4ALQYRA3",
        "outputId": "a96dd7b4-8de5-4ae8-b11d-3974d834dce8"
      },
      "execution_count": 45,
      "outputs": [
        {
          "output_type": "error",
          "ename": "TypeError",
          "evalue": "unsupported operand type(s) for <<: 'int' and 'float'",
          "traceback": [
            "\u001b[0;31m---------------------------------------------------------------------------\u001b[0m",
            "\u001b[0;31mTypeError\u001b[0m                                 Traceback (most recent call last)",
            "\u001b[0;32m<ipython-input-45-becc8e555262>\u001b[0m in \u001b[0;36m<cell line: 1>\u001b[0;34m()\u001b[0m\n\u001b[0;32m----> 1\u001b[0;31m \u001b[0mprint\u001b[0m\u001b[0;34m(\u001b[0m\u001b[0;36m2\u001b[0m \u001b[0;34m+\u001b[0m \u001b[0;36m3\u001b[0m \u001b[0;34m<<\u001b[0m \u001b[0;36m1\u001b[0m \u001b[0;34m*\u001b[0m \u001b[0;36m4\u001b[0m \u001b[0;34m/\u001b[0m \u001b[0;36m2\u001b[0m \u001b[0;34m*\u001b[0m \u001b[0;34m(\u001b[0m \u001b[0;36m4\u001b[0m \u001b[0;34m/\u001b[0m \u001b[0;36m2\u001b[0m\u001b[0;34m)\u001b[0m\u001b[0;34m)\u001b[0m\u001b[0;34m\u001b[0m\u001b[0;34m\u001b[0m\u001b[0m\n\u001b[0m",
            "\u001b[0;31mTypeError\u001b[0m: unsupported operand type(s) for <<: 'int' and 'float'"
          ]
        }
      ]
    },
    {
      "cell_type": "code",
      "source": [
        "print(2 + int(3 << 1) * 4 / 2 * ( 4 / 2))"
      ],
      "metadata": {
        "colab": {
          "base_uri": "https://localhost:8080/"
        },
        "id": "tE6rcvJ2YbPp",
        "outputId": "eb29de36-c4ba-4e40-fa80-0349c2753031"
      },
      "execution_count": 46,
      "outputs": [
        {
          "output_type": "stream",
          "name": "stdout",
          "text": [
            "26.0\n"
          ]
        }
      ]
    },
    {
      "cell_type": "markdown",
      "source": [
        "Condition & indentation\n",
        "```\n",
        "if condition:\n",
        "  statement1\n",
        "  statement2\n",
        "  statement3\n",
        "else:\n",
        "  statement\n",
        "-----No explicit end either if or both if & else\n",
        "--Elsif ladder\n",
        "if condition:\n",
        "  statement\n",
        "elif:\n",
        "  statement\n",
        "else\n",
        "  statement\n",
        "```\n",
        "\n"
      ],
      "metadata": {
        "id": "EwZXLqpRZuCX"
      }
    },
    {
      "cell_type": "markdown",
      "source": [
        "**Check if you can vote!**"
      ],
      "metadata": {
        "id": "wq_TPC-LbjQy"
      }
    },
    {
      "cell_type": "code",
      "source": [
        "age=int(input(\"What is your age? \"))\n",
        "if age >= 18 :\n",
        "  print(\"Wow! You are eligible to vote!!\")\n",
        "else :\n",
        "  print(\"Please try after \", 18-age, \" years!\")\n",
        "\n",
        "print('Thank you for being a concerned citizen!')"
      ],
      "metadata": {
        "colab": {
          "base_uri": "https://localhost:8080/"
        },
        "id": "4AQyVL3Qaqjd",
        "outputId": "57d2de5a-4218-4468-c353-bb6a3f78a7c0"
      },
      "execution_count": 57,
      "outputs": [
        {
          "output_type": "stream",
          "name": "stdout",
          "text": [
            "What is your age? 4\n",
            "Please try after  14  years!\n",
            "Thank you for being a concerned citizen!\n"
          ]
        }
      ]
    },
    {
      "cell_type": "code",
      "source": [
        "age=int(input(\"What is your age? \"))\n",
        "if age >= 18 :\n",
        "  res = \"Wow! You are eligible to vote!!\"\n",
        "else :\n",
        "  res = \"Please try after \", 18-age, \" years!\"\n",
        "\n",
        "print(res)"
      ],
      "metadata": {
        "colab": {
          "base_uri": "https://localhost:8080/"
        },
        "id": "_GPKV8EHdFn3",
        "outputId": "aa4d5b57-1851-4fe2-ece2-3f2601753aa4"
      },
      "execution_count": 58,
      "outputs": [
        {
          "output_type": "stream",
          "name": "stdout",
          "text": [
            "What is your age? 34\n",
            "Wow! You are eligible to vote!!\n"
          ]
        }
      ]
    },
    {
      "cell_type": "markdown",
      "source": [
        "Logical operator returns true/false ( boolean) == > < >= =< && !="
      ],
      "metadata": {
        "id": "g7oefujieWPy"
      }
    },
    {
      "cell_type": "code",
      "source": [
        "age=int(input(\"What is your age? \"))\n",
        "if age == 18 :\n",
        "  res = \"Congratulations! You are eligible to vote now!!\"\n",
        "elif age >= 18:\n",
        "    res = \"Wow! You have been eligible to vote since, {} years!!\".format(age-18)\n",
        "else :\n",
        "  res = \"Please try after \", 18-age, \" years!\"\n",
        "\n",
        "print(res)"
      ],
      "metadata": {
        "colab": {
          "base_uri": "https://localhost:8080/"
        },
        "id": "w6XFhjHYef71",
        "outputId": "bce3a89a-0727-4d1e-d4a4-b495a6c45577"
      },
      "execution_count": 68,
      "outputs": [
        {
          "output_type": "stream",
          "name": "stdout",
          "text": [
            "What is your age? 6\n",
            "('Please try after ', 12, ' years!')\n"
          ]
        }
      ]
    },
    {
      "cell_type": "code",
      "source": [
        "float(1 // 2*6)"
      ],
      "metadata": {
        "colab": {
          "base_uri": "https://localhost:8080/"
        },
        "id": "BL1ykDSdhZvj",
        "outputId": "7f15ecfb-25a9-4921-9d7d-b7251dd6e761"
      },
      "execution_count": 70,
      "outputs": [
        {
          "output_type": "execute_result",
          "data": {
            "text/plain": [
              "0.0"
            ]
          },
          "metadata": {},
          "execution_count": 70
        }
      ]
    },
    {
      "cell_type": "code",
      "source": [
        "print(age=int(input(\"What is your age? \")))"
      ],
      "metadata": {
        "colab": {
          "base_uri": "https://localhost:8080/",
          "height": 156
        },
        "id": "k2Ajpl38hjIT",
        "outputId": "2a73d9a6-f528-4658-dd5f-b5581f7a6876"
      },
      "execution_count": 71,
      "outputs": [
        {
          "name": "stdout",
          "output_type": "stream",
          "text": [
            "What is your age? as\n"
          ]
        },
        {
          "output_type": "error",
          "ename": "ValueError",
          "evalue": "invalid literal for int() with base 10: 'as'",
          "traceback": [
            "\u001b[0;31m---------------------------------------------------------------------------\u001b[0m",
            "\u001b[0;31mValueError\u001b[0m                                Traceback (most recent call last)",
            "\u001b[0;32m<ipython-input-71-da715dc5be5b>\u001b[0m in \u001b[0;36m<cell line: 1>\u001b[0;34m()\u001b[0m\n\u001b[0;32m----> 1\u001b[0;31m \u001b[0mprint\u001b[0m\u001b[0;34m(\u001b[0m\u001b[0mage\u001b[0m\u001b[0;34m=\u001b[0m\u001b[0mint\u001b[0m\u001b[0;34m(\u001b[0m\u001b[0minput\u001b[0m\u001b[0;34m(\u001b[0m\u001b[0;34m\"What is your age? \"\u001b[0m\u001b[0;34m)\u001b[0m\u001b[0;34m)\u001b[0m\u001b[0;34m)\u001b[0m\u001b[0;34m\u001b[0m\u001b[0;34m\u001b[0m\u001b[0m\n\u001b[0m",
            "\u001b[0;31mValueError\u001b[0m: invalid literal for int() with base 10: 'as'"
          ]
        }
      ]
    },
    {
      "cell_type": "markdown",
      "source": [
        "short hand notation\n",
        "a = a+b => a += b\n"
      ],
      "metadata": {
        "id": "lwzrm8fSiLcA"
      }
    },
    {
      "cell_type": "markdown",
      "source": [
        "Refund Policy Helper\n",
        "Let's help an online store with their new refund policy. In this store, you can return an item and get a refund in 2 cases:\n",
        "1. Within 10 days from the day of purchase, given that you have not used the item, or\n",
        "2. No matter when you bought it, when the item broke down through no fault of your own.\n",
        "Write a program that first asks the user three questions and then informs them whether they can get a refund. Ask the following questions:\n",
        "How many days ago have you purchased the item? << add a space at the end of this prompt\n",
        "Have you used the item at all [y/n]?  << add a space at the end of this prompt\n",
        "Has the item broken down on its own [y/n]?  << add a space at the end of this prompt\n",
        "Based on the answers and the refund policy explained above, print either:\n",
        "You can get a refund.\n",
        "or:\n",
        "You cannot get a refund."
      ],
      "metadata": {
        "id": "CSsvJp9IibqG"
      }
    },
    {
      "cell_type": "code",
      "source": [
        "daysPurchased=int(input(\"How many days ago have you purchased the item? \"))\n",
        "isUsed=input(\"Have you used the item at all [y/n]?  \")\n",
        "brokenByItsOwn=input(\"Has the item broken down on its own [y/n]?  \")\n",
        "if (daysPurchased <= 10 and isUsed == 'n' ) or brokenByItsOwn == 'y':\n",
        "  print(\"You can get a refund.\")\n",
        "else:\n",
        "  print(\"You cannot get a refund.\")"
      ],
      "metadata": {
        "colab": {
          "base_uri": "https://localhost:8080/"
        },
        "id": "0swjqYy-loL_",
        "outputId": "10ae2ff6-9598-4402-a0aa-d71dc9ec563b"
      },
      "execution_count": 76,
      "outputs": [
        {
          "output_type": "stream",
          "name": "stdout",
          "text": [
            "How many days ago have you purchased the item? 15\n",
            "Have you used the item at all [y/n]?  y\n",
            "Has the item broken down on its own [y/n]?  y\n",
            "You can get a refund.\n"
          ]
        }
      ]
    },
    {
      "cell_type": "markdown",
      "source": [
        "# DAY 3"
      ],
      "metadata": {
        "id": "_Sg8UmMAX49n"
      }
    },
    {
      "cell_type": "markdown",
      "source": [
        "if else ladder\n",
        "Nested if else\n",
        "  -----> indentation"
      ],
      "metadata": {
        "id": "UsCn7zzpX-q3"
      }
    },
    {
      "cell_type": "code",
      "source": [],
      "metadata": {
        "id": "X35uNCCWYeaB"
      },
      "execution_count": null,
      "outputs": []
    },
    {
      "cell_type": "markdown",
      "source": [
        "While loop"
      ],
      "metadata": {
        "id": "bpWrGLPBgJx3"
      }
    },
    {
      "cell_type": "code",
      "source": [
        "c=1\n",
        "while(c<5):\n",
        "  print(c)\n",
        "  c+=1\n",
        "print(c)"
      ],
      "metadata": {
        "colab": {
          "base_uri": "https://localhost:8080/"
        },
        "id": "cQv5a8sGgO1e",
        "outputId": "5f2f0e69-8cd8-41b7-cb16-9b3bf51ee767"
      },
      "execution_count": 9,
      "outputs": [
        {
          "output_type": "stream",
          "name": "stdout",
          "text": [
            "1\n",
            "2\n",
            "3\n",
            "4\n",
            "5\n"
          ]
        }
      ]
    },
    {
      "cell_type": "code",
      "source": [
        "start=int(input(\"Enter start: \"))\n",
        "end=int(input(\"Enter end: \"))\n",
        "while start<=end:\n",
        "  print(start)\n",
        "  start+=1"
      ],
      "metadata": {
        "colab": {
          "base_uri": "https://localhost:8080/"
        },
        "id": "DizLh0O4kKTv",
        "outputId": "3ff38116-1b5d-494b-dbb1-c3aa80e5b1b1"
      },
      "execution_count": 13,
      "outputs": [
        {
          "output_type": "stream",
          "name": "stdout",
          "text": [
            "Enter start: 8\n",
            "Enter end: 9\n",
            "8\n",
            "9\n"
          ]
        }
      ]
    },
    {
      "cell_type": "markdown",
      "source": [
        "print Even Numbers"
      ],
      "metadata": {
        "id": "t7-_g-Gul_8V"
      }
    },
    {
      "cell_type": "code",
      "source": [
        "start=int(input(\"Enter start: \"))\n",
        "end=int(input(\"Enter end: \"))\n",
        "while start<=end:\n",
        "  if start%2 == 0:\n",
        "    print(start)\n",
        "  start+=1"
      ],
      "metadata": {
        "colab": {
          "base_uri": "https://localhost:8080/"
        },
        "id": "fJxqskwyljGR",
        "outputId": "a6f10fad-5b95-41c6-897b-3cb95e612755"
      },
      "execution_count": 20,
      "outputs": [
        {
          "output_type": "stream",
          "name": "stdout",
          "text": [
            "Enter start: 1\n",
            "Enter end: 11\n",
            "2\n",
            "4\n",
            "6\n",
            "8\n",
            "10\n"
          ]
        }
      ]
    },
    {
      "cell_type": "code",
      "source": [
        "x=1\n",
        "x = x == x\n",
        "print(x)"
      ],
      "metadata": {
        "id": "v2fdih0Wr_Ns",
        "outputId": "d5ba0572-c496-4bf3-a741-ac3e198fcc3c",
        "colab": {
          "base_uri": "https://localhost:8080/"
        }
      },
      "execution_count": 46,
      "outputs": [
        {
          "output_type": "stream",
          "name": "stdout",
          "text": [
            "True\n"
          ]
        }
      ]
    },
    {
      "cell_type": "code",
      "source": [
        "a=5\n",
        "b=1\n",
        "c= (a > b or b < 1 ) and a == 1\n",
        "print(c)\n",
        "c= a > b or b < 1  and a == 1\n",
        "print(c)"
      ],
      "metadata": {
        "id": "bxzEjNJ4tO-J",
        "outputId": "8e766125-34fa-4ad9-f6b6-3dd7ea709bb2",
        "colab": {
          "base_uri": "https://localhost:8080/"
        }
      },
      "execution_count": 49,
      "outputs": [
        {
          "output_type": "stream",
          "name": "stdout",
          "text": [
            "False\n",
            "True\n"
          ]
        }
      ]
    },
    {
      "cell_type": "markdown",
      "source": [
        "# For loop"
      ],
      "metadata": {
        "id": "vkojD9jzii3-"
      }
    },
    {
      "cell_type": "markdown",
      "source": [],
      "metadata": {
        "id": "U1AEZTUurA5H"
      }
    },
    {
      "cell_type": "code",
      "source": [
        "s=\"good\"\n",
        "for i in s:\n",
        "  print(i)"
      ],
      "metadata": {
        "colab": {
          "base_uri": "https://localhost:8080/"
        },
        "id": "sG-R5OGVqH6W",
        "outputId": "a31ac757-42e5-4926-e37f-d907b37c3fb1"
      },
      "execution_count": 40,
      "outputs": [
        {
          "output_type": "stream",
          "name": "stdout",
          "text": [
            "g\n",
            "o\n",
            "o\n",
            "d\n"
          ]
        }
      ]
    },
    {
      "cell_type": "markdown",
      "source": [
        "Count character in a string"
      ],
      "metadata": {
        "id": "LCtHEx4grJFW"
      }
    },
    {
      "cell_type": "code",
      "source": [
        "s=input(\"What is your string?\")\n",
        "for i in s:\n",
        "    print(i)"
      ],
      "metadata": {
        "colab": {
          "base_uri": "https://localhost:8080/"
        },
        "id": "1klBpP7GpiGp",
        "outputId": "f8295776-1cfe-49ba-e1e4-b328ed5ae0f0"
      },
      "execution_count": 39,
      "outputs": [
        {
          "output_type": "stream",
          "name": "stdout",
          "text": [
            "What is your string?HI\n",
            "H\n",
            "I\n"
          ]
        }
      ]
    },
    {
      "cell_type": "code",
      "source": [
        "collection_val = [1,2,3,4,11,22,33,44]\n",
        "for i in collection_val:\n",
        "  print(i)"
      ],
      "metadata": {
        "colab": {
          "base_uri": "https://localhost:8080/"
        },
        "id": "JYTN-scwqUkm",
        "outputId": "1ceeda81-2e56-4ea6-c0a6-49eff3abee4b"
      },
      "execution_count": 42,
      "outputs": [
        {
          "output_type": "stream",
          "name": "stdout",
          "text": [
            "1\n",
            "2\n",
            "3\n",
            "4\n",
            "11\n",
            "22\n",
            "33\n",
            "44\n"
          ]
        }
      ]
    },
    {
      "cell_type": "code",
      "source": [
        "n=int(input(\"Enter a number: \"))\n",
        "for i in range(n):\n",
        "    print(i)"
      ],
      "metadata": {
        "colab": {
          "base_uri": "https://localhost:8080/"
        },
        "id": "DxGZyqTsor_B",
        "outputId": "fd9dd614-e46d-4a8f-ce1f-5ecf0ef93e97"
      },
      "execution_count": 32,
      "outputs": [
        {
          "output_type": "stream",
          "name": "stdout",
          "text": [
            "Enter a number: 5\n",
            "0\n",
            "1\n",
            "2\n",
            "3\n",
            "4\n"
          ]
        }
      ]
    },
    {
      "cell_type": "code",
      "source": [
        "n=int(input(\"Enter a number to print it\\'s table: \"))\n",
        "for i in range(10):\n",
        "    print((i+1)*n)"
      ],
      "metadata": {
        "colab": {
          "base_uri": "https://localhost:8080/"
        },
        "id": "hdmeenTQo7o1",
        "outputId": "5c4c95ce-ed1b-4d71-a11e-750970c7e987"
      },
      "execution_count": 36,
      "outputs": [
        {
          "output_type": "stream",
          "name": "stdout",
          "text": [
            "Enter a number to print it's table: 1\n",
            "1\n",
            "2\n",
            "3\n",
            "4\n",
            "5\n",
            "6\n",
            "7\n",
            "8\n",
            "9\n",
            "10\n"
          ]
        }
      ]
    },
    {
      "cell_type": "code",
      "source": [
        "n=int(input(\"Enter a number: \"))\n",
        "for i in range(n):\n",
        "  if i%2 == 0 and i>0:\n",
        "    print(i)"
      ],
      "metadata": {
        "colab": {
          "base_uri": "https://localhost:8080/"
        },
        "id": "xG71CZq_mKY9",
        "outputId": "0922c06e-7410-40a2-beb8-fd97a3e61ea6"
      },
      "execution_count": 31,
      "outputs": [
        {
          "output_type": "stream",
          "name": "stdout",
          "text": [
            "Enter a number: 45\n",
            "2\n",
            "4\n",
            "6\n",
            "8\n",
            "10\n",
            "12\n",
            "14\n",
            "16\n",
            "18\n",
            "20\n",
            "22\n",
            "24\n",
            "26\n",
            "28\n",
            "30\n",
            "32\n",
            "34\n",
            "36\n",
            "38\n",
            "40\n",
            "42\n",
            "44\n"
          ]
        }
      ]
    },
    {
      "cell_type": "code",
      "source": [
        "n=int(input(\"Enter a number: \"))\n",
        "for i in range(1,n):\n",
        "  if i%2 == 0:\n",
        "    print(i)"
      ],
      "metadata": {
        "colab": {
          "base_uri": "https://localhost:8080/"
        },
        "id": "zraAtMyHnE4I",
        "outputId": "d6935eb8-b425-431d-e5ba-d9d5c7effab4"
      },
      "execution_count": 27,
      "outputs": [
        {
          "output_type": "stream",
          "name": "stdout",
          "text": [
            "Enter a number: 11\n",
            "2\n",
            "4\n",
            "6\n",
            "8\n",
            "10\n"
          ]
        }
      ]
    },
    {
      "cell_type": "code",
      "source": [
        "n=int(input(\"Enter a number: \"))\n",
        "for i in range(n):\n",
        "  print(i)"
      ],
      "metadata": {
        "colab": {
          "base_uri": "https://localhost:8080/"
        },
        "id": "zU1-ins7iicu",
        "outputId": "9f673f71-f831-41f5-a40b-266e61de7a28"
      },
      "execution_count": 11,
      "outputs": [
        {
          "output_type": "stream",
          "name": "stdout",
          "text": [
            "Enter a number: 5\n",
            "0\n",
            "1\n",
            "2\n",
            "3\n",
            "4\n"
          ]
        }
      ]
    },
    {
      "cell_type": "code",
      "source": [
        "n=int(input(\"Enter a number: \"))\n",
        "for i in range(1,n+1):\n",
        "  print(i)"
      ],
      "metadata": {
        "colab": {
          "base_uri": "https://localhost:8080/"
        },
        "id": "pBcuSXPPlMuT",
        "outputId": "27299a75-eca9-471b-e10a-7782005ce34f"
      },
      "execution_count": 18,
      "outputs": [
        {
          "output_type": "stream",
          "name": "stdout",
          "text": [
            "Enter a number: 4\n",
            "0\n",
            "1\n",
            "2\n",
            "3\n"
          ]
        }
      ]
    }
  ],
  "metadata": {
    "kernelspec": {
      "display_name": "Python 3",
      "language": "python",
      "name": "python3"
    },
    "language_info": {
      "codemirror_mode": {
        "name": "ipython",
        "version": 3
      },
      "file_extension": ".py",
      "mimetype": "text/x-python",
      "name": "python",
      "nbconvert_exporter": "python",
      "pygments_lexer": "ipython3",
      "version": "3.6.5"
    },
    "colab": {
      "provenance": []
    }
  },
  "nbformat": 4,
  "nbformat_minor": 0
}