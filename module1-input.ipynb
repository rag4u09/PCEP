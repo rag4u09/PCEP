{
  "cells": [
    {
      "cell_type": "markdown",
      "source": [
        "**Using quotes(single, double) and escape \"\\\" character**"
      ],
      "metadata": {
        "id": "A8lNgBYCSrx7"
      }
    },
    {
      "cell_type": "code",
      "source": [
        "print(\"What's your name?\")\n",
        "print('What\"s your name?')\n",
        "print('What\\'s your name?')"
      ],
      "metadata": {
        "id": "-hrYCCdERtsO",
        "outputId": "de0fab26-f138-4077-db93-65b040863fa1",
        "colab": {
          "base_uri": "https://localhost:8080/"
        }
      },
      "execution_count": null,
      "outputs": [
        {
          "output_type": "stream",
          "name": "stdout",
          "text": [
            "What's your name?\n",
            "What\"s your name?\n",
            "What's your name?\n"
          ]
        }
      ]
    },
    {
      "cell_type": "code",
      "source": [
        "a=5\n",
        "b=2\n",
        "res=a+b\n",
        "print(res)\n",
        "print(a+b)"
      ],
      "metadata": {
        "id": "-zeZgn-UQ0AT",
        "outputId": "5b2f10eb-a5a1-4be4-b570-53c20186dd79",
        "colab": {
          "base_uri": "https://localhost:8080/"
        }
      },
      "execution_count": null,
      "outputs": [
        {
          "output_type": "stream",
          "name": "stdout",
          "text": [
            "7\n",
            "7\n"
          ]
        }
      ]
    },
    {
      "cell_type": "markdown",
      "source": [
        "**variable Name**"
      ],
      "metadata": {
        "id": "itL52M9sSBcj"
      }
    },
    {
      "cell_type": "code",
      "source": [
        "_a=10\n",
        "print(_a)\n",
        "a=9\n",
        "print(a)\n",
        "A=8\n",
        "print(A)\n",
        "print(a+A+_a)"
      ],
      "metadata": {
        "id": "iIgWP6t8SASU",
        "outputId": "5e0da86f-a00f-4f52-a286-cd43687467ab",
        "colab": {
          "base_uri": "https://localhost:8080/"
        }
      },
      "execution_count": null,
      "outputs": [
        {
          "output_type": "stream",
          "name": "stdout",
          "text": [
            "10\n",
            "9\n",
            "8\n",
            "27\n"
          ]
        }
      ]
    },
    {
      "cell_type": "markdown",
      "source": [
        "**Change in Data Type**"
      ],
      "metadata": {
        "id": "LctQL7jNSjWY"
      }
    },
    {
      "cell_type": "code",
      "source": [
        "a=\"Anurag\"\n",
        "print(a)\n",
        "a=5\n",
        "print(a)\n",
        "a=-2\n",
        "print(a)\n",
        "a=1.2\n",
        "print(a)\n",
        "a=\"Anurag\"\n",
        "a=5\n",
        "a=-2\n",
        "a=1.2\n",
        "print(a)"
      ],
      "metadata": {
        "id": "GFh6XibuSnmK",
        "outputId": "37218798-4657-49bd-847f-f270c05e848a",
        "colab": {
          "base_uri": "https://localhost:8080/"
        }
      },
      "execution_count": null,
      "outputs": [
        {
          "output_type": "stream",
          "name": "stdout",
          "text": [
            "Anurag\n",
            "5\n",
            "-2\n",
            "1.2\n",
            "1.2\n"
          ]
        }
      ]
    },
    {
      "cell_type": "markdown",
      "source": [
        "**Operators**\n",
        "\n",
        "Arithmatic operators  + - * /\n",
        "Other Operator // %"
      ],
      "metadata": {
        "id": "Go_H1uaIU3JR"
      }
    },
    {
      "cell_type": "code",
      "source": [
        "2+5"
      ],
      "metadata": {
        "id": "TqHXW3xZVDjB",
        "outputId": "b758231b-1dc3-4a4b-c35c-9a0eee3686bc",
        "colab": {
          "base_uri": "https://localhost:8080/"
        }
      },
      "execution_count": null,
      "outputs": [
        {
          "output_type": "execute_result",
          "data": {
            "text/plain": [
              "7"
            ]
          },
          "metadata": {},
          "execution_count": 10
        }
      ]
    },
    {
      "cell_type": "code",
      "source": [
        "2-3"
      ],
      "metadata": {
        "id": "zxujQtm2VGOo",
        "outputId": "d81b58b7-5a80-4ca3-a42c-6b9d45c05703",
        "colab": {
          "base_uri": "https://localhost:8080/"
        }
      },
      "execution_count": null,
      "outputs": [
        {
          "output_type": "execute_result",
          "data": {
            "text/plain": [
              "-1"
            ]
          },
          "metadata": {},
          "execution_count": 11
        }
      ]
    },
    {
      "cell_type": "code",
      "source": [
        "5/2"
      ],
      "metadata": {
        "id": "BLSFhwr7VM3J",
        "outputId": "3a8125db-d4b5-4691-b49e-a8ce0a83ac3d",
        "colab": {
          "base_uri": "https://localhost:8080/"
        }
      },
      "execution_count": null,
      "outputs": [
        {
          "output_type": "execute_result",
          "data": {
            "text/plain": [
              "2.5"
            ]
          },
          "metadata": {},
          "execution_count": 12
        }
      ]
    },
    {
      "cell_type": "code",
      "source": [
        "6/3"
      ],
      "metadata": {
        "id": "c9Ymlt_QVQLG",
        "outputId": "8ec9b0f2-a6de-4dcd-bdaf-a1bff9a03544",
        "colab": {
          "base_uri": "https://localhost:8080/"
        }
      },
      "execution_count": null,
      "outputs": [
        {
          "output_type": "execute_result",
          "data": {
            "text/plain": [
              "2.0"
            ]
          },
          "metadata": {},
          "execution_count": 13
        }
      ]
    },
    {
      "cell_type": "markdown",
      "source": [
        "Python division always returns floating point int/int = float\n",
        "If you need integer then use // like int//int = int"
      ],
      "metadata": {
        "id": "7cX5njDiVS-h"
      }
    },
    {
      "cell_type": "code",
      "source": [
        "6//3"
      ],
      "metadata": {
        "id": "bfDe-NjbVkZF",
        "outputId": "608c0781-adbc-46ac-c2f0-0bf6f9e940ee",
        "colab": {
          "base_uri": "https://localhost:8080/"
        }
      },
      "execution_count": null,
      "outputs": [
        {
          "output_type": "execute_result",
          "data": {
            "text/plain": [
              "2"
            ]
          },
          "metadata": {},
          "execution_count": 14
        }
      ]
    },
    {
      "cell_type": "markdown",
      "source": [
        "Mod operator % - it returns the remainder (Numnerator % denominator)\n",
        "if denominator is greater than Numerator then Numerator is returned as is"
      ],
      "metadata": {
        "id": "davMX2XqV5bM"
      }
    },
    {
      "cell_type": "code",
      "source": [
        "6%4"
      ],
      "metadata": {
        "id": "M7vvFOzdV3yO",
        "outputId": "1dbd3261-1027-45a0-e08e-c99ce8c09b71",
        "colab": {
          "base_uri": "https://localhost:8080/"
        }
      },
      "execution_count": null,
      "outputs": [
        {
          "output_type": "execute_result",
          "data": {
            "text/plain": [
              "2"
            ]
          },
          "metadata": {},
          "execution_count": 16
        }
      ]
    },
    {
      "cell_type": "code",
      "source": [
        "4%6"
      ],
      "metadata": {
        "id": "gOfIN9UBWiaH",
        "outputId": "77879e8d-fa76-4784-bb9a-fef6de45a16d",
        "colab": {
          "base_uri": "https://localhost:8080/"
        }
      },
      "execution_count": null,
      "outputs": [
        {
          "output_type": "execute_result",
          "data": {
            "text/plain": [
              "4"
            ]
          },
          "metadata": {},
          "execution_count": 17
        }
      ]
    },
    {
      "cell_type": "code",
      "source": [
        "3%2"
      ],
      "metadata": {
        "id": "hN4qego3Wkr8",
        "outputId": "93096acd-9ecc-4ae4-e799-3e3b9ceb3209",
        "colab": {
          "base_uri": "https://localhost:8080/"
        }
      },
      "execution_count": null,
      "outputs": [
        {
          "output_type": "execute_result",
          "data": {
            "text/plain": [
              "1"
            ]
          },
          "metadata": {},
          "execution_count": 18
        }
      ]
    },
    {
      "cell_type": "code",
      "source": [
        "12312231913931%3"
      ],
      "metadata": {
        "id": "CKXmAPbdWmmF",
        "outputId": "f5def31d-ad01-4183-95ed-5e02e01b7776",
        "colab": {
          "base_uri": "https://localhost:8080/"
        }
      },
      "execution_count": null,
      "outputs": [
        {
          "output_type": "execute_result",
          "data": {
            "text/plain": [
              "2"
            ]
          },
          "metadata": {},
          "execution_count": 19
        }
      ]
    },
    {
      "cell_type": "markdown",
      "source": [
        "**input method for prompt**"
      ],
      "metadata": {
        "id": "wuJPnRIZWye3"
      }
    },
    {
      "cell_type": "code",
      "execution_count": null,
      "metadata": {
        "colab": {
          "base_uri": "https://localhost:8080/"
        },
        "id": "2ez6tn06P1My",
        "outputId": "7738fac8-4856-4fcd-d61a-51ba34acc084"
      },
      "outputs": [
        {
          "output_type": "stream",
          "name": "stdout",
          "text": [
            "What is your name? Anurag\n",
            "Hello, Anurag\n"
          ]
        }
      ],
      "source": [
        "user_name = input('What is your name? ')\n",
        "print('Hello,', user_name)"
      ]
    },
    {
      "cell_type": "code",
      "source": [
        "num1 = input('First Number = ')\n",
        "num2 = input('Second Number = ')\n",
        "res = num1/num2"
      ],
      "metadata": {
        "id": "hJECzLmJYLnv"
      },
      "execution_count": null,
      "outputs": []
    },
    {
      "cell_type": "code",
      "source": [
        "x=11\n",
        "y=4\n",
        "x=x%y\n",
        "y=y%x\n",
        "print(x, y)"
      ],
      "metadata": {
        "id": "_h8ARaAqY3N4",
        "outputId": "141f3675-1c39-4790-ed92-c8c3159a8089",
        "colab": {
          "base_uri": "https://localhost:8080/"
        }
      },
      "execution_count": 21,
      "outputs": [
        {
          "output_type": "stream",
          "name": "stdout",
          "text": [
            "3 1\n"
          ]
        }
      ]
    },
    {
      "cell_type": "code",
      "source": [
        "print('let it' + 'snow')\n",
        "print('and' + 'snow')\n",
        "print('let it ' + 'snow')\n",
        "print('and' + ' snow')\n",
        "print('let it' +     'snow')\n",
        "print(        'and' + 'snow')"
      ],
      "metadata": {
        "id": "28HMd-VqZa10",
        "outputId": "1ca649a3-8a0c-4f12-af71-08a3fffb21a0",
        "colab": {
          "base_uri": "https://localhost:8080/"
        }
      },
      "execution_count": 23,
      "outputs": [
        {
          "output_type": "stream",
          "name": "stdout",
          "text": [
            "let itsnow\n",
            "andsnow\n",
            "let it snow\n",
            "and snow\n",
            "let itsnow\n",
            "andsnow\n"
          ]
        }
      ]
    },
    {
      "cell_type": "code",
      "source": [
        "a='2'\n",
        "b='3'\n",
        "print(a+b)"
      ],
      "metadata": {
        "id": "g7Z3wbo1Z5a4",
        "outputId": "b7fdce5c-1527-4996-b0bd-148a7f76dedb",
        "colab": {
          "base_uri": "https://localhost:8080/"
        }
      },
      "execution_count": 25,
      "outputs": [
        {
          "output_type": "stream",
          "name": "stdout",
          "text": [
            "23\n"
          ]
        }
      ]
    },
    {
      "cell_type": "code",
      "source": [
        "Int within single quotes is treated as string"
      ],
      "metadata": {
        "id": "PmlViHiXaMDl"
      },
      "execution_count": null,
      "outputs": []
    },
    {
      "cell_type": "code",
      "source": [
        "inpu('Hi , how old are you?')"
      ],
      "metadata": {
        "id": "qrNIBCXFaeKt",
        "outputId": "fc080b97-dde2-4bb0-cadb-b9b50dacdf24",
        "colab": {
          "base_uri": "https://localhost:8080/",
          "height": 144
        }
      },
      "execution_count": 26,
      "outputs": [
        {
          "output_type": "error",
          "ename": "NameError",
          "evalue": "name 'inpu' is not defined",
          "traceback": [
            "\u001b[0;31m---------------------------------------------------------------------------\u001b[0m",
            "\u001b[0;31mNameError\u001b[0m                                 Traceback (most recent call last)",
            "\u001b[0;32m<ipython-input-26-2c76381d0b9d>\u001b[0m in \u001b[0;36m<cell line: 1>\u001b[0;34m()\u001b[0m\n\u001b[0;32m----> 1\u001b[0;31m \u001b[0minpu\u001b[0m\u001b[0;34m(\u001b[0m\u001b[0;34m'Hi , how old are you?'\u001b[0m\u001b[0;34m)\u001b[0m\u001b[0;34m\u001b[0m\u001b[0;34m\u001b[0m\u001b[0m\n\u001b[0m",
            "\u001b[0;31mNameError\u001b[0m: name 'inpu' is not defined"
          ]
        }
      ]
    }
  ],
  "metadata": {
    "kernelspec": {
      "display_name": "Python 3",
      "language": "python",
      "name": "python3"
    },
    "language_info": {
      "codemirror_mode": {
        "name": "ipython",
        "version": 3
      },
      "file_extension": ".py",
      "mimetype": "text/x-python",
      "name": "python",
      "nbconvert_exporter": "python",
      "pygments_lexer": "ipython3",
      "version": "3.6.5"
    },
    "colab": {
      "provenance": []
    }
  },
  "nbformat": 4,
  "nbformat_minor": 0
}