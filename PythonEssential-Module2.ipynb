{
  "cells": [
    {
      "cell_type": "markdown",
      "source": [
        "# Module 2"
      ],
      "metadata": {
        "id": "wNMsQu1JAxNr"
      },
      "id": "wNMsQu1JAxNr"
    },
    {
      "cell_type": "code",
      "source": [
        "#The way in which we are passing the arguments into the print() function is the most common in Python,\n",
        "#and is called the positional way (this name comes from the fact that the meaning of the argument is dictated by its position,\n",
        "#e.g., the second argument will be outputted after the first, not the other way round).\n",
        "print(\"The itsy bitsy spider\" , \"climbed up\" , \"the waterspout.\")\n",
        "print(\"My name is\", \"Python.\")\n",
        "print(\"Monty Python.\")"
      ],
      "metadata": {
        "colab": {
          "base_uri": "https://localhost:8080/"
        },
        "id": "BbRIPT45CVHw",
        "outputId": "2eba40e4-a850-4dd6-9f5b-839a734e5892"
      },
      "id": "BbRIPT45CVHw",
      "execution_count": null,
      "outputs": [
        {
          "output_type": "stream",
          "name": "stdout",
          "text": [
            "The itsy bitsy spider climbed up the waterspout.\n",
            "My name is Python.\n",
            "Monty Python.\n"
          ]
        }
      ]
    },
    {
      "cell_type": "code",
      "source": [
        "#keyword arguments. The name stems from the fact that the meaning of these arguments is taken not from its location (position)\n",
        "#but from the special word (keyword) used to identify them.\n",
        "print(\"My name is \", end=\"\")\n",
        "print(\"Monty Python.\")\n",
        "print(\"My\", \"name\", \"is\", \"Monty\", \"Python.\", sep=\"-\")\n",
        "print(\"My\", \"name\", \"is\", sep=\"_\", end=\"*\")\n",
        "print(\"Monty\", \"Python.\", sep=\"*\", end=\"*\\n\")\n",
        "#The default behavior reflects the situation where the end keyword argument is implicitly used in the following way: end=\"\\n\"."
      ],
      "metadata": {
        "colab": {
          "base_uri": "https://localhost:8080/"
        },
        "id": "RWgRgXW8Btxw",
        "outputId": "a2f77100-cf6f-4181-a2c8-1a519992642a"
      },
      "id": "RWgRgXW8Btxw",
      "execution_count": null,
      "outputs": [
        {
          "output_type": "stream",
          "name": "stdout",
          "text": [
            "My_name_is*Monty*Python.*\n"
          ]
        }
      ]
    },
    {
      "cell_type": "markdown",
      "source": [
        "1. The print() function is a built-in function. It prints/outputs a specified message to the screen/console window.\n",
        "\n",
        "2. Built-in functions, contrary to user-defined functions, are always available and don't have to be imported. Python 3.8 comes with 69 built-in functions. You can find their full list provided in alphabetical order in the Python Standard Library.\n",
        "\n",
        "3. To call a function (this process is known as function invocation or function call), you need to use the function name followed by parentheses. You can pass arguments into a function by placing them inside the parentheses. You must separate arguments with a comma, e.g., print(\"Hello,\", \"world!\"). An \"empty\" print() function outputs an empty line to the screen.\n",
        "\n",
        "4. Python strings are delimited with quotes, e.g., \"I am a string\" (double quotes), or 'I am a string, too' (single quotes).\n",
        "\n",
        "5. Computer programs are collections of instructions. An instruction is a command to perform a specific task when executed, e.g., to print a certain message to the screen.\n",
        "\n",
        "6. In Python strings the backslash (\\) is a special character which announces that the next character has a different meaning, e.g., \\n (the newline character) starts a new output line.\n",
        "\n",
        "7. Positional arguments are the ones whose meaning is dictated by their position, e.g., the second argument is outputted after the first, the third is outputted after the second, etc.\n",
        "\n",
        "8. Keyword arguments are the ones whose meaning is not dictated by their location, but by a special word (keyword) used to identify them.\n",
        "\n",
        "9. The end and sep parameters can be used for formatting the output of the print() function. The sep parameter specifies the separator between the outputted arguments, e.g., print(\"H\", \"E\", \"L\", \"L\", \"O\", sep=\"-\"), whereas the end parameter specifies what to print at the end of the print statement.\n"
      ],
      "metadata": {
        "id": "3m0HrEx7BRtd"
      },
      "id": "3m0HrEx7BRtd"
    },
    {
      "cell_type": "code",
      "source": [
        "print(\"H\", \"E\", \"L\", \"L\", \"O\", sep=\"-\")"
      ],
      "metadata": {
        "colab": {
          "base_uri": "https://localhost:8080/"
        },
        "id": "A7S-tN1lBJX2",
        "outputId": "fe7d50ed-a009-429e-8a81-bc5c3cb9b7a1"
      },
      "id": "A7S-tN1lBJX2",
      "execution_count": null,
      "outputs": [
        {
          "output_type": "stream",
          "name": "stdout",
          "text": [
            "H-E-L-L-O\n"
          ]
        }
      ]
    },
    {
      "cell_type": "markdown",
      "source": [
        "Try to:\n",
        "\n",
        "minimize the number of print() function invocations by inserting the \\n sequence into the strings\n",
        "make the arrow twice as large (but keep the proportions)\n",
        "duplicate the arrow, placing both arrows side by side; note: a string may be multiplied by using the following trick: \"string\" * 2 will produce \"stringstring\" (we'll tell you more about it soon)\n",
        "remove any of the quotes, and look carefully at Python's response; pay attention to where Python sees an error - is this the place where the error really exists?\n",
        "do the same with some of the parentheses;\n",
        "change any of the print words into something else, differing only in case (e.g., Print) - what happens now?\n",
        "replace some of the quotes with apostrophes; watch what happens carefully."
      ],
      "metadata": {
        "id": "8xLQMJwlBhyb"
      },
      "id": "8xLQMJwlBhyb"
    },
    {
      "cell_type": "code",
      "source": [
        "print(\"    *\")\n",
        "print(\"   * *\")\n",
        "print(\"  *   *\")\n",
        "print(\" *     *\")\n",
        "print(\"***   ***\")\n",
        "print(\"  *   *\")\n",
        "print(\"  *   *\")\n",
        "print(\"  *****\")"
      ],
      "metadata": {
        "colab": {
          "base_uri": "https://localhost:8080/"
        },
        "id": "mT6-ZoOLBlo9",
        "outputId": "10168dad-a787-445e-c7a4-21b8285e6d03"
      },
      "id": "mT6-ZoOLBlo9",
      "execution_count": null,
      "outputs": [
        {
          "output_type": "stream",
          "name": "stdout",
          "text": [
            "    *\n",
            "   * *\n",
            "  *   *\n",
            " *     *\n",
            "***   ***\n",
            "  *   *\n",
            "  *   *\n",
            "  *****\n"
          ]
        }
      ]
    },
    {
      "cell_type": "code",
      "source": [
        "print(\"    *     \"*5)\n",
        "print(\"   * *.   \"*5)\n",
        "print(\"  *   *   \"*5)\n",
        "print(\" *     *  \"*5)\n",
        "print(\"***   *** \"*5)\n",
        "print(\"  *   *   \"*5)\n",
        "print(\"  *   *   \"*5)\n",
        "print(\"  *****   \"*5)"
      ],
      "metadata": {
        "colab": {
          "base_uri": "https://localhost:8080/"
        },
        "id": "bpt2q_PeB9Ra",
        "outputId": "68029b2b-fdaf-4fd6-fcb1-6593af87b3a1"
      },
      "id": "bpt2q_PeB9Ra",
      "execution_count": null,
      "outputs": [
        {
          "output_type": "stream",
          "name": "stdout",
          "text": [
            "    *         *         *         *         *     \n",
            "   * *.      * *.      * *.      * *.      * *.   \n",
            "  *   *     *   *     *   *     *   *     *   *   \n",
            " *     *   *     *   *     *   *     *   *     *  \n",
            "***   *** ***   *** ***   *** ***   *** ***   *** \n",
            "  *   *     *   *     *   *     *   *     *   *   \n",
            "  *   *     *   *     *   *     *   *     *   *   \n",
            "  *****     *****     *****     *****     *****   \n"
          ]
        }
      ]
    },
    {
      "cell_type": "code",
      "source": [
        "#A literal is data whose values are determined by the literal itself.\n",
        "print(123)  #integer\n",
        "print(98.6)  #float =>  non-empty decimal fraction.\n",
        "print(4)  #integer\n",
        "print(4.0)  #float\n",
        "print(3.8E8)  #float =>  scientific notation\n",
        "print(3e8)  #float =>  scientific notation the exponent (the value after the E) has to be an integer\n",
        "print(6.62607E-34)  #float Plank's constant\n",
        "print(0.0000000000000000000001) #float =>  scientific notation\n",
        "#Python always chooses the more economical form of the number's presentation, and you should take this into consideration when creating literals.\n",
        "# 4 is an integer number, whereas 4.0 is a floating-point number.\n",
        "print(1_2_3)  #integer _ is used as seprator and is allowed\n",
        "print('Hello world')  #string\n",
        "print(\"Hello world\")  #string"
      ],
      "metadata": {
        "colab": {
          "base_uri": "https://localhost:8080/"
        },
        "id": "fldCGhiWDGlw",
        "outputId": "c50d2c09-c5ee-4bd5-c254-a95cdc3fd303"
      },
      "id": "fldCGhiWDGlw",
      "execution_count": null,
      "outputs": [
        {
          "output_type": "stream",
          "name": "stdout",
          "text": [
            "123\n",
            "98.6\n",
            "4\n",
            "4.0\n",
            "380000000.0\n",
            "300000000.0\n",
            "6.62607e-34\n",
            "1e-22\n",
            "123\n",
            "Hello world\n",
            "Hello world\n",
            "True\n",
            "False\n"
          ]
        }
      ]
    },
    {
      "cell_type": "code",
      "source": [
        "#If an integer number is preceded by an 0O or 0o prefix (zero-o), it will be treated as an octal value.\n",
        "print(0o123)   #integer\n",
        "#If an integer number is preceded by the prefix 0x or 0X (zero-x), it will be treated as an hexadecimal value.\n",
        "print(0x123)  #integer"
      ],
      "metadata": {
        "colab": {
          "base_uri": "https://localhost:8080/"
        },
        "id": "bq-PgDplD4-Z",
        "outputId": "799fe68e-984c-4856-b2fa-f9d12ef1caf6"
      },
      "id": "bq-PgDplD4-Z",
      "execution_count": null,
      "outputs": [
        {
          "output_type": "stream",
          "name": "stdout",
          "text": [
            "83\n",
            "291\n"
          ]
        }
      ]
    },
    {
      "cell_type": "code",
      "source": [
        "print(True)  #boolean\n",
        "print(False)  #boolean"
      ],
      "metadata": {
        "id": "1Z9nlWmQAaD9"
      },
      "id": "1Z9nlWmQAaD9",
      "execution_count": null,
      "outputs": []
    },
    {
      "cell_type": "markdown",
      "source": [
        "The binding of the operator determines the order of computations performed by some operators with equal priority, put side by side in one expression.\n",
        "\n",
        "Most of Python's operators have left-sided binding, which means that the calculation of the expression is conducted from left to right."
      ],
      "metadata": {
        "id": "Ec2SrsO6B4XB"
      },
      "id": "Ec2SrsO6B4XB"
    },
    {
      "cell_type": "code",
      "source": [
        "print(9 % 6 % 2) # Modulo"
      ],
      "metadata": {
        "id": "1m2KMgjIB3kg",
        "outputId": "05d7e80a-7d97-4019-fbc8-194677927d71",
        "colab": {
          "base_uri": "https://localhost:8080/"
        }
      },
      "id": "1m2KMgjIB3kg",
      "execution_count": null,
      "outputs": [
        {
          "output_type": "stream",
          "name": "stdout",
          "text": [
            "1\n"
          ]
        }
      ]
    },
    {
      "cell_type": "code",
      "source": [
        "print(2 ** 2 ** 3) # the exponentiation operator uses right-sided binding."
      ],
      "metadata": {
        "id": "dEscFhsdCQo_",
        "outputId": "3af73a59-c4e3-4a9a-a43d-342d5fd7b8a0",
        "colab": {
          "base_uri": "https://localhost:8080/"
        }
      },
      "id": "dEscFhsdCQo_",
      "execution_count": null,
      "outputs": [
        {
          "output_type": "stream",
          "name": "stdout",
          "text": [
            "256\n"
          ]
        }
      ]
    },
    {
      "cell_type": "code",
      "source": [
        "print((5 * ((25 % 13) + 100) / (2 * 13)) // 2)\n",
        "print((5 * (12 + 100) / 26) //2)\n",
        "print((5 * 112 / 26) //2)\n",
        "print((560 / 26) //2)\n",
        "print(21.53 //2)"
      ],
      "metadata": {
        "id": "FM0JQLPZC7l2",
        "outputId": "6b8492d1-2ab7-4d59-b97d-bbb44fa4667c",
        "colab": {
          "base_uri": "https://localhost:8080/"
        }
      },
      "id": "FM0JQLPZC7l2",
      "execution_count": null,
      "outputs": [
        {
          "output_type": "stream",
          "name": "stdout",
          "text": [
            "10.0\n",
            "10.0\n",
            "10.0\n",
            "10.0\n",
            "10.0\n"
          ]
        }
      ]
    },
    {
      "cell_type": "code",
      "source": [
        "print((-2 / 4), (2 / 4), (2 // 4), (-2 // 4))\n",
        "print((2 % -4), (2 % 4), (2 ** 3 ** 2))\n",
        "print((2 ** 4), (2 * 4.), (2 * 4))"
      ],
      "metadata": {
        "id": "qyPIZ2PuD8uP",
        "outputId": "cb570920-d82a-4a01-a599-3ffb046f2c86",
        "colab": {
          "base_uri": "https://localhost:8080/"
        }
      },
      "id": "qyPIZ2PuD8uP",
      "execution_count": null,
      "outputs": [
        {
          "output_type": "stream",
          "name": "stdout",
          "text": [
            "-0.5 0.5 0 -1\n",
            "-2 2 512\n",
            "16 8.0 8\n"
          ]
        }
      ]
    },
    {
      "cell_type": "code",
      "source": [
        "#You can use the print() function and combine text and variables using the + operator to output strings and variables\n",
        "var = \"3.8.5\"\n",
        "print(\"Python version: \" + var)"
      ],
      "metadata": {
        "colab": {
          "base_uri": "https://localhost:8080/"
        },
        "id": "2xAcZiJwI4aF",
        "outputId": "b397983b-45cf-428c-bb49-eb6c16cbe1fe"
      },
      "id": "2xAcZiJwI4aF",
      "execution_count": 1,
      "outputs": [
        {
          "output_type": "stream",
          "name": "stdout",
          "text": [
            "Python version: 3.8.5\n"
          ]
        }
      ]
    },
    {
      "cell_type": "markdown",
      "source": [
        "Pythagorean theorem:\n",
        "\n",
        "The square of the hypotenuse is equal to the sum of the squares of the other two sides."
      ],
      "metadata": {
        "id": "ncnkz_oVJW-E"
      },
      "id": "ncnkz_oVJW-E"
    },
    {
      "cell_type": "code",
      "source": [
        "a = 3.0\n",
        "b = 4.0\n",
        "c = (a ** 2 + b ** 2) ** 0.5 #square root\n",
        "print(\"c =\", c)"
      ],
      "metadata": {
        "colab": {
          "base_uri": "https://localhost:8080/"
        },
        "id": "JNvV9DYaJWDv",
        "outputId": "fab8b923-d44b-47fe-ea99-11ca3bb94b2a"
      },
      "id": "JNvV9DYaJWDv",
      "execution_count": 2,
      "outputs": [
        {
          "output_type": "stream",
          "name": "stdout",
          "text": [
            "c = 5.0\n"
          ]
        }
      ]
    },
    {
      "cell_type": "markdown",
      "source": [
        "Once upon a time in Appleland, John had three apples, Mary had five apples, and Adam had six apples. They were all very happy and lived for a long time. End of story.\n",
        "\n",
        "Your task is to:\n",
        "\n",
        "* create the variables: john, mary, and adam;\n",
        "* assign values to the variables. The values must be equal to the numbers of fruit possessed by John, Mary, and Adam respectively;\n",
        "* having stored the numbers in the variables, print the variables on one line, and separate each of them with a comma;\n",
        "* now create a new variable named total_apples equal to addition of the three former variables.\n",
        "* print the value stored in total_apples to the console;\n",
        "* experiment with your code: create new variables, assign different values to them, and perform various arithmetic operations on them (e.g., +, -, *, /, //, etc.). Try to print a string and an integer together on one line, e.g., \"Total number of apples:\" and total_apples."
      ],
      "metadata": {
        "id": "_-aoVqWsJpfZ"
      },
      "id": "_-aoVqWsJpfZ"
    },
    {
      "cell_type": "code",
      "source": [
        "john = 3\n",
        "mary = 5\n",
        "adam = 6\n",
        "print(john, mary, adam, sep=\", \")\n",
        "total_apples = john + mary + adam\n",
        "print(\"Total number of apples:\"+ total_apples)"
      ],
      "metadata": {
        "colab": {
          "base_uri": "https://localhost:8080/",
          "height": 193
        },
        "id": "uxvC145cKBdz",
        "outputId": "4f0c81df-fe80-41f8-c965-7b6a7e29d64a"
      },
      "id": "uxvC145cKBdz",
      "execution_count": 4,
      "outputs": [
        {
          "output_type": "stream",
          "name": "stdout",
          "text": [
            "3, 5, 6\n"
          ]
        },
        {
          "output_type": "error",
          "ename": "TypeError",
          "evalue": "can only concatenate str (not \"int\") to str",
          "traceback": [
            "\u001b[0;31m---------------------------------------------------------------------------\u001b[0m",
            "\u001b[0;31mTypeError\u001b[0m                                 Traceback (most recent call last)",
            "\u001b[0;32m<ipython-input-4-5eab5d70d06e>\u001b[0m in \u001b[0;36m<cell line: 6>\u001b[0;34m()\u001b[0m\n\u001b[1;32m      4\u001b[0m \u001b[0mprint\u001b[0m\u001b[0;34m(\u001b[0m\u001b[0mjohn\u001b[0m\u001b[0;34m,\u001b[0m \u001b[0mmary\u001b[0m\u001b[0;34m,\u001b[0m \u001b[0madam\u001b[0m\u001b[0;34m,\u001b[0m \u001b[0msep\u001b[0m\u001b[0;34m=\u001b[0m\u001b[0;34m\", \"\u001b[0m\u001b[0;34m)\u001b[0m\u001b[0;34m\u001b[0m\u001b[0;34m\u001b[0m\u001b[0m\n\u001b[1;32m      5\u001b[0m \u001b[0mtotal_apples\u001b[0m \u001b[0;34m=\u001b[0m \u001b[0mjohn\u001b[0m \u001b[0;34m+\u001b[0m \u001b[0mmary\u001b[0m \u001b[0;34m+\u001b[0m \u001b[0madam\u001b[0m\u001b[0;34m\u001b[0m\u001b[0;34m\u001b[0m\u001b[0m\n\u001b[0;32m----> 6\u001b[0;31m \u001b[0mprint\u001b[0m\u001b[0;34m(\u001b[0m\u001b[0;34m\"Total number of apples:\"\u001b[0m\u001b[0;34m+\u001b[0m \u001b[0mtotal_apples\u001b[0m\u001b[0;34m)\u001b[0m\u001b[0;34m\u001b[0m\u001b[0;34m\u001b[0m\u001b[0m\n\u001b[0m",
            "\u001b[0;31mTypeError\u001b[0m: can only concatenate str (not \"int\") to str"
          ]
        }
      ]
    },
    {
      "cell_type": "code",
      "source": [
        "print(\"Total number of apples:\", total_apples)"
      ],
      "metadata": {
        "colab": {
          "base_uri": "https://localhost:8080/"
        },
        "id": "E03YD0QrKsjT",
        "outputId": "79aef3e4-227f-40ae-b3e6-307ccaee7e26"
      },
      "id": "E03YD0QrKsjT",
      "execution_count": 5,
      "outputs": [
        {
          "output_type": "stream",
          "name": "stdout",
          "text": [
            "Total number of apples: 14\n"
          ]
        }
      ]
    },
    {
      "cell_type": "code",
      "source": [
        "anything = input(\"Tell me anything...\")\n",
        "print(\"Hmm...\", anything, \"...Really?\")\n",
        "#the result of the input() function is always a string."
      ],
      "metadata": {
        "colab": {
          "base_uri": "https://localhost:8080/"
        },
        "id": "BJsF7tzgHvKL",
        "outputId": "4e5db416-207e-46f8-dd9f-83e38ccf4428"
      },
      "id": "BJsF7tzgHvKL",
      "execution_count": 1,
      "outputs": [
        {
          "output_type": "stream",
          "name": "stdout",
          "text": [
            "Tell me anything...rapapampam\n",
            "Hmm... rapapampam ...Really?\n"
          ]
        }
      ]
    },
    {
      "cell_type": "code",
      "source": [
        "# Testing TypeError message.\n",
        "\n",
        "anything = input(\"Enter a number: \")\n",
        "something = anything ** 2.0\n",
        "print(anything, \"to the power of 2 is\", something)\n"
      ],
      "metadata": {
        "colab": {
          "base_uri": "https://localhost:8080/",
          "height": 211
        },
        "id": "WjlO3V_jIOOg",
        "outputId": "52f5f468-72a5-4096-d8b3-693ce2ba8dba"
      },
      "id": "WjlO3V_jIOOg",
      "execution_count": 2,
      "outputs": [
        {
          "name": "stdout",
          "output_type": "stream",
          "text": [
            "Enter a number: 4\n"
          ]
        },
        {
          "output_type": "error",
          "ename": "TypeError",
          "evalue": "unsupported operand type(s) for ** or pow(): 'str' and 'float'",
          "traceback": [
            "\u001b[0;31m---------------------------------------------------------------------------\u001b[0m",
            "\u001b[0;31mTypeError\u001b[0m                                 Traceback (most recent call last)",
            "\u001b[0;32m<ipython-input-2-2ae6fe6a9cdb>\u001b[0m in \u001b[0;36m<cell line: 4>\u001b[0;34m()\u001b[0m\n\u001b[1;32m      2\u001b[0m \u001b[0;34m\u001b[0m\u001b[0m\n\u001b[1;32m      3\u001b[0m \u001b[0manything\u001b[0m \u001b[0;34m=\u001b[0m \u001b[0minput\u001b[0m\u001b[0;34m(\u001b[0m\u001b[0;34m\"Enter a number: \"\u001b[0m\u001b[0;34m)\u001b[0m\u001b[0;34m\u001b[0m\u001b[0;34m\u001b[0m\u001b[0m\n\u001b[0;32m----> 4\u001b[0;31m \u001b[0msomething\u001b[0m \u001b[0;34m=\u001b[0m \u001b[0manything\u001b[0m \u001b[0;34m**\u001b[0m \u001b[0;36m2.0\u001b[0m\u001b[0;34m\u001b[0m\u001b[0;34m\u001b[0m\u001b[0m\n\u001b[0m\u001b[1;32m      5\u001b[0m \u001b[0mprint\u001b[0m\u001b[0;34m(\u001b[0m\u001b[0manything\u001b[0m\u001b[0;34m,\u001b[0m \u001b[0;34m\"to the power of 2 is\"\u001b[0m\u001b[0;34m,\u001b[0m \u001b[0msomething\u001b[0m\u001b[0;34m)\u001b[0m\u001b[0;34m\u001b[0m\u001b[0;34m\u001b[0m\u001b[0m\n",
            "\u001b[0;31mTypeError\u001b[0m: unsupported operand type(s) for ** or pow(): 'str' and 'float'"
          ]
        }
      ]
    },
    {
      "cell_type": "code",
      "source": [
        "leg_a = float(input(\"Input first leg length: \"))\n",
        "leg_b = float(input(\"Input second leg length: \"))\n",
        "hypo = (leg_a**2 + leg_b**2) ** .5\n",
        "print(\"Hypotenuse length is\", hypo)\n",
        "print(\"Hypotenuse length is\", (leg_a**2 + leg_b**2) ** .5)"
      ],
      "metadata": {
        "colab": {
          "base_uri": "https://localhost:8080/"
        },
        "id": "E9q6Tb1-IQKx",
        "outputId": "8dda2325-2aa9-41b2-dbf6-f17705e6a75a"
      },
      "id": "E9q6Tb1-IQKx",
      "execution_count": 4,
      "outputs": [
        {
          "output_type": "stream",
          "name": "stdout",
          "text": [
            "Input first leg length: 3\n",
            "Input second leg length: 4\n",
            "Hypotenuse length is 5.0\n",
            "Hypotenuse length is 5.0\n"
          ]
        }
      ]
    },
    {
      "cell_type": "code",
      "source": [
        "#if you want the + sign to be a concatenator, not an adder, you must ensure that both its arguments are strings\n",
        "fnam = input(\"May I have your first name, please? \")\n",
        "lnam = input(\"May I have your last name, please? \")\n",
        "print(\"Thank you.\")\n",
        "print(\"\\nYour name is \" + fnam + \" \" + lnam + \".\")"
      ],
      "metadata": {
        "colab": {
          "base_uri": "https://localhost:8080/"
        },
        "id": "AZj7rQumJIDe",
        "outputId": "fe4dfaa1-e5ad-45d1-ea5a-9ea1a9c9f12f"
      },
      "id": "AZj7rQumJIDe",
      "execution_count": 5,
      "outputs": [
        {
          "output_type": "stream",
          "name": "stdout",
          "text": [
            "May I have your first name, please? Anurag\n",
            "May I have your last name, please? Shandilya\n",
            "Thank you.\n",
            "\n",
            "Your name is Anurag Shandilya.\n"
          ]
        }
      ]
    },
    {
      "cell_type": "code",
      "source": [
        "#You cannot mix types here.\n",
        "print(\"The sum of 2 + 3 is\"+5)"
      ],
      "metadata": {
        "colab": {
          "base_uri": "https://localhost:8080/",
          "height": 159
        },
        "id": "yPhHEQbSJTwC",
        "outputId": "0ac8ed2a-8f56-42c6-a1f6-40626abc5460"
      },
      "id": "yPhHEQbSJTwC",
      "execution_count": 6,
      "outputs": [
        {
          "output_type": "error",
          "ename": "TypeError",
          "evalue": "can only concatenate str (not \"int\") to str",
          "traceback": [
            "\u001b[0;31m---------------------------------------------------------------------------\u001b[0m",
            "\u001b[0;31mTypeError\u001b[0m                                 Traceback (most recent call last)",
            "\u001b[0;32m<ipython-input-6-c6fb53167fe7>\u001b[0m in \u001b[0;36m<cell line: 2>\u001b[0;34m()\u001b[0m\n\u001b[1;32m      1\u001b[0m \u001b[0;31m#You cannot mix types here.\u001b[0m\u001b[0;34m\u001b[0m\u001b[0;34m\u001b[0m\u001b[0m\n\u001b[0;32m----> 2\u001b[0;31m \u001b[0mprint\u001b[0m\u001b[0;34m(\u001b[0m\u001b[0;34m\"The sum of 2 + 3 is\"\u001b[0m\u001b[0;34m+\u001b[0m\u001b[0;36m5\u001b[0m\u001b[0;34m)\u001b[0m\u001b[0;34m\u001b[0m\u001b[0;34m\u001b[0m\u001b[0m\n\u001b[0m",
            "\u001b[0;31mTypeError\u001b[0m: can only concatenate str (not \"int\") to str"
          ]
        }
      ]
    },
    {
      "cell_type": "markdown",
      "source": [
        "Your task is to prepare a simple code able to evaluate the end time of a period of time, given as a number of minutes (it could be arbitrarily large). The start time is given as a pair of hours (0..23) and minutes (0..59). The result has to be printed to the console.\n",
        "\n",
        "For example, if an event starts at 12:17 and lasts 59 minutes, it will end at 13:16.\n",
        "\n",
        "\n",
        "Sample input:\n",
        "12\n",
        "17\n",
        "59\n",
        "\n",
        "Expected output: 13:16\n",
        "\n",
        "Sample input:\n",
        "23\n",
        "58\n",
        "642\n",
        "\n",
        "Expected output: 10:40"
      ],
      "metadata": {
        "id": "8nYE63MSxH-S"
      },
      "id": "8nYE63MSxH-S"
    },
    {
      "cell_type": "code",
      "source": [
        "hour = int(input(\"Starting time (hours): \"))\n",
        "mins = int(input(\"Starting time (minutes): \"))\n",
        "dura = int(input(\"Event duration (minutes): \"))\n",
        "print(str(((hour * 60 + mins + dura)//60)%24)+':'+str((hour * 60 + mins + dura) % 60))"
      ],
      "metadata": {
        "id": "TOWLvvC4xKNW",
        "outputId": "a186a180-290b-44cc-fa09-1c13b656b2e0",
        "colab": {
          "base_uri": "https://localhost:8080/"
        }
      },
      "id": "TOWLvvC4xKNW",
      "execution_count": 1,
      "outputs": [
        {
          "output_type": "stream",
          "name": "stdout",
          "text": [
            "Starting time (hours): 23\n",
            "Starting time (minutes): 58\n",
            "Event duration (minutes): 642\n",
            "10:40\n"
          ]
        }
      ]
    },
    {
      "cell_type": "code",
      "source": [
        "y=2+3*5.\n",
        "print(Y)"
      ],
      "metadata": {
        "id": "9-hk-Etc7Hpu",
        "outputId": "484db354-fecc-412d-c57c-568b5695d0a6",
        "colab": {
          "base_uri": "https://localhost:8080/",
          "height": 159
        }
      },
      "id": "9-hk-Etc7Hpu",
      "execution_count": 3,
      "outputs": [
        {
          "output_type": "error",
          "ename": "NameError",
          "evalue": "name 'Y' is not defined",
          "traceback": [
            "\u001b[0;31m---------------------------------------------------------------------------\u001b[0m",
            "\u001b[0;31mNameError\u001b[0m                                 Traceback (most recent call last)",
            "\u001b[0;32m<ipython-input-3-54542d5a57ff>\u001b[0m in \u001b[0;36m<cell line: 2>\u001b[0;34m()\u001b[0m\n\u001b[1;32m      1\u001b[0m \u001b[0my\u001b[0m\u001b[0;34m=\u001b[0m\u001b[0;36m2\u001b[0m\u001b[0;34m+\u001b[0m\u001b[0;36m3\u001b[0m\u001b[0;34m*\u001b[0m\u001b[0;36m5.\u001b[0m\u001b[0;34m\u001b[0m\u001b[0;34m\u001b[0m\u001b[0m\n\u001b[0;32m----> 2\u001b[0;31m \u001b[0mprint\u001b[0m\u001b[0;34m(\u001b[0m\u001b[0mY\u001b[0m\u001b[0;34m)\u001b[0m\u001b[0;34m\u001b[0m\u001b[0;34m\u001b[0m\u001b[0m\n\u001b[0m",
            "\u001b[0;31mNameError\u001b[0m: name 'Y' is not defined"
          ]
        }
      ]
    },
    {
      "cell_type": "code",
      "source": [
        "x=input()\n",
        "y = int(input())\n",
        "print(x,y)\n",
        "print(x*y)"
      ],
      "metadata": {
        "id": "QmVvkb5j7REK",
        "outputId": "6c69c500-0365-4112-9112-c688202f9f6d",
        "colab": {
          "base_uri": "https://localhost:8080/"
        }
      },
      "id": "QmVvkb5j7REK",
      "execution_count": 6,
      "outputs": [
        {
          "output_type": "stream",
          "name": "stdout",
          "text": [
            "3\n",
            "6\n",
            "3 6\n",
            "333333\n"
          ]
        }
      ]
    },
    {
      "cell_type": "code",
      "source": [
        "1//2 *3"
      ],
      "metadata": {
        "id": "5-h_h34_7s-P",
        "outputId": "7eb53713-1031-4275-ff04-9456f7a5535e",
        "colab": {
          "base_uri": "https://localhost:8080/"
        }
      },
      "id": "5-h_h34_7s-P",
      "execution_count": 15,
      "outputs": [
        {
          "output_type": "execute_result",
          "data": {
            "text/plain": [
              "0"
            ]
          },
          "metadata": {},
          "execution_count": 15
        }
      ]
    },
    {
      "cell_type": "code",
      "source": [
        "1/1"
      ],
      "metadata": {
        "id": "weAPWT6M75gA",
        "outputId": "38eea8a7-acee-4978-e629-e35d707d960a",
        "colab": {
          "base_uri": "https://localhost:8080/"
        }
      },
      "id": "weAPWT6M75gA",
      "execution_count": 9,
      "outputs": [
        {
          "output_type": "execute_result",
          "data": {
            "text/plain": [
              "1.0"
            ]
          },
          "metadata": {},
          "execution_count": 9
        }
      ]
    },
    {
      "cell_type": "code",
      "source": [
        "x = int(input())\n",
        "y = int(input())\n",
        "x=x//y\n",
        "print(x)\n",
        "y=y//x\n",
        "print(y)"
      ],
      "metadata": {
        "id": "d1kEjKNT7_c5",
        "outputId": "2d346bd6-3a98-4448-8d9f-28c8e4dbd608",
        "colab": {
          "base_uri": "https://localhost:8080/",
          "height": 245
        }
      },
      "id": "d1kEjKNT7_c5",
      "execution_count": 10,
      "outputs": [
        {
          "output_type": "stream",
          "name": "stdout",
          "text": [
            "2\n",
            "4\n",
            "0\n"
          ]
        },
        {
          "output_type": "error",
          "ename": "ZeroDivisionError",
          "evalue": "integer division or modulo by zero",
          "traceback": [
            "\u001b[0;31m---------------------------------------------------------------------------\u001b[0m",
            "\u001b[0;31mZeroDivisionError\u001b[0m                         Traceback (most recent call last)",
            "\u001b[0;32m<ipython-input-10-22053ddce700>\u001b[0m in \u001b[0;36m<cell line: 5>\u001b[0;34m()\u001b[0m\n\u001b[1;32m      3\u001b[0m \u001b[0mx\u001b[0m\u001b[0;34m=\u001b[0m\u001b[0mx\u001b[0m\u001b[0;34m//\u001b[0m\u001b[0my\u001b[0m\u001b[0;34m\u001b[0m\u001b[0;34m\u001b[0m\u001b[0m\n\u001b[1;32m      4\u001b[0m \u001b[0mprint\u001b[0m\u001b[0;34m(\u001b[0m\u001b[0mx\u001b[0m\u001b[0;34m)\u001b[0m\u001b[0;34m\u001b[0m\u001b[0;34m\u001b[0m\u001b[0m\n\u001b[0;32m----> 5\u001b[0;31m \u001b[0my\u001b[0m\u001b[0;34m=\u001b[0m\u001b[0my\u001b[0m\u001b[0;34m//\u001b[0m\u001b[0mx\u001b[0m\u001b[0;34m\u001b[0m\u001b[0;34m\u001b[0m\u001b[0m\n\u001b[0m\u001b[1;32m      6\u001b[0m \u001b[0mprint\u001b[0m\u001b[0;34m(\u001b[0m\u001b[0my\u001b[0m\u001b[0;34m)\u001b[0m\u001b[0;34m\u001b[0m\u001b[0;34m\u001b[0m\u001b[0m\n",
            "\u001b[0;31mZeroDivisionError\u001b[0m: integer division or modulo by zero"
          ]
        }
      ]
    },
    {
      "cell_type": "code",
      "source": [
        "y = 2 + 3 * 5.\n",
        "print(y)"
      ],
      "metadata": {
        "id": "n4NYTL_Z8S2K",
        "outputId": "d7aa0f49-19e5-44da-ff84-2a9d949094a9",
        "colab": {
          "base_uri": "https://localhost:8080/"
        }
      },
      "id": "n4NYTL_Z8S2K",
      "execution_count": 12,
      "outputs": [
        {
          "output_type": "stream",
          "name": "stdout",
          "text": [
            "17.0\n"
          ]
        }
      ]
    },
    {
      "cell_type": "code",
      "source": [
        "x = 1/2+3//3+4**2\n",
        "print(x)"
      ],
      "metadata": {
        "id": "D3MWNP4_8hG4",
        "outputId": "792b4181-a2a3-4923-a32f-239ccc31b1ac",
        "colab": {
          "base_uri": "https://localhost:8080/"
        }
      },
      "id": "D3MWNP4_8hG4",
      "execution_count": 13,
      "outputs": [
        {
          "output_type": "stream",
          "name": "stdout",
          "text": [
            "17.5\n"
          ]
        }
      ]
    },
    {
      "cell_type": "code",
      "source": [
        "x = 2 % 0\n",
        "print(x)"
      ],
      "metadata": {
        "id": "Nov7OYDB8rmU",
        "outputId": "4868ed0b-fd93-489c-ccb1-8e8655719bc9",
        "colab": {
          "base_uri": "https://localhost:8080/",
          "height": 159
        }
      },
      "id": "Nov7OYDB8rmU",
      "execution_count": 14,
      "outputs": [
        {
          "output_type": "error",
          "ename": "ZeroDivisionError",
          "evalue": "integer division or modulo by zero",
          "traceback": [
            "\u001b[0;31m---------------------------------------------------------------------------\u001b[0m",
            "\u001b[0;31mZeroDivisionError\u001b[0m                         Traceback (most recent call last)",
            "\u001b[0;32m<ipython-input-14-0ded76e13bb3>\u001b[0m in \u001b[0;36m<cell line: 1>\u001b[0;34m()\u001b[0m\n\u001b[0;32m----> 1\u001b[0;31m \u001b[0mx\u001b[0m \u001b[0;34m=\u001b[0m \u001b[0;36m2\u001b[0m \u001b[0;34m%\u001b[0m \u001b[0;36m0\u001b[0m\u001b[0;34m\u001b[0m\u001b[0;34m\u001b[0m\u001b[0m\n\u001b[0m\u001b[1;32m      2\u001b[0m \u001b[0mprint\u001b[0m\u001b[0;34m(\u001b[0m\u001b[0mx\u001b[0m\u001b[0;34m)\u001b[0m\u001b[0;34m\u001b[0m\u001b[0;34m\u001b[0m\u001b[0m\n",
            "\u001b[0;31mZeroDivisionError\u001b[0m: integer division or modulo by zero"
          ]
        }
      ]
    }
  ],
  "metadata": {
    "kernelspec": {
      "display_name": "Python 3 (ipykernel)",
      "language": "python",
      "name": "python3"
    },
    "language_info": {
      "codemirror_mode": {
        "name": "ipython",
        "version": 3
      },
      "file_extension": ".py",
      "mimetype": "text/x-python",
      "name": "python",
      "nbconvert_exporter": "python",
      "pygments_lexer": "ipython3",
      "version": "3.11.5"
    },
    "colab": {
      "provenance": []
    }
  },
  "nbformat": 4,
  "nbformat_minor": 5
}